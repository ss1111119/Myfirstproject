{
  "nbformat": 4,
  "nbformat_minor": 0,
  "metadata": {
    "colab": {
      "provenance": [],
      "authorship_tag": "ABX9TyPpjlRB/p7XGyjhem2Pgqjk",
      "include_colab_link": true
    },
    "kernelspec": {
      "name": "python3",
      "display_name": "Python 3"
    },
    "language_info": {
      "name": "python"
    }
  },
  "cells": [
    {
      "cell_type": "markdown",
      "metadata": {
        "id": "view-in-github",
        "colab_type": "text"
      },
      "source": [
        "<a href=\"https://colab.research.google.com/github/ss1111119/Myfirstproject/blob/main/20220903.ipynb\" target=\"_parent\"><img src=\"https://colab.research.google.com/assets/colab-badge.svg\" alt=\"Open In Colab\"/></a>"
      ]
    },
    {
      "cell_type": "markdown",
      "source": [
        "#網路爬蟲資料收集"
      ],
      "metadata": {
        "id": "P17k1XfKqBGu"
      }
    },
    {
      "cell_type": "markdown",
      "source": [
        "新聞爬取模組"
      ],
      "metadata": {
        "id": "hkKchGnmqDVS"
      }
    },
    {
      "cell_type": "markdown",
      "source": [
        "scraparazzie：Google News新聞爬取"
      ],
      "metadata": {
        "id": "gYxt36J0qFIb"
      }
    },
    {
      "cell_type": "code",
      "execution_count": 2,
      "metadata": {
        "colab": {
          "base_uri": "https://localhost:8080/"
        },
        "id": "_a4seS8rpzEX",
        "outputId": "68eb6f23-e568-4e5a-d5a0-dfefb8cd7f39"
      },
      "outputs": [
        {
          "output_type": "stream",
          "name": "stdout",
          "text": [
            "Looking in indexes: https://pypi.org/simple, https://us-python.pkg.dev/colab-wheels/public/simple/\n",
            "Collecting scraparazzie\n",
            "  Downloading scraparazzie-1.2.7-py3-none-any.whl (8.2 kB)\n",
            "Requirement already satisfied: lxml in /usr/local/lib/python3.7/dist-packages (from scraparazzie) (4.9.1)\n",
            "Requirement already satisfied: requests in /usr/local/lib/python3.7/dist-packages (from scraparazzie) (2.23.0)\n",
            "Requirement already satisfied: beautifulsoup4 in /usr/local/lib/python3.7/dist-packages (from scraparazzie) (4.6.3)\n",
            "Collecting fuzzywuzzy\n",
            "  Downloading fuzzywuzzy-0.18.0-py2.py3-none-any.whl (18 kB)\n",
            "Requirement already satisfied: chardet<4,>=3.0.2 in /usr/local/lib/python3.7/dist-packages (from requests->scraparazzie) (3.0.4)\n",
            "Requirement already satisfied: urllib3!=1.25.0,!=1.25.1,<1.26,>=1.21.1 in /usr/local/lib/python3.7/dist-packages (from requests->scraparazzie) (1.24.3)\n",
            "Requirement already satisfied: idna<3,>=2.5 in /usr/local/lib/python3.7/dist-packages (from requests->scraparazzie) (2.10)\n",
            "Requirement already satisfied: certifi>=2017.4.17 in /usr/local/lib/python3.7/dist-packages (from requests->scraparazzie) (2022.6.15)\n",
            "Installing collected packages: fuzzywuzzy, scraparazzie\n",
            "Successfully installed fuzzywuzzy-0.18.0 scraparazzie-1.2.7\n"
          ]
        }
      ],
      "source": [
        "# 安裝\n",
        "!pip install scraparazzie"
      ]
    },
    {
      "cell_type": "code",
      "source": [
        "# 使用模組\n",
        "from scraparazzie import scraparazzie"
      ],
      "metadata": {
        "colab": {
          "base_uri": "https://localhost:8080/"
        },
        "id": "lCUnwgGGp3N2",
        "outputId": "badbf910-90ed-4043-811f-262b3e5abb26"
      },
      "execution_count": 3,
      "outputs": [
        {
          "output_type": "stream",
          "name": "stderr",
          "text": [
            "/usr/local/lib/python3.7/dist-packages/fuzzywuzzy/fuzz.py:11: UserWarning: Using slow pure-python SequenceMatcher. Install python-Levenshtein to remove this warning\n",
            "  warnings.warn('Using slow pure-python SequenceMatcher. Install python-Levenshtein to remove this warning')\n"
          ]
        }
      ]
    },
    {
      "cell_type": "code",
      "source": [
        "# 建立新聞物件\n",
        "client=scraparazzie.NewsClient(language='chinese traditional',\n",
        "                               location='Taiwan',\n",
        "                               topic='Business',\n",
        "                               max_results=5)\n",
        "client.print_news() # 顯示資料"
      ],
      "metadata": {
        "colab": {
          "base_uri": "https://localhost:8080/"
        },
        "id": "Dua-MlbJp4YX",
        "outputId": "7283d1e9-ef42-44a0-f63e-b32154d1b603"
      },
      "execution_count": 4,
      "outputs": [
        {
          "output_type": "stream",
          "name": "stdout",
          "text": [
            "iPhone 14六大亮點曝光 果粉「愛瘋了」！\n",
            "Yahoo奇摩新聞\n",
            "https://news.google.com/__i/rss/rd/articles/CBMilwFodHRwczovL3R3Lm5ld3MueWFob28uY29tL2lwaG9uZS0xNCVFNSU4NSVBRCVFNSVBNCVBNyVFNCVCQSVBRSVFOSVCQiU5RSVFNiU5QiU5RCVFNSU4NSU4OS0lRTYlOUUlOUMlRTclQjIlODktJUU2JTg0JTlCJUU3JTk4JThCJUU0JUJBJTg2LTEwMTczMDYwOS5odG1s0gGfAWh0dHBzOi8vdHcubmV3cy55YWhvby5jb20vYW1waHRtbC9pcGhvbmUtMTQlRTUlODUlQUQlRTUlQTQlQTclRTQlQkElQUUlRTklQkIlOUUlRTYlOUIlOUQlRTUlODUlODktJUU2JTlFJTlDJUU3JUIyJTg5LSVFNiU4NCU5QiVFNyU5OCU4QiVFNCVCQSU4Ni0xMDE3MzA2MDkuaHRtbA?oc=5\n",
            "Sat, 03 Sep 2022 10:17:30 GMT\n",
            "------------------------------------------------------------\n",
            "嚇！美股爆800點驚悚狂震 2大兇手抓到了\n",
            "Yahoo奇摩股市\n",
            "https://news.google.com/__i/rss/rd/articles/CBMivAFodHRwczovL3R3LnN0b2NrLnlhaG9vLmNvbS9uZXdzLyVFNSU5QSU4Ny0lRTclQkUlOEUlRTglODIlQTElRTclODglODY4MDAlRTklQkIlOUUlRTklQTklOUElRTYlODIlOUElRTclOEIlODIlRTklOUMlODctMiVFNSVBNCVBNyVFNSU4NSU4NyVFNiU4OSU4QiVFNiU4QSU5MyVFNSU4OCVCMCVFNCVCQSU4Ni0xMDEwNDAzMzUuaHRtbNIBxAFodHRwczovL3R3LnN0b2NrLnlhaG9vLmNvbS9hbXBodG1sL25ld3MvJUU1JTlBJTg3LSVFNyVCRSU4RSVFOCU4MiVBMSVFNyU4OCU4NjgwMCVFOSVCQiU5RSVFOSVBOSU5QSVFNiU4MiU5QSVFNyU4QiU4MiVFOSU5QyU4Ny0yJUU1JUE0JUE3JUU1JTg1JTg3JUU2JTg5JThCJUU2JThBJTkzJUU1JTg4JUIwJUU0JUJBJTg2LTEwMTA0MDMzNS5odG1s?oc=5\n",
            "Sat, 03 Sep 2022 10:10:40 GMT\n",
            "------------------------------------------------------------\n",
            "巴菲特逢高再減持比亞迪持股 謝金河揭股神13年後「忍不住出手玄機」\n",
            "Yahoo奇摩新聞\n",
            "https://news.google.com/__i/rss/rd/articles/CBMiqQJodHRwczovL3R3Lm5ld3MueWFob28uY29tLyVFNSVCNyVCNCVFOCU4RiVCMiVFNyU4OSVCOSVFOSU4MCVBMiVFOSVBQiU5OCVFNSU4NiU4RCVFNiVCOCU5QiVFNiU4QyU4MSVFNiVBRiU5NCVFNCVCQSU5RSVFOCVCRiVBQSVFNiU4QyU4MSVFOCU4MiVBMS0lRTglQUMlOUQlRTklODclOTElRTYlQjIlQjMlRTYlOEYlQUQlRTglODIlQTElRTclQTUlOUUxMyVFNSVCOSVCNCVFNSVCRSU4Qy0lRTUlQkYlOEQlRTQlQjglOEQlRTQlQkQlOEYlRTUlODclQkElRTYlODklOEIlRTclOEUlODQlRTYlQTklOUYtMDk1OTM4NDQ2Lmh0bWzSAbECaHR0cHM6Ly90dy5uZXdzLnlhaG9vLmNvbS9hbXBodG1sLyVFNSVCNyVCNCVFOCU4RiVCMiVFNyU4OSVCOSVFOSU4MCVBMiVFOSVBQiU5OCVFNSU4NiU4RCVFNiVCOCU5QiVFNiU4QyU4MSVFNiVBRiU5NCVFNCVCQSU5RSVFOCVCRiVBQSVFNiU4QyU4MSVFOCU4MiVBMS0lRTglQUMlOUQlRTklODclOTElRTYlQjIlQjMlRTYlOEYlQUQlRTglODIlQTElRTclQTUlOUUxMyVFNSVCOSVCNCVFNSVCRSU4Qy0lRTUlQkYlOEQlRTQlQjglOEQlRTQlQkQlOEYlRTUlODclQkElRTYlODklOEIlRTclOEUlODQlRTYlQTklOUYtMDk1OTM4NDQ2Lmh0bWw?oc=5\n",
            "Sat, 03 Sep 2022 09:59:38 GMT\n",
            "------------------------------------------------------------\n",
            "美8月失業率上升 經濟學家為何大讚為好消息？\n",
            "Anue鉅亨\n",
            "https://news.google.com/__i/rss/rd/articles/CBMiJmh0dHBzOi8vbmV3cy5jbnllcy5jb20vbmV3cy9pZC80OTQ1NDc50gEA?oc=5\n",
            "Sat, 03 Sep 2022 04:10:30 GMT\n",
            "------------------------------------------------------------\n",
            "帝國「日落」？印度超英國成世界第5大經濟體\n",
            "自由財經\n",
            "https://news.google.com/__i/rss/rd/articles/CBMiMmh0dHBzOi8vZWMubHRuLmNvbS50dy9hcnRpY2xlL2JyZWFraW5nbmV3cy80MDQ2NjYz0gE2aHR0cHM6Ly9lYy5sdG4uY29tLnR3L2FtcC9hcnRpY2xlL2JyZWFraW5nbmV3cy80MDQ2NjYz?oc=5\n",
            "Sat, 03 Sep 2022 03:57:26 GMT\n",
            "------------------------------------------------------------\n"
          ]
        }
      ]
    },
    {
      "cell_type": "code",
      "source": [
        "# 參數查詢\n",
        "# 新聞物件.languages\n",
        "# 新聞物件.locations\n",
        "# 新聞物件.topics\n",
        "# 新聞物件.get_config()\n",
        "# client.languages\n",
        "client.locations"
      ],
      "metadata": {
        "id": "DlkxJSkdp6Df"
      },
      "execution_count": null,
      "outputs": []
    },
    {
      "cell_type": "markdown",
      "source": [
        "####參數查詢"
      ],
      "metadata": {
        "id": "usZpz-ljqSEr"
      }
    },
    {
      "cell_type": "code",
      "source": [
        "# 參數查詢\n",
        "# 新聞物件.languages\n",
        "# 新聞物件.locations\n",
        "# 新聞物件.topics\n",
        "# 新聞物件.get_config()\n",
        "# client.languages\n",
        "client.locations"
      ],
      "metadata": {
        "id": "acuqDT7QqWYp"
      },
      "execution_count": null,
      "outputs": []
    },
    {
      "cell_type": "code",
      "source": [
        "client.get_config()"
      ],
      "metadata": {
        "colab": {
          "base_uri": "https://localhost:8080/"
        },
        "id": "VyLtTePoqXBl",
        "outputId": "efe33e45-d1b6-460c-a566-95a60839af45"
      },
      "execution_count": 5,
      "outputs": [
        {
          "output_type": "execute_result",
          "data": {
            "text/plain": [
              "{'location': 'Taiwan',\n",
              " 'language': 'chinese traditional',\n",
              " 'topic': 'Business',\n",
              " 'query': None}"
            ]
          },
          "metadata": {},
          "execution_count": 5
        }
      ]
    },
    {
      "cell_type": "markdown",
      "source": [
        "#### 取得新聞資料"
      ],
      "metadata": {
        "id": "S098bUiFqpvF"
      }
    },
    {
      "cell_type": "code",
      "source": [
        "# 串列資料=新聞物件.export_news()\n",
        "items=client.export_news()\n",
        "print(items)"
      ],
      "metadata": {
        "colab": {
          "base_uri": "https://localhost:8080/"
        },
        "id": "reBD4jIyqsQ9",
        "outputId": "f8ca2a74-9261-45fe-bc08-d1e850778ab4"
      },
      "execution_count": 6,
      "outputs": [
        {
          "output_type": "stream",
          "name": "stdout",
          "text": [
            "[{'title': 'iPhone 14六大亮點曝光 果粉「愛瘋了」！', 'source': 'Yahoo奇摩新聞', 'link': 'https://news.google.com/__i/rss/rd/articles/CBMilwFodHRwczovL3R3Lm5ld3MueWFob28uY29tL2lwaG9uZS0xNCVFNSU4NSVBRCVFNSVBNCVBNyVFNCVCQSVBRSVFOSVCQiU5RSVFNiU5QiU5RCVFNSU4NSU4OS0lRTYlOUUlOUMlRTclQjIlODktJUU2JTg0JTlCJUU3JTk4JThCJUU0JUJBJTg2LTEwMTczMDYwOS5odG1s0gGfAWh0dHBzOi8vdHcubmV3cy55YWhvby5jb20vYW1waHRtbC9pcGhvbmUtMTQlRTUlODUlQUQlRTUlQTQlQTclRTQlQkElQUUlRTklQkIlOUUlRTYlOUIlOUQlRTUlODUlODktJUU2JTlFJTlDJUU3JUIyJTg5LSVFNiU4NCU5QiVFNyU5OCU4QiVFNCVCQSU4Ni0xMDE3MzA2MDkuaHRtbA?oc=5', 'publish_date': 'Sat, 03 Sep 2022 10:17:30 GMT'}, {'title': '嚇！美股爆800點驚悚狂震 2大兇手抓到了', 'source': 'Yahoo奇摩股市', 'link': 'https://news.google.com/__i/rss/rd/articles/CBMivAFodHRwczovL3R3LnN0b2NrLnlhaG9vLmNvbS9uZXdzLyVFNSU5QSU4Ny0lRTclQkUlOEUlRTglODIlQTElRTclODglODY4MDAlRTklQkIlOUUlRTklQTklOUElRTYlODIlOUElRTclOEIlODIlRTklOUMlODctMiVFNSVBNCVBNyVFNSU4NSU4NyVFNiU4OSU4QiVFNiU4QSU5MyVFNSU4OCVCMCVFNCVCQSU4Ni0xMDEwNDAzMzUuaHRtbNIBxAFodHRwczovL3R3LnN0b2NrLnlhaG9vLmNvbS9hbXBodG1sL25ld3MvJUU1JTlBJTg3LSVFNyVCRSU4RSVFOCU4MiVBMSVFNyU4OCU4NjgwMCVFOSVCQiU5RSVFOSVBOSU5QSVFNiU4MiU5QSVFNyU4QiU4MiVFOSU5QyU4Ny0yJUU1JUE0JUE3JUU1JTg1JTg3JUU2JTg5JThCJUU2JThBJTkzJUU1JTg4JUIwJUU0JUJBJTg2LTEwMTA0MDMzNS5odG1s?oc=5', 'publish_date': 'Sat, 03 Sep 2022 10:10:40 GMT'}, {'title': '巴菲特逢高再減持比亞迪持股 謝金河揭股神13年後「忍不住出手玄機」', 'source': 'Yahoo奇摩新聞', 'link': 'https://news.google.com/__i/rss/rd/articles/CBMiqQJodHRwczovL3R3Lm5ld3MueWFob28uY29tLyVFNSVCNyVCNCVFOCU4RiVCMiVFNyU4OSVCOSVFOSU4MCVBMiVFOSVBQiU5OCVFNSU4NiU4RCVFNiVCOCU5QiVFNiU4QyU4MSVFNiVBRiU5NCVFNCVCQSU5RSVFOCVCRiVBQSVFNiU4QyU4MSVFOCU4MiVBMS0lRTglQUMlOUQlRTklODclOTElRTYlQjIlQjMlRTYlOEYlQUQlRTglODIlQTElRTclQTUlOUUxMyVFNSVCOSVCNCVFNSVCRSU4Qy0lRTUlQkYlOEQlRTQlQjglOEQlRTQlQkQlOEYlRTUlODclQkElRTYlODklOEIlRTclOEUlODQlRTYlQTklOUYtMDk1OTM4NDQ2Lmh0bWzSAbECaHR0cHM6Ly90dy5uZXdzLnlhaG9vLmNvbS9hbXBodG1sLyVFNSVCNyVCNCVFOCU4RiVCMiVFNyU4OSVCOSVFOSU4MCVBMiVFOSVBQiU5OCVFNSU4NiU4RCVFNiVCOCU5QiVFNiU4QyU4MSVFNiVBRiU5NCVFNCVCQSU5RSVFOCVCRiVBQSVFNiU4QyU4MSVFOCU4MiVBMS0lRTglQUMlOUQlRTklODclOTElRTYlQjIlQjMlRTYlOEYlQUQlRTglODIlQTElRTclQTUlOUUxMyVFNSVCOSVCNCVFNSVCRSU4Qy0lRTUlQkYlOEQlRTQlQjglOEQlRTQlQkQlOEYlRTUlODclQkElRTYlODklOEIlRTclOEUlODQlRTYlQTklOUYtMDk1OTM4NDQ2Lmh0bWw?oc=5', 'publish_date': 'Sat, 03 Sep 2022 09:59:38 GMT'}, {'title': '美8月失業率上升 經濟學家為何大讚為好消息？', 'source': 'Anue鉅亨', 'link': 'https://news.google.com/__i/rss/rd/articles/CBMiJmh0dHBzOi8vbmV3cy5jbnllcy5jb20vbmV3cy9pZC80OTQ1NDc50gEA?oc=5', 'publish_date': 'Sat, 03 Sep 2022 04:10:30 GMT'}, {'title': '帝國「日落」？印度超英國成世界第5大經濟體', 'source': '自由財經', 'link': 'https://news.google.com/__i/rss/rd/articles/CBMiMmh0dHBzOi8vZWMubHRuLmNvbS50dy9hcnRpY2xlL2JyZWFraW5nbmV3cy80MDQ2NjYz0gE2aHR0cHM6Ly9lYy5sdG4uY29tLnR3L2FtcC9hcnRpY2xlL2JyZWFraW5nbmV3cy80MDQ2NjYz?oc=5', 'publish_date': 'Sat, 03 Sep 2022 03:57:26 GMT'}]\n"
          ]
        }
      ]
    },
    {
      "cell_type": "code",
      "source": [
        "items[0] #取得第一條"
      ],
      "metadata": {
        "colab": {
          "base_uri": "https://localhost:8080/"
        },
        "id": "_VNKUu5DqziK",
        "outputId": "b2679bac-5e5d-45de-d7d3-dfcc80444360"
      },
      "execution_count": 7,
      "outputs": [
        {
          "output_type": "execute_result",
          "data": {
            "text/plain": [
              "{'title': 'iPhone 14六大亮點曝光 果粉「愛瘋了」！',\n",
              " 'source': 'Yahoo奇摩新聞',\n",
              " 'link': 'https://news.google.com/__i/rss/rd/articles/CBMilwFodHRwczovL3R3Lm5ld3MueWFob28uY29tL2lwaG9uZS0xNCVFNSU4NSVBRCVFNSVBNCVBNyVFNCVCQSVBRSVFOSVCQiU5RSVFNiU5QiU5RCVFNSU4NSU4OS0lRTYlOUUlOUMlRTclQjIlODktJUU2JTg0JTlCJUU3JTk4JThCJUU0JUJBJTg2LTEwMTczMDYwOS5odG1s0gGfAWh0dHBzOi8vdHcubmV3cy55YWhvby5jb20vYW1waHRtbC9pcGhvbmUtMTQlRTUlODUlQUQlRTUlQTQlQTclRTQlQkElQUUlRTklQkIlOUUlRTYlOUIlOUQlRTUlODUlODktJUU2JTlFJTlDJUU3JUIyJTg5LSVFNiU4NCU5QiVFNyU5OCU4QiVFNCVCQSU4Ni0xMDE3MzA2MDkuaHRtbA?oc=5',\n",
              " 'publish_date': 'Sat, 03 Sep 2022 10:17:30 GMT'}"
            ]
          },
          "metadata": {},
          "execution_count": 7
        }
      ]
    },
    {
      "cell_type": "code",
      "source": [
        "items[0]['title'] #取得第一條標題"
      ],
      "metadata": {
        "colab": {
          "base_uri": "https://localhost:8080/",
          "height": 36
        },
        "id": "8ZgGMc3Yq5-Y",
        "outputId": "1cbf5a21-80fc-4e09-ba58-b130352d5272"
      },
      "execution_count": 8,
      "outputs": [
        {
          "output_type": "execute_result",
          "data": {
            "text/plain": [
              "'iPhone 14六大亮點曝光 果粉「愛瘋了」！'"
            ],
            "application/vnd.google.colaboratory.intrinsic+json": {
              "type": "string"
            }
          },
          "metadata": {},
          "execution_count": 8
        }
      ]
    },
    {
      "cell_type": "markdown",
      "source": [
        "#### 範例：取得5則台灣股市新聞資料並顯示"
      ],
      "metadata": {
        "id": "6ZxqXjUkrBxE"
      }
    },
    {
      "cell_type": "code",
      "source": [
        "# 範例：取得5則台灣股市新聞資料並顯示\n",
        "from scraparazzie import scraparazzie\n",
        "client = scraparazzie.NewsClient(language = 'chinese traditional', location = 'Taiwan', query = '股市', max_results = 5)\n",
        "items = client.export_news()\n",
        "print(len(items))\n",
        "for item in items:\n",
        "    # print(item)\n",
        "    print(item['title'])\n",
        "# for i,item in enumerate(items):\n",
        "#   # print(item)\n",
        "#   print('第 ' + str(i+1) + ' 則新聞：')\n",
        "#   print('新聞標題：' + item['title'])\n",
        "#   print('新聞機構：' + item['source'])\n",
        "#   print('新聞連結：' + item['link'])\n",
        "#   print('新聞時間：' + item['publish_date'])\n",
        "\n",
        "\n",
        "# for i, item in enumerate(items):\n",
        "#   print('第 ' + str(i+1) + ' 則新聞：')\n",
        "#   print('新聞標題：' + item['title'])\n",
        "#   print('新聞機構：' + item['source'])\n",
        "#   print('新聞連結：' + item['link'])\n",
        "#   print('新聞時間：' + item['publish_date'])\n",
        "#   print('========================================================================================')"
      ],
      "metadata": {
        "colab": {
          "base_uri": "https://localhost:8080/"
        },
        "id": "upprc2ThrDoc",
        "outputId": "74ab81f9-d92c-434d-d8d0-886a6c5cbdb5"
      },
      "execution_count": 12,
      "outputs": [
        {
          "output_type": "stream",
          "name": "stdout",
          "text": [
            "5\n",
            "巴菲特狂砍抱了13年的股票！謝金河嚇一跳：2大警訊\n",
            "《大陸產業》雲南白藥投資小米股票 H1慘虧\n",
            "《台北股市》內資挑大梁 決戰中小股\n",
            "台股本周跌3.96% 市值縮水1.86兆元 汽車、生技、電子零組件人氣最夯\n",
            "《各報要聞》14檔投信不放手 超猛\n"
          ]
        }
      ]
    }
  ]
}