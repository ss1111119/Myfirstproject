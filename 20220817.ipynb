{
  "nbformat": 4,
  "nbformat_minor": 0,
  "metadata": {
    "colab": {
      "name": "20220817.ipynb",
      "provenance": [],
      "authorship_tag": "ABX9TyN5O+VNM903ah/NM7cWXLba",
      "include_colab_link": true
    },
    "kernelspec": {
      "name": "python3",
      "display_name": "Python 3"
    },
    "language_info": {
      "name": "python"
    }
  },
  "cells": [
    {
      "cell_type": "markdown",
      "metadata": {
        "id": "view-in-github",
        "colab_type": "text"
      },
      "source": [
        "<a href=\"https://colab.research.google.com/github/ss1111119/Myfirstproject/blob/main/20220817.ipynb\" target=\"_parent\"><img src=\"https://colab.research.google.com/assets/colab-badge.svg\" alt=\"Open In Colab\"/></a>"
      ]
    },
    {
      "cell_type": "markdown",
      "source": [
        "# Test\n",
        "\n",
        ">dddd  \n",
        "ddd***d***`d`ddd  \n",
        "dd*dd*dd**d**d\n",
        "\n",
        "```\n",
        "print(\"Hello Word\")\n",
        "print(\"123\")\n",
        "print(\"Hello Word\")\n",
        "print(\"123\")\n",
        "```\n",
        "---\n",
        "    print(\"Hello Word\")\n",
        "    print(\"123\")\n",
        "\n",
        "https://www.google.com\n",
        "\n",
        "[Google官網](https://www.google.com)\n",
        "\n",
        "![](https://www.google.com/images/branding/googlelogo/1x/googlelogo_color_272x92dp.png)\n",
        "\n",
        "[![](https://www.google.com/images/branding/googlelogo/1x/googlelogo_color_272x92dp.png)](https://www.google.com \"Google官網  \")\n"
      ],
      "metadata": {
        "id": "anCz0S9oTRO9"
      }
    },
    {
      "cell_type": "markdown",
      "source": [
        "刪除 Ctrl + M +D"
      ],
      "metadata": {
        "id": "HGJ7QYrhVtzA"
      }
    },
    {
      "cell_type": "code",
      "execution_count": null,
      "metadata": {
        "id": "6JWfr8f_LvIQ"
      },
      "outputs": [],
      "source": [
        "print(\"Hello Word\")\n",
        "print(\"123\")"
      ]
    },
    {
      "cell_type": "markdown",
      "source": [
        "# 一、變數與資料庫型態"
      ],
      "metadata": {
        "id": "i95jZulGjrh6"
      }
    },
    {
      "cell_type": "code",
      "source": [
        " # 變數的宣告與輸出\n",
        " x = 0\n",
        " y = 1\n",
        " a = b = c = 0\n",
        " name, age = \"Dcvid\", 18\n",
        "\n",
        " print(x, y, a, b, c, name, age)"
      ],
      "metadata": {
        "id": "-FmEIAiQjrFu"
      },
      "execution_count": null,
      "outputs": []
    },
    {
      "cell_type": "code",
      "source": [
        "# 變數的資料型態\n",
        "# int, float, str, bool\n",
        "# type() 檢視變數的資料型態\n",
        "\n",
        "x = 1\n",
        "pi = 3.1415\n",
        "name = \"Daivd\"\n",
        "isMarry = True\n",
        "\n",
        "# print(x, pi ,name , isMarry)\n",
        "print(type(x))\n",
        "print(type(pi))\n",
        "print(type(isMarry))\n",
        "\n",
        "# 資料型別的轉換\n",
        "# int(), float(), str(), bool()"
      ],
      "metadata": {
        "id": "AakzRO-MlKaI"
      },
      "execution_count": null,
      "outputs": []
    },
    {
      "cell_type": "markdown",
      "source": [
        "# 二、輸入輸出"
      ],
      "metadata": {
        "id": "Kgk6DRNySs5q"
      }
    },
    {
      "cell_type": "markdown",
      "source": [
        "輸出：print()"
      ],
      "metadata": {
        "id": "mGZqnPtUS3hf"
      }
    },
    {
      "cell_type": "code",
      "source": [
        "# print()\n",
        "# print()參數\n",
        "# sep 間隔符號，預設值 ' '\n",
        "# end 結束符號，預設值 '\\n'\n",
        "\n",
        "# print(1, 2, 3, 3.14, 'David', True)\n",
        "# print(1, 2, 3, 4, 5, sep=\"&\")\n",
        "# print(1, 2, 3, 4, 5, sep=\"&\", end='.')\n",
        "print(1, 2, 3, 4, 5, end='\\n')\n",
        "print(6, 7, 8, 9, 10, end='\\n')"
      ],
      "metadata": {
        "id": "F_lVqLVWSydr"
      },
      "execution_count": null,
      "outputs": []
    },
    {
      "cell_type": "code",
      "source": [
        "# print()參數格式化： %\n",
        "# print(\"%s考了%d分\" % (\"李小美\", 90))\n",
        "# print(\"王小明考了80分\")\n",
        "print(\"%s考了%d分\" % (\"王小明\", 80))\n",
        "print(\"%5s考了%3d分\" % (\"王小明\", 80))\n",
        "print(\"%-5s考了%-3d分\" % (\"王小明\", 80))\n",
        "print(\"圓周率是%.2f\" % (3.14159))"
      ],
      "metadata": {
        "id": "Ct8XR6ClV1CU"
      },
      "execution_count": null,
      "outputs": []
    },
    {
      "cell_type": "code",
      "source": [
        "# print()參數格式化： format()\n",
        "# print(\"考了{1}分的人是{0}\".format(\"王小明\", 80))\n",
        "# print(\"考了{1}分的人是{0},真的是{0}啊!\".format(\"王小明\", 80))\n",
        "print(\"王小明考了80分\")\n",
        "print(\"{}考了{}分\".format(\"王小明\", 80))\n",
        "print(\"{0:5}考了{1:3}分\".format(\"王小明\", 80)) #:前方的數字是索引值，第一為由0開始計算，冒號前是索引值，之後是格式。\n",
        "print(\"{:>5}考了{:<3}分\".format(\"王小明\", 80)) #將文字靠右，數字靠左\n",
        "print(\"{:^5}考了{:<3}分\".format(\"王小明\", 80)) #將文字至中^\n",
        "print(\"圓周率{:.2f}\".format(3.14159))"
      ],
      "metadata": {
        "id": "davuSfi8mxTU"
      },
      "execution_count": null,
      "outputs": []
    },
    {
      "cell_type": "code",
      "source": [
        "# f-strings\n",
        "name = '王小明'\n",
        "score = 80\n",
        "# print(name + \"考了\" + str(score) + \"分\")\n",
        "\n",
        "print(f\"{name:5}考了{score:3}分\")\n",
        "\n",
        "# x = 2\n",
        "# y = 5\n",
        "# print(f\"{x} * {y} = {x * y}\")"
      ],
      "metadata": {
        "id": "kvoA-KlRx_KE"
      },
      "execution_count": null,
      "outputs": []
    },
    {
      "cell_type": "code",
      "source": [
        "print(f\"{name:x^5}考了{score:03}分\")"
      ],
      "metadata": {
        "id": "VYWOqeoT__ai"
      },
      "execution_count": null,
      "outputs": []
    },
    {
      "cell_type": "markdown",
      "source": [
        "## 輸入：input()"
      ],
      "metadata": {
        "id": "r1b3B0WUBQcC"
      }
    },
    {
      "cell_type": "code",
      "source": [
        "score1 = input(\"請輸入你的國文成績：\")\n",
        "# print(f\"你的國文成績是{score1}\")\n",
        "print(\"你的國文成績是：{}\".format(score1))"
      ],
      "metadata": {
        "id": "yyZnh2QcDHuS"
      },
      "execution_count": null,
      "outputs": []
    },
    {
      "cell_type": "code",
      "source": [
        "score1 = input(\"請輸入你的國文成績：\")\n",
        "score2 = input(\"請輸入你的英文成績：\")\n",
        "print(\"你的總分是：{}\".format(score1 + score2))"
      ],
      "metadata": {
        "id": "DGzUmeu2E8TW"
      },
      "execution_count": null,
      "outputs": []
    },
    {
      "cell_type": "code",
      "source": [
        "score1 = int(input(\"請輸入你的國文成績：\"))\n",
        "score2 = int(input(\"請輸入你的英文成績：\"))\n",
        "print(\"你的總分是：{}\".format(score1 + score2))"
      ],
      "metadata": {
        "id": "qJlAGoXNDUCo"
      },
      "execution_count": null,
      "outputs": []
    },
    {
      "cell_type": "code",
      "source": [
        "score1 = input(\"請輸入你的國文成績：\")\n",
        "score2 = input(\"請輸入你的英文成績：\")\n",
        "print(f\"你的總分是：{score1} + {score2}\")"
      ],
      "metadata": {
        "id": "gVkeIR-UDcNp"
      },
      "execution_count": null,
      "outputs": []
    },
    {
      "cell_type": "code",
      "source": [
        "score1 = int(input(\"請輸入你的國文成績：\"))\n",
        "score2 = int(input(\"請輸入你的英文成績：\"))\n",
        "print(f\"你的總分是：{(score1 + score2)}\")"
      ],
      "metadata": {
        "id": "VsNzxvFnFRfP"
      },
      "execution_count": null,
      "outputs": []
    },
    {
      "cell_type": "markdown",
      "source": [
        "## 註解"
      ],
      "metadata": {
        "id": "D9u_VqBEFvqn"
      }
    },
    {
      "cell_type": "code",
      "source": [
        "# 註解符號快速鍵 Ctrl + /\n",
        "\n",
        "# 單行註解\n",
        "\n",
        "# 多行註解\n",
        "# 多行註解\n",
        "# 多行註解\n",
        "\n",
        "example = \"\"\" 變數跨行宣告\n",
        "多行註解\n",
        "多行註解多行註解多行註解多行註解多行註解\n",
        "多行註解多行註解多行註解多行註解多行註解多行註解\n",
        "\"\"\""
      ],
      "metadata": {
        "id": "8Ag3h5kwF2br"
      },
      "execution_count": null,
      "outputs": []
    },
    {
      "cell_type": "code",
      "source": [
        "example"
      ],
      "metadata": {
        "id": "3GTbkY-7GrfU"
      },
      "execution_count": null,
      "outputs": []
    },
    {
      "cell_type": "markdown",
      "source": [
        "# 三、運算"
      ],
      "metadata": {
        "id": "-heHYkRqHHRW"
      }
    },
    {
      "cell_type": "code",
      "source": [
        "# 算術運算子 + - * / %(求餘) //(求商) **(指數)\n",
        "# / 稱為slash\n",
        "# \\ 稱為backslash\n",
        "# / 稱為slash，台灣稱為斜線，中國(大陸)常稱為斜槓。\n",
        "# \\ 稱為backslash，台灣稱為反斜線，中國(大陸)常稱為反斜槓。\n",
        "\n",
        "x = 5\n",
        "y = 2\n",
        "\n",
        "print(x + y, x - y, x *y, x / y)\n",
        "print(x % y, x // y, x ** y)"
      ],
      "metadata": {
        "id": "pNlo5QMqHK8y"
      },
      "execution_count": null,
      "outputs": []
    },
    {
      "cell_type": "code",
      "source": [
        "# 比較運算值 == != > >= < <=\n",
        "x = 5\n",
        "y = 2\n",
        "\n",
        "x == y"
      ],
      "metadata": {
        "id": "W8w08AP_Y8yi"
      },
      "execution_count": null,
      "outputs": []
    },
    {
      "cell_type": "code",
      "source": [
        "# 邏輯運算子　and, or, not\n",
        "x = 5\n",
        "y = 2\n",
        "\n",
        "# x == y and x > y\n",
        "# (x == y) or (x > y)\n",
        "# not (x == y)"
      ],
      "metadata": {
        "id": "9-x4iEqoZQMF"
      },
      "execution_count": null,
      "outputs": []
    },
    {
      "cell_type": "code",
      "source": [
        "# 複和指定算子 += -=\n",
        "x = 1\n",
        "x = x + 1\n",
        "print(x)\n",
        "\n",
        "x = x\n",
        "x = x-1\n",
        "print(x)"
      ],
      "metadata": {
        "id": "Vyfk4NIlqV6w"
      },
      "execution_count": null,
      "outputs": []
    },
    {
      "cell_type": "markdown",
      "source": [
        "## 範例：溫度轉換器\n",
        "\n",
        "華氏 = 攝氏*(9/5)+32"
      ],
      "metadata": {
        "id": "OyzzWjqhxCXm"
      }
    },
    {
      "cell_type": "code",
      "source": [
        "TC = int(input(\"請輸入攝氏溫度：\"))\n",
        "TF = TC * ( 9 / 5 ) + 32\n",
        "# print(\"攝氏{1}度等於華氏{0}度\".format(TF, TC))\n",
        "print(f\"攝氏{TC}度等於華氏{TF}度\")"
      ],
      "metadata": {
        "id": "yk2WAZfqxhEP"
      },
      "execution_count": null,
      "outputs": []
    },
    {
      "cell_type": "markdown",
      "source": [
        "## 範例：BMI計算機\n",
        "\n",
        "$BMI = 體重(kg) / 身高(m) ^ 2$"
      ],
      "metadata": {
        "id": "6iymXBCg0lVb"
      }
    },
    {
      "cell_type": "code",
      "source": [
        "H = float(input(\"請輸入身高：\"))\n",
        "W = float(input(\"請輸入體重：\"))\n",
        "BMI = W / (H / 100) **2\n",
        "# print(\"身高{}公分, 體重{}公斤, BMI值為{:.2f}\".format(H, W, BMI))\n",
        "print(f\"身高{H}公分, 體重{W}公斤, BMI值為{BMI:.2f}\")"
      ],
      "metadata": {
        "id": "aYa_Q4A70rMU"
      },
      "execution_count": null,
      "outputs": []
    },
    {
      "cell_type": "markdown",
      "source": [
        "# 四、判斷式"
      ],
      "metadata": {
        "id": "9rmiRasY39gC"
      }
    },
    {
      "cell_type": "code",
      "source": [
        "# 雙向判斷式:\n",
        "score = int(input(\"請輸入你的成績：\"))\n",
        "if score >= 60:\n",
        "    print(\"Pass\")\n",
        "else:\n",
        "    print(\"Done\")"
      ],
      "metadata": {
        "id": "FEhRYXXM4B-v"
      },
      "execution_count": null,
      "outputs": []
    },
    {
      "cell_type": "code",
      "source": [
        "# 多向判斷式:\n",
        "score = int(input(\"請輸入你的成績：\"))\n",
        "if score >= 90:\n",
        "    print(\"A\")\n",
        "elif score >= 80:\n",
        "    print(\"B\")\n",
        "elif score >= 70:\n",
        "    print(\"C\")\n",
        "elif score >= 60:\n",
        "    print(\"D\")\n",
        "else:\n",
        "    print(\"Down\")"
      ],
      "metadata": {
        "id": "Kbcx_i5k9-lD"
      },
      "execution_count": null,
      "outputs": []
    },
    {
      "cell_type": "code",
      "source": [
        "#判斷奇偶數\n",
        "num = int(input(\"請輸入正整數：\"))\n",
        "if num % 2 == 0:\n",
        "    print(f\"數字{num}為偶數\")\n",
        "else:\n",
        "    print(f\"數字{num}為奇數\")"
      ],
      "metadata": {
        "id": "YxJ3PZ9zSHMj"
      },
      "execution_count": null,
      "outputs": []
    },
    {
      "cell_type": "code",
      "source": [
        "# 判斷輸入值是否為整數(有空需要再看一下，還是不太理解)\n",
        "# 1. 輸入值變整數。與原輸入值相減等於0則為整數。\n",
        "# 2. abs(x)==x\n",
        "\n",
        "# num = eval(input())\n",
        "# num2 = int(num)\n",
        "# if (num-num2) != 0: \n",
        "#     print(\"NO\")\n",
        "# else: \n",
        "#     print(\"YES\")\n",
        "n = input(\"請輸入一個正整數：\")\n",
        "n.isdigit(c)"
      ],
      "metadata": {
        "id": "B38jt_cF-Fhw"
      },
      "execution_count": null,
      "outputs": []
    },
    {
      "cell_type": "markdown",
      "source": [
        "Ctrl +M M\n",
        "\n"
      ],
      "metadata": {
        "id": "VIqbvrjuWh8d"
      }
    },
    {
      "cell_type": "markdown",
      "source": [
        "#### 巢狀"
      ],
      "metadata": {
        "id": "uJRSw1fp0jGw"
      }
    },
    {
      "cell_type": "code",
      "source": [
        "# 判斷閏年-巢狀判斷式\n",
        "year = int(input(\"請輸入一個西元年：\"))\n",
        "if year % 100 == 0:\n",
        "    if year % 400 == 0:\n",
        "        print(f\"西元{year}年是閏年\")\n",
        "    else:\n",
        "        print(f\"西元{year}年不是閏年\")\n",
        "else:\n",
        "    if year % 4 == 0:\n",
        "        print(f\"西元{year}年是閏年\")\n",
        "    else:\n",
        "        print(f\"西元{year}年不是閏年\")"
      ],
      "metadata": {
        "id": "fB98MP5EXiMe"
      },
      "execution_count": null,
      "outputs": []
    },
    {
      "cell_type": "code",
      "source": [
        "# 判斷閏年-多向判斷式\n",
        "year = int(input(\"請輸入一個西元年：\"))\n",
        "if year % 100 == 0 and year % 400 == 0:\n",
        "    print(f\"西元{year}年是閏年\")\n",
        "elif year % 100 != 0 and year % 4 == 0:\n",
        "    print(f\"西元{year}年是閏年\")\n",
        "else:\n",
        "    print(f\"西元{year}年不是閏年\")"
      ],
      "metadata": {
        "id": "uBXoZz68cP2Z"
      },
      "execution_count": null,
      "outputs": []
    },
    {
      "cell_type": "markdown",
      "source": [
        "# 五、自訂函式"
      ],
      "metadata": {
        "id": "oYfmx9jt325E"
      }
    },
    {
      "cell_type": "code",
      "source": [
        "def sayHello():\n",
        "    print(\"Hello\")\n",
        "sayHello()\n",
        "sayHello()"
      ],
      "metadata": {
        "id": "8bifxW7M39EU"
      },
      "execution_count": null,
      "outputs": []
    },
    {
      "cell_type": "code",
      "source": [
        "# 自訂函式：參數的使用\n",
        "def sayHello(name):\n",
        "    print(\"Hello, {}.\".format(name))\n",
        "\n",
        "sayHello(\"David\")\n",
        "sayHello(\"Lily\")"
      ],
      "metadata": {
        "id": "1z5vQLuT5NPc"
      },
      "execution_count": null,
      "outputs": []
    },
    {
      "cell_type": "code",
      "source": [
        "# 自訂函式：回傳值\n",
        "def sayHello(name):\n",
        "    msg = \"Hello, {}.\".format(name)\n",
        "    return msg\n",
        "\n",
        "msg = sayHello(\"David\")"
      ],
      "metadata": {
        "id": "0CiE12WA6ElU"
      },
      "execution_count": null,
      "outputs": []
    },
    {
      "cell_type": "code",
      "source": [
        "print(msg)"
      ],
      "metadata": {
        "id": "B3tbSWpd7MAT"
      },
      "execution_count": null,
      "outputs": []
    },
    {
      "cell_type": "code",
      "source": [
        "# 計算面積\n",
        "# getArea(), 參數 w, h, 回傳值 area\n",
        "# 我有二塊地，一塊是寬5,高4，一塊是寬10，高5, 請計算總面積\n",
        "\n",
        "def getArea( w, h ):\n",
        "    area = w * h\n",
        "    return area\n",
        "\n",
        "area1 = getArea( 5, 4 ) \n",
        "area2 = getArea( 10, 5 )\n",
        "# area = area1+area2\n",
        "# print(\"我家的地總面積是：{}\".format(area1 + area2))\n",
        "print(f\"我家的地總面積是：{area1 + area2}\")"
      ],
      "metadata": {
        "id": "8o3gepUh7UHR"
      },
      "execution_count": null,
      "outputs": []
    },
    {
      "cell_type": "code",
      "source": [
        "# 自訂函式 tctotf(),對於def中的指定()放入內容，還是不熟悉。\n",
        "# TF = TC * (9 / 5) + 32\n",
        "def tctotf( TC ):\n",
        "    TF = TC * (9 / 5) + 32\n",
        "    return TF\n",
        "\n",
        "TC = float(input(\"請輸入攝氏溫度：\"))\n",
        "# print(\"攝氏{}度等於華氏{}度\".format(TC, tctotf(TC)))\n",
        "print(f\"攝氏{TC}度等於華氏{tctotf(TC)}度\")"
      ],
      "metadata": {
        "id": "2AMcxXV1BW8R"
      },
      "execution_count": null,
      "outputs": []
    },
    {
      "cell_type": "code",
      "source": [
        "# 自訂函式：getBMI()，參數 h, w\n",
        "# bmi值 <= 18.5，加訊息 你太瘦了，多吃一點。\n",
        "# bmi值 > 24，加訊息 你太胖了，少吃一點。\n",
        "# bmi值在這之間，加訊息 恭禧你，身材標準。\n",
        "\n",
        "def getBMI( h, w):\n",
        "    bmi = w / (h / 100) ** 2\n",
        "    return bmi\n",
        "\n",
        "h = int(input(\"請輸入身高：\"))\n",
        "w = int(input(\"請輸入體重：\"))\n",
        "bmi = getBMI(h, w)\n",
        "print(\"身高{}公分，體重{}公斤，BMI值為{:.2F}\".format( h, w, bmi))\n",
        "if bmi <= 18.5:\n",
        "    print(\"你太瘦了，多吃一點。\")\n",
        "elif bmi > 24:\n",
        "    print(\"你太胖了，少吃一點。\")\n",
        "else:\n",
        "    print(\"恭禧你，身材標準\")"
      ],
      "metadata": {
        "id": "1hxDOcsQF1Sd"
      },
      "execution_count": null,
      "outputs": []
    },
    {
      "cell_type": "markdown",
      "source": [
        "# 六、串列與整數串列"
      ],
      "metadata": {
        "id": "Wfv5nXTZvKHc"
      }
    },
    {
      "cell_type": "markdown",
      "source": [
        "## 串列"
      ],
      "metadata": {
        "id": "oZwZMFqnvMQE"
      }
    },
    {
      "cell_type": "code",
      "source": [
        "# 宣告串列的方式\n",
        " list1 = [1, 2, 3, 4, 5, 6, 7, 8, 9]\n",
        " list2 = [\"Apple\", \"Banana\", \"Cherry\"]\n",
        " lsit3 = [\"David\", 180, 80, 24, 61, Ture]\n",
        "\n",
        " # 查詢資料型別\n",
        " # type(list1)\n",
        " # type(list2)\n",
        " # type(list3)"
      ],
      "metadata": {
        "id": "5iyWqChIS4Xd"
      },
      "execution_count": null,
      "outputs": []
    },
    {
      "cell_type": "code",
      "source": [
        "# 串列取值-使用索引值\n",
        "list1 = [1, 2, 3, 4, 5, 6, 7, 8, 9]\n",
        "# 取出單一的元素值 格式：串列[索引值]\n",
        "list1[2]\n",
        "list1[5]\n",
        "\n",
        "# 取出範圍素值\n",
        "# 格式：串列[起始索引：終止索引]\n",
        "list1[2:5] #3, 4, 5\n",
        "list1[5:8] #6, 7, 6\n",
        "\n",
        "# 取出範圍元素值，有間隔\n",
        "# 格式：串列[起始索引：終止索引：間隔值]\n",
        "list1[0:9:2]\n",
        "list1[1:9:2]\n",
        "\n",
        "# # 取出特定範圍值\n",
        "# # 取出所有值\n",
        "# list1[0:9]\n",
        "# list1[:]\n",
        "\n",
        "# # 取出前幾名值\n",
        "# list1[0:3]\n",
        "# list1[:3]\n",
        "\n",
        "# #取出後幾名值\n",
        "# list1[4:9]\n",
        "# list1[4:]\n",
        "\n",
        "# # 取出最後一個值\n",
        "# len(list1) #計算串列的元素值的數量\n",
        "# list1[len(list1)-1]\n",
        "# list1[-1]\n",
        "# list1[-4]\n",
        "# list1[-3:]\n",
        "# list1[-5:]\n",
        "\n",
        "# # 將串列倒序取出\n",
        "# list1[::-1]\n",
        "# list1[::-2]\n",
        "# list1[-2:-9:-2] #倒數偶數"
      ],
      "metadata": {
        "id": "sZGnQKcUUbmZ"
      },
      "execution_count": null,
      "outputs": []
    },
    {
      "cell_type": "code",
      "source": [
        "str1 = 'abcdefg'\n",
        "addr1 = '台北市大同區忠孝東路一段100號'\n",
        "food = 'milk'\n",
        "\n",
        "str1[2]\n",
        "str1[2:5]\n",
        "addr1[:3]\n",
        "addr1[:6]\n",
        "food[::-1]"
      ],
      "metadata": {
        "id": "sp1qNAb7tnNA"
      },
      "execution_count": null,
      "outputs": []
    },
    {
      "cell_type": "markdown",
      "source": [
        "## 整數串列 range()"
      ],
      "metadata": {
        "id": "VaEg4eQlvQL9"
      }
    },
    {
      "cell_type": "code",
      "source": [
        "# 整數串列宣告 (對於數數的前中後倒序時的放法尚未釐清)\n",
        "# range([起始索引, ]終止索引[, 間隔值])\n",
        "\n",
        "list(range(5))\n",
        "list(range(1, 10))\n",
        "list(range(1, 10, 2))\n",
        "list(range(10, 0, -1))\n",
        "list(range(10, -1, -1))\n",
        "list(range(10, 0, -2))\n",
        "list(range(11, 0, -2)) #倒數單數"
      ],
      "metadata": {
        "id": "9jAGrM4rPfGo"
      },
      "execution_count": null,
      "outputs": []
    },
    {
      "cell_type": "markdown",
      "source": [
        "# 七、迴圈"
      ],
      "metadata": {
        "id": "Yiky7SqxhKef"
      }
    },
    {
      "cell_type": "markdown",
      "source": [
        "## for 迴圈"
      ],
      "metadata": {
        "id": "IK7m3-k3hPQx"
      }
    },
    {
      "cell_type": "markdown",
      "source": [
        "### for list"
      ],
      "metadata": {
        "id": "ls8FlUUn3hKz"
      }
    },
    {
      "cell_type": "code",
      "source": [
        "fruits = ['Apple', 'Banana', 'Cherry']\n",
        "for fruit in fruits:\n",
        "    # print(fruit)\n",
        "    print(fruit, end = ',')"
      ],
      "metadata": {
        "id": "OlkikVbe3lWl"
      },
      "execution_count": null,
      "outputs": []
    },
    {
      "cell_type": "code",
      "source": [
        "# 用for list 迴圈計算 1 加到 10 (對於迴圈上的計算沒有深刻了解)\n",
        "list1 = [1, 2, 3, 4, 5, 6, 7, 8, 9, 10]\n",
        "tota1 = 0\n",
        "for i in list1:\n",
        "    total = total + i\n",
        "print(total)"
      ],
      "metadata": {
        "id": "-GkQAHDO6g3X"
      },
      "execution_count": null,
      "outputs": []
    },
    {
      "cell_type": "code",
      "source": [
        "# 用 for list 迴圈計算 1 到 10 的偶數相加\n",
        "list1 = [1, 2, 3, 4, 5, 6, 7, 8, 9, 10]\n",
        "# list1[1:10:2] 放在這邊不會執行\n",
        "total = 0\n",
        "for i in list1[1:10:2]:\n",
        "    total = total + i\n",
        "print(total)"
      ],
      "metadata": {
        "id": "hqmM9lZ3-MXO",
        "colab": {
          "base_uri": "https://localhost:8080/"
        },
        "outputId": "64538878-ab43-4276-ab86-edac78dfaa72"
      },
      "execution_count": null,
      "outputs": [
        {
          "output_type": "stream",
          "name": "stdout",
          "text": [
            "30\n"
          ]
        }
      ]
    },
    {
      "cell_type": "code",
      "source": [
        "# 用 for list 迴圈計算 1 到 10 之間 3 的倍數, 而且是奇數值的加總(再寫的時候發現對於if不熟悉，容易沒想到)\n",
        "list1 = [1, 2, 3, 4, 5, 6, 7, 8, 9, 10]\n",
        "total = 0\n",
        "for i in list1:\n",
        "    if i % 3 == 0:\n",
        "        if i % 2 != 0:\n",
        "            total = total + i\n",
        "print(total)\n"
      ],
      "metadata": {
        "colab": {
          "base_uri": "https://localhost:8080/"
        },
        "id": "We0dn0SWE0ks",
        "outputId": "299dc42a-9fe8-4bb4-92e1-6fc179486e67"
      },
      "execution_count": null,
      "outputs": [
        {
          "output_type": "stream",
          "name": "stdout",
          "text": [
            "12\n"
          ]
        }
      ]
    },
    {
      "cell_type": "code",
      "source": [
        "list1 = [1, 2, 3, 4, 5, 6, 7, 8, 9, 10]\n",
        "total = 0\n",
        "for i in list1:\n",
        "    if i % 3 == 0 and i % 2 != 0:\n",
        "            total = total + i\n",
        "print(total)"
      ],
      "metadata": {
        "colab": {
          "base_uri": "https://localhost:8080/"
        },
        "id": "JDUGPJy7HVQh",
        "outputId": "65fcbc5a-cc0e-4ba6-8c5a-9c9205b23509"
      },
      "execution_count": null,
      "outputs": [
        {
          "output_type": "stream",
          "name": "stdout",
          "text": [
            "12\n"
          ]
        }
      ]
    },
    {
      "cell_type": "markdown",
      "source": [
        "### for range"
      ],
      "metadata": {
        "id": "jrdnHSmXIFtA"
      }
    },
    {
      "cell_type": "code",
      "source": [
        "# 用for range 迴圈計算 1 加到 10\n",
        "# list1 = range(1, 11)\n",
        "total = 0\n",
        "for i in range(1, 11):\n",
        "    total = total + i\n",
        "print(total)"
      ],
      "metadata": {
        "colab": {
          "base_uri": "https://localhost:8080/"
        },
        "id": "iM-UmhT1IIXy",
        "outputId": "6f08cc62-b61f-4628-d036-e61344fa3c15"
      },
      "execution_count": null,
      "outputs": [
        {
          "output_type": "stream",
          "name": "stdout",
          "text": [
            "55\n"
          ]
        }
      ]
    },
    {
      "cell_type": "code",
      "source": [
        "# 用 for range 迴圈計算 1 到 10 之間的偶數和\n",
        "total = 0\n",
        "for i in range(2, 11, 2):\n",
        "    total = total + i\n",
        "print(total)"
      ],
      "metadata": {
        "colab": {
          "base_uri": "https://localhost:8080/"
        },
        "id": "VZG_GP-AKffq",
        "outputId": "14777e0b-5539-4275-bdfc-99fa1392c53c"
      },
      "execution_count": null,
      "outputs": [
        {
          "output_type": "stream",
          "name": "stdout",
          "text": [
            "30\n"
          ]
        }
      ]
    },
    {
      "cell_type": "code",
      "source": [
        "# 用 for range 迴圈計算 1 到 1000 之間 3 的倍數, 而且是奇數值的加總\n",
        "total = 0\n",
        "for i in range(1, 1001):\n",
        "    if i % 3 == 0 and i % 2 != 0 :\n",
        "          total = total + i\n",
        "print(total)"
      ],
      "metadata": {
        "colab": {
          "base_uri": "https://localhost:8080/"
        },
        "id": "k8Z0UqudKz6j",
        "outputId": "d52485cb-38fc-4628-e959-0afbf35031b9"
      },
      "execution_count": null,
      "outputs": [
        {
          "output_type": "stream",
          "name": "stdout",
          "text": [
            "83667\n"
          ]
        }
      ]
    },
    {
      "cell_type": "code",
      "source": [
        "# 用 for range 迴圈將所有水果名印出\n",
        "fruits = ['Apple', 'Banana', 'Cherry']\n",
        "for i in range(len(fruits)):\n",
        "    print(fruits[i])\n",
        "    "
      ],
      "metadata": {
        "colab": {
          "base_uri": "https://localhost:8080/"
        },
        "id": "6s08HVU2QCT5",
        "outputId": "12837b2b-c7f9-4339-c800-cad1f33768b5"
      },
      "execution_count": null,
      "outputs": [
        {
          "output_type": "stream",
          "name": "stdout",
          "text": [
            "Apple\n",
            "Banana\n",
            "Cherry\n"
          ]
        }
      ]
    },
    {
      "cell_type": "code",
      "source": [
        "animals = \"鼠牛虎兔龍蛇馬羊猴雞狗豬\"\n",
        "# animals[:5]\n",
        "\n",
        "# for animal in animals:\n",
        "#     print(animal, end = '')\n",
        "\n",
        "# for i in range(0, 5):\n",
        "#     print(animals[i], end = '')"
      ],
      "metadata": {
        "colab": {
          "base_uri": "https://localhost:8080/"
        },
        "id": "tcQofFHZQPXP",
        "outputId": "5750abc9-fca1-4860-c3ed-c685aba6afc0"
      },
      "execution_count": null,
      "outputs": [
        {
          "output_type": "stream",
          "name": "stdout",
          "text": [
            "鼠牛虎兔龍"
          ]
        }
      ]
    },
    {
      "cell_type": "markdown",
      "source": [
        "## while 迴圈"
      ],
      "metadata": {
        "id": "FD5VZXZYmSzs"
      }
    },
    {
      "cell_type": "code",
      "source": [
        "# 用while 迴圈計算1到10\n",
        "i = 1\n",
        "total = 0\n",
        "while i <= 10 :\n",
        "    total = total + i\n",
        "    i = i + 1\n",
        "print(total)"
      ],
      "metadata": {
        "colab": {
          "base_uri": "https://localhost:8080/"
        },
        "id": "XcBWQ7ljmVaQ",
        "outputId": "3aa17fce-de2a-4d3f-b78e-155ce3d98db9"
      },
      "execution_count": null,
      "outputs": [
        {
          "output_type": "stream",
          "name": "stdout",
          "text": [
            "55\n"
          ]
        }
      ]
    },
    {
      "cell_type": "code",
      "source": [
        "# 用 while 迴圈計算 1 到 10 偶數加總\n",
        "i = 1\n",
        "total = 0\n",
        "while i <= 10:\n",
        "        if i % 2 == 0:\n",
        "              total = total + i\n",
        "        i = i +1\n",
        "print(total)"
      ],
      "metadata": {
        "colab": {
          "base_uri": "https://localhost:8080/"
        },
        "id": "qyz6VzFQm_8Z",
        "outputId": "d46e859e-bc1b-4df6-86e6-a528b9c69c68"
      },
      "execution_count": null,
      "outputs": [
        {
          "output_type": "stream",
          "name": "stdout",
          "text": [
            "30\n"
          ]
        }
      ]
    },
    {
      "cell_type": "code",
      "source": [
        "# 用 while 迴圈計算 1 到 1000 之間 3 的倍數, 而且是奇數值的加總\n",
        "i = 1\n",
        "total = 0\n",
        "while i <= 1000:\n",
        "        if i % 3 == 0 and i % 2 != 0:\n",
        "              total = total + i\n",
        "        i = i +1\n",
        "print(total)"
      ],
      "metadata": {
        "colab": {
          "base_uri": "https://localhost:8080/"
        },
        "id": "CqB0RuPFojin",
        "outputId": "35f655da-fd18-404b-9c86-cfff9c138fc1"
      },
      "execution_count": null,
      "outputs": [
        {
          "output_type": "stream",
          "name": "stdout",
          "text": [
            "83667\n"
          ]
        }
      ]
    },
    {
      "cell_type": "markdown",
      "source": [
        "## break, continue"
      ],
      "metadata": {
        "id": "lv2BP5ljqTZV"
      }
    },
    {
      "cell_type": "code",
      "source": [
        "# break 跳出迴圈\n",
        "for i in range(1, 11):\n",
        "    if i == 4:\n",
        "        break\n",
        "    print(i, end=',')"
      ],
      "metadata": {
        "colab": {
          "base_uri": "https://localhost:8080/"
        },
        "id": "X-4S23xvqnEu",
        "outputId": "b31a55c1-1349-47f9-d398-b9decf0de4ea"
      },
      "execution_count": null,
      "outputs": [
        {
          "output_type": "stream",
          "name": "stdout",
          "text": [
            "1,2,3,"
          ]
        }
      ]
    },
    {
      "cell_type": "code",
      "source": [
        "# continue 跳過迴圈\n",
        "for i in range(1, 11):\n",
        "    if i == 4 :\n",
        "        continue\n",
        "    print(i, end=',')"
      ],
      "metadata": {
        "colab": {
          "base_uri": "https://localhost:8080/"
        },
        "id": "zcodqb_2seUu",
        "outputId": "1b931898-0cfe-4a5a-e33d-3f73f2f84194"
      },
      "execution_count": null,
      "outputs": [
        {
          "output_type": "stream",
          "name": "stdout",
          "text": [
            "1,2,3,5,6,7,8,9,10,"
          ]
        }
      ]
    },
    {
      "cell_type": "code",
      "source": [
        "# 九九乘法表(一)\n",
        "for i in range(2, 10):\n",
        "    for j in range(2, 10):\n",
        "        print(\"{} * {} = {:02}\".format(i, j, i*j))\n",
        "    print('-' * 10)"
      ],
      "metadata": {
        "colab": {
          "base_uri": "https://localhost:8080/"
        },
        "id": "pXfRheKLsvE3",
        "outputId": "fd68d336-b198-4ed8-8baf-08c261824a35"
      },
      "execution_count": null,
      "outputs": [
        {
          "output_type": "stream",
          "name": "stdout",
          "text": [
            "2 * 2 = 04\n",
            "2 * 3 = 06\n",
            "2 * 4 = 08\n",
            "2 * 5 = 10\n",
            "2 * 6 = 12\n",
            "2 * 7 = 14\n",
            "2 * 8 = 16\n",
            "2 * 9 = 18\n",
            "----------\n",
            "3 * 2 = 06\n",
            "3 * 3 = 09\n",
            "3 * 4 = 12\n",
            "3 * 5 = 15\n",
            "3 * 6 = 18\n",
            "3 * 7 = 21\n",
            "3 * 8 = 24\n",
            "3 * 9 = 27\n",
            "----------\n",
            "4 * 2 = 08\n",
            "4 * 3 = 12\n",
            "4 * 4 = 16\n",
            "4 * 5 = 20\n",
            "4 * 6 = 24\n",
            "4 * 7 = 28\n",
            "4 * 8 = 32\n",
            "4 * 9 = 36\n",
            "----------\n",
            "5 * 2 = 10\n",
            "5 * 3 = 15\n",
            "5 * 4 = 20\n",
            "5 * 5 = 25\n",
            "5 * 6 = 30\n",
            "5 * 7 = 35\n",
            "5 * 8 = 40\n",
            "5 * 9 = 45\n",
            "----------\n",
            "6 * 2 = 12\n",
            "6 * 3 = 18\n",
            "6 * 4 = 24\n",
            "6 * 5 = 30\n",
            "6 * 6 = 36\n",
            "6 * 7 = 42\n",
            "6 * 8 = 48\n",
            "6 * 9 = 54\n",
            "----------\n",
            "7 * 2 = 14\n",
            "7 * 3 = 21\n",
            "7 * 4 = 28\n",
            "7 * 5 = 35\n",
            "7 * 6 = 42\n",
            "7 * 7 = 49\n",
            "7 * 8 = 56\n",
            "7 * 9 = 63\n",
            "----------\n",
            "8 * 2 = 16\n",
            "8 * 3 = 24\n",
            "8 * 4 = 32\n",
            "8 * 5 = 40\n",
            "8 * 6 = 48\n",
            "8 * 7 = 56\n",
            "8 * 8 = 64\n",
            "8 * 9 = 72\n",
            "----------\n",
            "9 * 2 = 18\n",
            "9 * 3 = 27\n",
            "9 * 4 = 36\n",
            "9 * 5 = 45\n",
            "9 * 6 = 54\n",
            "9 * 7 = 63\n",
            "9 * 8 = 72\n",
            "9 * 9 = 81\n",
            "----------\n"
          ]
        }
      ]
    },
    {
      "cell_type": "code",
      "source": [
        "# 九九乘法表(一)\n",
        "for i in range(2, 10):\n",
        "    for j in range(2, 10):\n",
        "        print(\"{}*{} = {:02}\".format(i, j, i*j), end='   ')\n",
        "    print()"
      ],
      "metadata": {
        "colab": {
          "base_uri": "https://localhost:8080/"
        },
        "id": "0W7jNspDxebE",
        "outputId": "b0575092-488a-49a0-946b-b58b3b8b85f3"
      },
      "execution_count": null,
      "outputs": [
        {
          "output_type": "stream",
          "name": "stdout",
          "text": [
            "2*2 = 04   2*3 = 06   2*4 = 08   2*5 = 10   2*6 = 12   2*7 = 14   2*8 = 16   2*9 = 18   \n",
            "3*2 = 06   3*3 = 09   3*4 = 12   3*5 = 15   3*6 = 18   3*7 = 21   3*8 = 24   3*9 = 27   \n",
            "4*2 = 08   4*3 = 12   4*4 = 16   4*5 = 20   4*6 = 24   4*7 = 28   4*8 = 32   4*9 = 36   \n",
            "5*2 = 10   5*3 = 15   5*4 = 20   5*5 = 25   5*6 = 30   5*7 = 35   5*8 = 40   5*9 = 45   \n",
            "6*2 = 12   6*3 = 18   6*4 = 24   6*5 = 30   6*6 = 36   6*7 = 42   6*8 = 48   6*9 = 54   \n",
            "7*2 = 14   7*3 = 21   7*4 = 28   7*5 = 35   7*6 = 42   7*7 = 49   7*8 = 56   7*9 = 63   \n",
            "8*2 = 16   8*3 = 24   8*4 = 32   8*5 = 40   8*6 = 48   8*7 = 56   8*8 = 64   8*9 = 72   \n",
            "9*2 = 18   9*3 = 27   9*4 = 36   9*5 = 45   9*6 = 54   9*7 = 63   9*8 = 72   9*9 = 81   \n"
          ]
        }
      ]
    },
    {
      "cell_type": "code",
      "source": [
        "# 星星\n",
        "# list(range(1, 10, 2))\n",
        "for i in range(1, 10, 2):\n",
        "    print(i*'*')"
      ],
      "metadata": {
        "colab": {
          "base_uri": "https://localhost:8080/"
        },
        "id": "Kw9vwFN4zQsw",
        "outputId": "b99eccd1-4a5e-45e0-d9b6-5a984df758c1"
      },
      "execution_count": null,
      "outputs": [
        {
          "output_type": "stream",
          "name": "stdout",
          "text": [
            "*\n",
            "***\n",
            "*****\n",
            "*******\n",
            "*********\n"
          ]
        }
      ]
    },
    {
      "cell_type": "code",
      "source": [
        "for i in range(1, 10, 2):\n",
        "    print((9-i) * ' ', end= ' ') #計算空白處\n",
        "    print(i * '*')"
      ],
      "metadata": {
        "colab": {
          "base_uri": "https://localhost:8080/"
        },
        "id": "WV4r3YAu8KLM",
        "outputId": "f3aa0f31-d508-4e76-9e17-4eaa4a54e0b0"
      },
      "execution_count": null,
      "outputs": [
        {
          "output_type": "stream",
          "name": "stdout",
          "text": [
            "         *\n",
            "       ***\n",
            "     *****\n",
            "   *******\n",
            " *********\n"
          ]
        }
      ]
    },
    {
      "cell_type": "code",
      "source": [
        "for i in range(1, 10, 2):\n",
        "    print(int((9-i) / 2) * ' ', end= ' ') #python被除過會變成浮點數\n",
        "    print(i * '*')\n",
        "for i in range(1, 2, 2):\n",
        "    print(\"{:^11}\".format(i * '|'))"
      ],
      "metadata": {
        "colab": {
          "base_uri": "https://localhost:8080/"
        },
        "id": "HrS99kdx-P8l",
        "outputId": "3bbce0b8-89c3-497c-9b47-88f27806f937"
      },
      "execution_count": null,
      "outputs": [
        {
          "output_type": "stream",
          "name": "stdout",
          "text": [
            "     *\n",
            "    ***\n",
            "   *****\n",
            "  *******\n",
            " *********\n",
            "     |     \n"
          ]
        }
      ]
    },
    {
      "cell_type": "code",
      "source": [
        "for i in range(1, 10, 2):\n",
        "    print(\"{:9}\".format(i * '*'))\n",
        "\n",
        "for i in range(1, 10, 2):\n",
        "    print(\"{:>9}\".format(i * '*'))    \n",
        "\n",
        "for i in range(1, 10, 2):\n",
        "    print(\"{:^9}\".format(i * '*'))"
      ],
      "metadata": {
        "colab": {
          "base_uri": "https://localhost:8080/"
        },
        "id": "wq4Q2CPSF36t",
        "outputId": "c01d5a2c-c2f1-454e-d970-d60718fcdb1b"
      },
      "execution_count": null,
      "outputs": [
        {
          "output_type": "stream",
          "name": "stdout",
          "text": [
            "*        \n",
            "***      \n",
            "*****    \n",
            "*******  \n",
            "*********\n",
            "        *\n",
            "      ***\n",
            "    *****\n",
            "  *******\n",
            "*********\n",
            "    *    \n",
            "   ***   \n",
            "  *****  \n",
            " ******* \n",
            "*********\n"
          ]
        }
      ]
    }
  ]
}