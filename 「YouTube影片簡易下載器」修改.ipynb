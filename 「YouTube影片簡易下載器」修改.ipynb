{
  "nbformat": 4,
  "nbformat_minor": 0,
  "metadata": {
    "colab": {
      "provenance": [],
      "collapsed_sections": [],
      "include_colab_link": true
    },
    "kernelspec": {
      "name": "python3",
      "display_name": "Python 3"
    },
    "language_info": {
      "name": "python"
    }
  },
  "cells": [
    {
      "cell_type": "markdown",
      "metadata": {
        "id": "view-in-github",
        "colab_type": "text"
      },
      "source": [
        "<a href=\"https://colab.research.google.com/github/ss1111119/Myfirstproject/blob/main/%E3%80%8CYouTube%E5%BD%B1%E7%89%87%E7%B0%A1%E6%98%93%E4%B8%8B%E8%BC%89%E5%99%A8%E3%80%8D%E4%BF%AE%E6%94%B9.ipynb\" target=\"_parent\"><img src=\"https://colab.research.google.com/assets/colab-badge.svg\" alt=\"Open In Colab\"/></a>"
      ]
    },
    {
      "cell_type": "code",
      "source": [
        "#@title YouTube影片簡易下載器\n",
        "#@markdown 1. 請在下方 **url** 欄位中輸入要下載YouTube影片的網址\n",
        "#@markdown 2. 按左方的 **Play** 鈕執行程式\n",
        "\n",
        "# 安裝模組\n",
        "!pip install -U pytube\n",
        "\n",
        "# 抓取單一檔案\n",
        "from google.colab import drive\n",
        "drive.mount('/content/drive')\n",
        "import os\n",
        "os.chdir('/content/drive/MyDrive/Colab Notebooks')  # 使用 Colab 要換路徑使用\n",
        "from pytube import YouTube\n",
        "print('download...')\n",
        "# from google.colab import files\n",
        "# 填入下載網址\n",
        "url = 'https://www.youtube.com/watch?v=UdWj76XK_X8&t=2s&ab_channel=%E8%8C%B6%E7%B1%B3%E8%80%81%E5%B8%AB%E6%95%99%E5%AE%A4' #@param {type:\"string\"}\n",
        "yt = YouTube(url)\n",
        "yt.streams.get_highest_resolution().download('youtube')\n",
        "print()\n",
        "print('ok!')\n",
        "# 下載到本機\n",
        "# files.download(filename)"
      ],
      "metadata": {
        "id": "8JtZqgdieSQn",
        "colab": {
          "base_uri": "https://localhost:8080/"
        },
        "outputId": "5510d595-f316-4047-e779-eac5f93f13bb"
      },
      "execution_count": 29,
      "outputs": [
        {
          "output_type": "stream",
          "name": "stdout",
          "text": [
            "Looking in indexes: https://pypi.org/simple, https://us-python.pkg.dev/colab-wheels/public/simple/\n",
            "Requirement already satisfied: pytube in /usr/local/lib/python3.7/dist-packages (12.1.0)\n",
            "Drive already mounted at /content/drive; to attempt to forcibly remount, call drive.mount(\"/content/drive\", force_remount=True).\n",
            "download...\n",
            "\n",
            "ok!\n"
          ]
        }
      ]
    }
  ]
}