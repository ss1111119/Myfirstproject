{
  "nbformat": 4,
  "nbformat_minor": 0,
  "metadata": {
    "colab": {
      "name": "20220821.ipynb",
      "provenance": [],
      "authorship_tag": "ABX9TyNfTVrNE9Nkk1K5ruFeYn0q",
      "include_colab_link": true
    },
    "kernelspec": {
      "name": "python3",
      "display_name": "Python 3"
    },
    "language_info": {
      "name": "python"
    }
  },
  "cells": [
    {
      "cell_type": "markdown",
      "metadata": {
        "id": "view-in-github",
        "colab_type": "text"
      },
      "source": [
        "<a href=\"https://colab.research.google.com/github/ss1111119/Myfirstproject/blob/main/20220821.ipynb\" target=\"_parent\"><img src=\"https://colab.research.google.com/assets/colab-badge.svg\" alt=\"Open In Colab\"/></a>"
      ]
    },
    {
      "cell_type": "markdown",
      "source": [
        "# 例外處理"
      ],
      "metadata": {
        "id": "sSiHwN98t3A7"
      }
    },
    {
      "cell_type": "markdown",
      "source": [
        "## try…except 的語法  \n",
        "\n",
        "```\n",
        "try:(必填)\n",
        "    可能引發例外的程式區塊\n",
        "except 例外情形一 [as 參數]:\n",
        "    處理例外的程式區塊一\n",
        "except Exception [as 參數]:(必填)\n",
        "    處理所有其他可能發生的例外\n",
        "else: (非必填)\n",
        "    指令正確時執行的程式區塊\n",
        "finally:(非必填)\n",
        "    一定會執行的程式區塊\n",
        "```"
      ],
      "metadata": {
        "id": "HILT-uYbz81z"
      }
    },
    {
      "cell_type": "code",
      "source": [
        "# 語法測試、練習\n",
        "try:\n",
        "    f = open('123.txt', 'r')\n",
        "except FileNotFoundError:\n",
        "    print('沒有這個檔案')\n",
        "except:\n",
        "    print('好像有什麼錯誤喔!')\n",
        "else:\n",
        "    print('有這個檔案喔!')\n",
        "finally:\n",
        "    print('程式結束啦')"
      ],
      "metadata": {
        "colab": {
          "base_uri": "https://localhost:8080/"
        },
        "id": "_H2K50Fq0BFP",
        "outputId": "a878c787-7c88-4b1f-c830-5d6819ee1b89"
      },
      "execution_count": 3,
      "outputs": [
        {
          "output_type": "stream",
          "name": "stdout",
          "text": [
            "沒有這個檔案\n",
            "程式結束啦\n"
          ]
        }
      ]
    },
    {
      "cell_type": "markdown",
      "source": [
        "## try…except常用例外錯誤表  \n",
        "* AttributeError：物件無此屬性。  \n",
        "* Exception：所有的錯誤。  \n",
        "* FileNotFoundError：open()開啟檔案時找不檔案的錯誤。  \n",
        "* IOError：輸入/ 輸出錯誤。  \n",
        "* ZeroDivisionError：除數為0的錯誤。\n"
      ],
      "metadata": {
        "id": "04Ctf2uV3o5i"
      }
    }
  ]
}