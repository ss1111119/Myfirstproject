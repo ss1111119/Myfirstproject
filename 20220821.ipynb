{
  "nbformat": 4,
  "nbformat_minor": 0,
  "metadata": {
    "colab": {
      "name": "20220821.ipynb",
      "provenance": [],
      "authorship_tag": "ABX9TyMheRTw56OLC0oQx0dO2Q3Q",
      "include_colab_link": true
    },
    "kernelspec": {
      "name": "python3",
      "display_name": "Python 3"
    },
    "language_info": {
      "name": "python"
    }
  },
  "cells": [
    {
      "cell_type": "markdown",
      "metadata": {
        "id": "view-in-github",
        "colab_type": "text"
      },
      "source": [
        "<a href=\"https://colab.research.google.com/github/ss1111119/Myfirstproject/blob/main/20220821.ipynb\" target=\"_parent\"><img src=\"https://colab.research.google.com/assets/colab-badge.svg\" alt=\"Open In Colab\"/></a>"
      ]
    },
    {
      "cell_type": "markdown",
      "source": [
        "# 例外處理"
      ],
      "metadata": {
        "id": "sSiHwN98t3A7"
      }
    },
    {
      "cell_type": "markdown",
      "source": [
        "## try…except 的語法  \n",
        "\n",
        "```\n",
        "try:(必填)\n",
        "    可能引發例外的程式區塊\n",
        "except 例外情形一 [as 參數]:\n",
        "    處理例外的程式區塊一\n",
        "except Exception [as 參數]:(必填)\n",
        "    處理所有其他可能發生的例外\n",
        "else: (非必填)\n",
        "    指令正確時執行的程式區塊\n",
        "finally:(非必填)\n",
        "    一定會執行的程式區塊\n",
        "```"
      ],
      "metadata": {
        "id": "HILT-uYbz81z"
      }
    },
    {
      "cell_type": "code",
      "source": [
        "# 語法測試、練習\n",
        "try:\n",
        "    f = open('123.txt', 'r')\n",
        "# except FileNotFoundError:\n",
        "#     print('沒有這個檔案')\n",
        "except:\n",
        "    print('好像有什麼錯誤喔!')\n",
        "else:\n",
        "    print('有這個檔案喔!')\n",
        "finally: #永遠會執行\n",
        "    print('程式結束啦')"
      ],
      "metadata": {
        "id": "_H2K50Fq0BFP"
      },
      "execution_count": null,
      "outputs": []
    },
    {
      "cell_type": "markdown",
      "source": [
        "## try…except常用例外錯誤表  \n",
        "* AttributeError：物件無此屬性。  \n",
        "* Exception：所有的錯誤。  \n",
        "* FileNotFoundError：open()開啟檔案時找不檔案的錯誤。  \n",
        "* IOError：輸入/ 輸出錯誤。  \n",
        "* ZeroDivisionError：除數為0的錯誤。\n"
      ],
      "metadata": {
        "id": "04Ctf2uV3o5i"
      }
    },
    {
      "cell_type": "code",
      "source": [
        "# 範例：捕捉非數值資料和除數為0的錯誤\n",
        "try:\n",
        "    a = int(input(\"a = \"))\n",
        "    b = int(input(\"b = \"))\n",
        "    r = a % b\n",
        "except ValueError:\n",
        "    print(\"你不要輸入文字或怪怪的東西啦\")\n",
        "except ZeroDivisionError as e:\n",
        "    print(\"這裡發生了一{}個錯誤\".format(e))\n",
        "except:\n",
        "    print(\"你要不要正經一點?\")\n",
        "else:\n",
        "    print(\"r = {}\".format(r))\n",
        "finally:\n",
        "    print(\"程式結束\")"
      ],
      "metadata": {
        "id": "YY44Ffqq7Uru"
      },
      "execution_count": null,
      "outputs": []
    },
    {
      "cell_type": "code",
      "source": [
        "while True: #要求你輸入到正確為止\n",
        "    try:\n",
        "        a = int(input(\"a = \"))\n",
        "        b = int(input(\"b = \"))\n",
        "        r = a % b\n",
        "    except ValueError:\n",
        "        print(\"你不要輸入文字或怪怪的東西啦!\")\n",
        "    except ZeroDivisionError as e:\n",
        "        print(\"這裡發生了一個{}的錯誤\".format(e))\n",
        "    except:\n",
        "        print(\"你要不要正經一點?\")\n",
        "    else:\n",
        "        print(\"r = {}\".format(r))\n",
        "        break\n",
        "    finally:\n",
        "        print(\"-\" * 10) "
      ],
      "metadata": {
        "id": "LOgNm8mvMTG-"
      },
      "execution_count": null,
      "outputs": []
    },
    {
      "cell_type": "markdown",
      "source": [
        "# 文件檔案的爬取與儲存"
      ],
      "metadata": {
        "id": "UEZmkM6PNfAK"
      }
    },
    {
      "cell_type": "markdown",
      "source": [
        "## 資料檔案的儲存：open()函式\n",
        "### 語法\n",
        "    with open(檔案名稱[, 模式][, 編碼]) as f: #檔案物件\n",
        "        f.檔案處理函式()\n",
        "\n",
        "* 檔案名稱：設定檔案的名稱，它是字串型態。  \n",
        "* 模式：設定檔案開啟的模式，省略將預設為讀取模式。  \n",
        "    * r\t：讀取模式，此為預設模式。  \n",
        "    * a\t：附加模式，若檔案已存在，內容會被附加至檔案尾。    \n",
        "    * w\t：寫入模式，若檔案已存在，內容將會被覆蓋。  \n",
        "    * b ：二進位模式\n",
        "* 編碼：指定檔案的編碼模式，一般可設定`cp950`或`UTF-8` (大小寫都可以)。\n",
        "\n",
        "## 檔案處理函式\n",
        "* read()：讀取檔案內容為文字。\n",
        "* readline()：讀取檔案內容的第一行文字。\n",
        "* readlines()：讀取檔案內容，以行為元素儲存為串列。\n",
        "* write()：寫入檔案。\n",
        "* close()：關閉檔案。"
      ],
      "metadata": {
        "id": "QKPU-FKVNio0"
      }
    },
    {
      "cell_type": "code",
      "source": [
        "# 文字檔案讀寫的範例\n",
        "f = open('file.txt', 'w')\n",
        "f.write('abc')\n",
        "f.close()\n",
        "\n",
        "f = open('file.txt', 'a')\n",
        "f.write('123')\n",
        "f.close()\n",
        "\n",
        "f = open('file.txt')\n",
        "print(f.read())\n",
        "f.close()"
      ],
      "metadata": {
        "id": "KzTxqVsJNv7a"
      },
      "execution_count": null,
      "outputs": []
    },
    {
      "cell_type": "code",
      "source": [
        "f = open('file1.txt', 'a')\n",
        "f.write('123')\n",
        "f.write('abc')\n",
        "f.close()"
      ],
      "metadata": {
        "id": "-hTaI2gwYhtL"
      },
      "execution_count": null,
      "outputs": []
    },
    {
      "cell_type": "code",
      "source": [
        "with open('file2.txt', 'a') as f: #用with 寫這個物件，當程式脫離迴圈就會自動關起來\n",
        "    f.write('123')\n",
        "    f.write('abc')"
      ],
      "metadata": {
        "id": "586jkFlFZUok"
      },
      "execution_count": null,
      "outputs": []
    },
    {
      "cell_type": "markdown",
      "source": [
        "## 資料的爬取：requests模組"
      ],
      "metadata": {
        "id": "f4k1cb6taHy0"
      }
    },
    {
      "cell_type": "code",
      "source": [
        "# 讀取遠端資料\n",
        "# COVID-19各國家地區累積病例數與死亡數\n",
        "# https://data.gov.tw/dataset/120449\n",
        "import requests\n",
        "url = 'https://od.cdc.gov.tw/eic/covid19/covid19_global_cases_and_deaths.csv'\n",
        "r = requests.get(url)\n",
        "r.encoding = \"utf-8\" #轉換成中文編碼\n",
        "r"
      ],
      "metadata": {
        "id": "x1uU0LTJak4s"
      },
      "execution_count": null,
      "outputs": []
    },
    {
      "cell_type": "code",
      "source": [
        "# r.text\n",
        "print(r.text)"
      ],
      "metadata": {
        "id": "Uyx8B7QEg9-t"
      },
      "execution_count": null,
      "outputs": []
    },
    {
      "cell_type": "code",
      "source": [
        "# 文字檔案下載\n",
        "with open('covid-19.csv', 'w') as f:\n",
        "    f.write(r.text)"
      ],
      "metadata": {
        "id": "HVA9cLe4ihGP"
      },
      "execution_count": null,
      "outputs": []
    },
    {
      "cell_type": "code",
      "source": [
        "# 圖片下載\n",
        "# https://youtu.be/qo3H-VgXmHE\n",
        "# https://img.youtube.com/vi/qo3H-VgXmHE/sddefault.jpg (取得縮圖)\n",
        "import requests\n",
        "url = 'https://img.youtube.com/vi/qo3H-VgXmHE/sddefault.jpg'\n",
        "r = requests.get(url)\n",
        "with open('ng.jpg', 'wb') as f: #w寫入b二進位檔案\n",
        "    f.write(r.content)"
      ],
      "metadata": {
        "id": "nnd6OWHCkDSR"
      },
      "execution_count": null,
      "outputs": []
    },
    {
      "cell_type": "markdown",
      "source": [
        "### Colab專用：wget指令"
      ],
      "metadata": {
        "id": "3W8w3s8MohST"
      }
    },
    {
      "cell_type": "code",
      "source": [
        "# 用 wget 指令\n",
        "# !wget -O 檔名 網址\n",
        "!wget -O google.png https://www.google.com/images/branding/googlelogo/1x/googlelogo_color_272x92dp.png"
      ],
      "metadata": {
        "id": "u6G4qO60okbL"
      },
      "execution_count": null,
      "outputs": []
    },
    {
      "cell_type": "markdown",
      "source": [
        "# 網頁資料解析"
      ],
      "metadata": {
        "id": "UhgVqv-fo5Xp"
      }
    },
    {
      "cell_type": "markdown",
      "source": [
        "## 網頁資料解析：BeautifulSoup模組\n"
      ],
      "metadata": {
        "id": "YUzTwC5po9CE"
      }
    },
    {
      "cell_type": "code",
      "source": [
        "# 基本練習\n",
        "# http://ehappy.tw/bsdemo1.htm\n",
        "import requests\n",
        "url = 'http://ehappy.tw/bsdemo1.htm'\n",
        "r = requests.get(url)\n",
        "r.encoding = 'utf-8'\n",
        "print(r.text)"
      ],
      "metadata": {
        "id": "PaIrbL5UqQkb"
      },
      "execution_count": null,
      "outputs": []
    },
    {
      "cell_type": "code",
      "source": [
        "from bs4 import BeautifulSoup\n",
        "sp = BeautifulSoup(r.text, 'html.parser')\n",
        "sp.title\n",
        "sp.title.text\n",
        "sp.h1.text\n",
        "sp.a.text"
      ],
      "metadata": {
        "id": "FmJclc0ruJWJ"
      },
      "execution_count": null,
      "outputs": []
    },
    {
      "cell_type": "code",
      "source": [
        "# 練習 find() find_all()\n",
        "# http://ehappy.tw/bsdemo2.htm\n",
        "import requests\n",
        "from bs4 import BeautifulSoup\n",
        "\n",
        "url = 'http://ehappy.tw/bsdemo2.htm'\n",
        "r = requests.get(url)\n",
        "r.encoding = 'utf-8'\n",
        "sp = BeautifulSoup(r.text, 'html.parser')\n",
        "sp.title.text\n",
        "sp.h1.text\n",
        "sp.a.text"
      ],
      "metadata": {
        "id": "Uo_etBg2vlIY"
      },
      "execution_count": null,
      "outputs": []
    },
    {
      "cell_type": "code",
      "source": [
        "# 找標籤tag\n",
        "# sp.find('p').text\n",
        "sp.find_all('p')[1].text\n",
        "\n",
        "sp.find('p', id= 'p2').text\n",
        "sp.find_all('a')[1]\n",
        "sp.find('a', href = 'http://www.e-happy.com.tw').text\n",
        "sp.find('li', class_ = 'even').find('a').text #class是保留字，要注意\n",
        "sp.find('li', class_ = 'even').text #只取文字檔\n",
        "sp.find('li', class_ = 'even').a.text #a標籤中的文字"
      ],
      "metadata": {
        "id": "4OGnKqGwyUsJ"
      },
      "execution_count": null,
      "outputs": []
    },
    {
      "cell_type": "code",
      "source": [
        "# 取的屬性\n",
        "sp.find('li', class_ = 'even').a['href']\n",
        "sp.find('li', class_ = 'even').a.get('href')\n",
        "\n",
        "sp.img.get('src')\n",
        "sp.img['src']\n",
        "sp.find('img').get('src')\n",
        "sp.find_all('img')[0].get('src')"
      ],
      "metadata": {
        "id": "rJXB9dre4OCW"
      },
      "execution_count": null,
      "outputs": []
    },
    {
      "cell_type": "markdown",
      "source": [
        "## 專題：PTT美食版\n",
        "\n",
        "https://www.ptt.cc/bbs/Food/index.html"
      ],
      "metadata": {
        "id": "c0F0vCzQIPOf"
      }
    },
    {
      "cell_type": "code",
      "source": [
        "# 基本版\n",
        "import requests\n",
        "from bs4 import BeautifulSoup\n",
        "\n",
        "url = 'https://www.ptt.cc/bbs/Food/index7001.html'\n",
        "r = requests.get(url)\n",
        "# print(r.text)\n",
        "sp = BeautifulSoup(r.text, 'html.parser')\n",
        "sp.title.text"
      ],
      "metadata": {
        "colab": {
          "base_uri": "https://localhost:8080/",
          "height": 36
        },
        "id": "161CEaIbIXLv",
        "outputId": "9e87def5-cb5c-4d6d-d5b6-d717f0322966"
      },
      "execution_count": 151,
      "outputs": [
        {
          "output_type": "execute_result",
          "data": {
            "text/plain": [
              "'看板 Food 文章列表 - 批踢踢實業坊'"
            ],
            "application/vnd.google.colaboratory.intrinsic+json": {
              "type": "string"
            }
          },
          "metadata": {},
          "execution_count": 151
        }
      ]
    },
    {
      "cell_type": "code",
      "source": [
        "# len(sp.find_all(\"div\", class_='r-ent'))\n",
        "datas = sp.find_all(\"div\", class_='r-ent')\n",
        "# datas[19].a.text #簡寫\n",
        "# datas[0].find('a').text#datas[0]取得第一個標題，再找a連結中的列，最後只取文text文字檔\n",
        "for data in datas:\n",
        "    if data.a == None: #因為有文章被刪除，所以要排除，不然會中斷\n",
        "       print(data.a)\n",
        "    else:\n",
        "       print(data.a.text)"
      ],
      "metadata": {
        "colab": {
          "base_uri": "https://localhost:8080/"
        },
        "id": "vlCYsb5GMWo8",
        "outputId": "f96bbd36-efbc-4ec5-ceec-1836fab7bf96"
      },
      "execution_count": 191,
      "outputs": [
        {
          "output_type": "stream",
          "name": "stdout",
          "text": [
            "[食記] 花蓮-弘宇蛋糕~愛文芒果蛋糕\n",
            "[食記] 永美雪花冰 新北永和 黑糖珍珠奶茶雪花冰\n",
            "None\n",
            "[廣宣] 信義。筷炒KUAICHAO $499酒飲料喝到飽\n",
            "[食記] 台北 黑瓶小館 讓人驚豔的牛舌、小牛肋排\n",
            "[請益] 雙北或基隆宜蘭餐廳推薦\n",
            "[食記] 台北 元味料理 海戰車好甜美\n",
            "[食記] 新北三重—源記赤肉胡椒餅｜酥脆餅皮包裹鹹香夠味肉餡\n",
            "[食記] 嘉義 體育館海鮮碳烤 熱炒、雞肉飯好吃\n",
            "[食記] 貢寮 吃飯看海 海景餐廳 九孔鮑產地直送\n",
            "[食記] 礁溪 空ㄟ農場 景觀餐廳 吃Pizza看夜景\n",
            "[食記] 台北 荷麵亭 特濃豚骨拉麵\n",
            "[食記] 日本福岡 大地のうどん 博多駅店\n",
            "[食記] 台南東區 葒莊珍珠輕飲 手工粉圓自製冰塊\n",
            "[食記] 台南永康 川醉湘麻辣食堂 麻辣很過癮\n",
            "[食記] 基隆市中正區-濃月雪花冰\n",
            "[食記] 桃園中壢區。KLG 中壢健行店\n",
            "[食記] 基隆 長腳麵食\n",
            "[食記] 新北板橋 發肉燒肉餐酒吧-板橋三店\n",
            "[食記] 高雄 路竹 鳳如辣辣火鍋\n"
          ]
        }
      ]
    },
    {
      "cell_type": "code",
      "source": [
        "import requests\n",
        "from bs4 import BeautifulSoup\n",
        "\n",
        "url = 'https://www.ptt.cc/bbs/Food/index7001.html'\n",
        "r = requests.get(url)\n",
        "\n",
        "sp = BeautifulSoup(r.text, 'html.parser')\n",
        "\n",
        "datas = sp.find_all(\"div\", class_='r-ent')\n",
        "for data in datas:\n",
        "    if data.a == None:\n",
        "       print(data.a)\n",
        "    else:\n",
        "       print(data.a.text)"
      ],
      "metadata": {
        "colab": {
          "base_uri": "https://localhost:8080/"
        },
        "id": "-ud29foIgCL6",
        "outputId": "c2b50009-ed62-4467-99b3-38b92e246715"
      },
      "execution_count": 190,
      "outputs": [
        {
          "output_type": "stream",
          "name": "stdout",
          "text": [
            "[食記] 花蓮-弘宇蛋糕~愛文芒果蛋糕\n",
            "[食記] 永美雪花冰 新北永和 黑糖珍珠奶茶雪花冰\n",
            "None\n",
            "[廣宣] 信義。筷炒KUAICHAO $499酒飲料喝到飽\n",
            "[食記] 台北 黑瓶小館 讓人驚豔的牛舌、小牛肋排\n",
            "[請益] 雙北或基隆宜蘭餐廳推薦\n",
            "[食記] 台北 元味料理 海戰車好甜美\n",
            "[食記] 新北三重—源記赤肉胡椒餅｜酥脆餅皮包裹鹹香夠味肉餡\n",
            "[食記] 嘉義 體育館海鮮碳烤 熱炒、雞肉飯好吃\n",
            "[食記] 貢寮 吃飯看海 海景餐廳 九孔鮑產地直送\n",
            "[食記] 礁溪 空ㄟ農場 景觀餐廳 吃Pizza看夜景\n",
            "[食記] 台北 荷麵亭 特濃豚骨拉麵\n",
            "[食記] 日本福岡 大地のうどん 博多駅店\n",
            "[食記] 台南東區 葒莊珍珠輕飲 手工粉圓自製冰塊\n",
            "[食記] 台南永康 川醉湘麻辣食堂 麻辣很過癮\n",
            "[食記] 基隆市中正區-濃月雪花冰\n",
            "[食記] 桃園中壢區。KLG 中壢健行店\n",
            "[食記] 基隆 長腳麵食\n",
            "[食記] 新北板橋 發肉燒肉餐酒吧-板橋三店\n",
            "[食記] 高雄 路竹 鳳如辣辣火鍋\n"
          ]
        }
      ]
    }
  ]
}