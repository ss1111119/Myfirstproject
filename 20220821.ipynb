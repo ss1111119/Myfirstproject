{
  "nbformat": 4,
  "nbformat_minor": 0,
  "metadata": {
    "colab": {
      "name": "20220821.ipynb",
      "provenance": [],
      "authorship_tag": "ABX9TyN+SG//qO2XiEkXKF/UDoML",
      "include_colab_link": true
    },
    "kernelspec": {
      "name": "python3",
      "display_name": "Python 3"
    },
    "language_info": {
      "name": "python"
    }
  },
  "cells": [
    {
      "cell_type": "markdown",
      "metadata": {
        "id": "view-in-github",
        "colab_type": "text"
      },
      "source": [
        "<a href=\"https://colab.research.google.com/github/ss1111119/Myfirstproject/blob/main/20220821.ipynb\" target=\"_parent\"><img src=\"https://colab.research.google.com/assets/colab-badge.svg\" alt=\"Open In Colab\"/></a>"
      ]
    },
    {
      "cell_type": "markdown",
      "source": [
        "# 例外處理"
      ],
      "metadata": {
        "id": "sSiHwN98t3A7"
      }
    },
    {
      "cell_type": "markdown",
      "source": [
        "## try…except 的語法  \n",
        "\n",
        "```\n",
        "try:(必填)\n",
        "    可能引發例外的程式區塊\n",
        "except 例外情形一 [as 參數]:\n",
        "    處理例外的程式區塊一\n",
        "except Exception [as 參數]:(必填)\n",
        "    處理所有其他可能發生的例外\n",
        "else: (非必填)\n",
        "    指令正確時執行的程式區塊\n",
        "finally:(非必填)\n",
        "    一定會執行的程式區塊\n",
        "```"
      ],
      "metadata": {
        "id": "HILT-uYbz81z"
      }
    },
    {
      "cell_type": "code",
      "source": [
        "# 語法測試、練習\n",
        "try:\n",
        "    f = open('123.txt', 'r')\n",
        "# except FileNotFoundError:\n",
        "#     print('沒有這個檔案')\n",
        "except:\n",
        "    print('好像有什麼錯誤喔!')\n",
        "else:\n",
        "    print('有這個檔案喔!')\n",
        "finally: #永遠會執行\n",
        "    print('程式結束啦')"
      ],
      "metadata": {
        "colab": {
          "base_uri": "https://localhost:8080/"
        },
        "id": "_H2K50Fq0BFP",
        "outputId": "2bd390a5-de47-47a7-f1e9-19be5ff5ea05"
      },
      "execution_count": 4,
      "outputs": [
        {
          "output_type": "stream",
          "name": "stdout",
          "text": [
            "好像有什麼錯誤喔!\n",
            "程式結束啦\n"
          ]
        }
      ]
    },
    {
      "cell_type": "markdown",
      "source": [
        "## try…except常用例外錯誤表  \n",
        "* AttributeError：物件無此屬性。  \n",
        "* Exception：所有的錯誤。  \n",
        "* FileNotFoundError：open()開啟檔案時找不檔案的錯誤。  \n",
        "* IOError：輸入/ 輸出錯誤。  \n",
        "* ZeroDivisionError：除數為0的錯誤。\n"
      ],
      "metadata": {
        "id": "04Ctf2uV3o5i"
      }
    },
    {
      "cell_type": "code",
      "source": [
        "# 範例：捕捉非數值資料和除數為0的錯誤\n",
        "try:\n",
        "    a = int(input(\"a = \"))\n",
        "    b = int(input(\"b = \"))\n",
        "    r = a % b\n",
        "except ValueError:\n",
        "    print(\"你不要輸入文字或怪怪的東西啦\")\n",
        "except ZeroDivisionError as e:\n",
        "    print(\"這裡發生了一{}個錯誤\".format(e))\n",
        "except:\n",
        "    print(\"你要不要正經一點?\")\n",
        "else:\n",
        "    print(\"r = {}\".format(r))\n",
        "finally:\n",
        "    print(\"程式結束\")"
      ],
      "metadata": {
        "colab": {
          "base_uri": "https://localhost:8080/"
        },
        "id": "YY44Ffqq7Uru",
        "outputId": "f6be5f4d-2196-4a0e-82be-7d576fe0a11c"
      },
      "execution_count": 10,
      "outputs": [
        {
          "output_type": "stream",
          "name": "stdout",
          "text": [
            "a = 0\n",
            "b = 0\n",
            "這裡發生了一integer division or modulo by zero個錯誤\n",
            "程式結束\n"
          ]
        }
      ]
    },
    {
      "cell_type": "code",
      "source": [
        "while True: #要求你輸入到正確為止\n",
        "    try:\n",
        "        a = int(input(\"a = \"))\n",
        "        b = int(input(\"b = \"))\n",
        "        r = a % b\n",
        "    except ValueError:\n",
        "        print(\"你不要輸入文字或怪怪的東西啦!\")\n",
        "    except ZeroDivisionError as e:\n",
        "        print(\"這裡發生了一個{}的錯誤\".format(e))\n",
        "    except:\n",
        "        print(\"你要不要正經一點?\")\n",
        "    else:\n",
        "        print(\"r = {}\".format(r))\n",
        "        break\n",
        "    finally:\n",
        "        print(\"-\" * 10) "
      ],
      "metadata": {
        "colab": {
          "base_uri": "https://localhost:8080/"
        },
        "id": "LOgNm8mvMTG-",
        "outputId": "d49267c0-9bf5-4563-c77c-ec3a732b6a95"
      },
      "execution_count": 12,
      "outputs": [
        {
          "output_type": "stream",
          "name": "stdout",
          "text": [
            "a = 0\n",
            "b = 0\n",
            "這裡發生了一個integer division or modulo by zero的錯誤\n",
            "----------\n",
            "a = 9\n",
            "b = 2\n",
            "r = 1\n",
            "----------\n"
          ]
        }
      ]
    },
    {
      "cell_type": "markdown",
      "source": [
        "# 文件檔案的爬取與儲存"
      ],
      "metadata": {
        "id": "UEZmkM6PNfAK"
      }
    },
    {
      "cell_type": "markdown",
      "source": [
        "## 資料檔案的儲存：open()函式\n",
        "### 語法\n",
        "    with open(檔案名稱[, 模式][, 編碼]) as f: #檔案物件\n",
        "        f.檔案處理函式()\n",
        "\n",
        "* 檔案名稱：設定檔案的名稱，它是字串型態。  \n",
        "* 模式：設定檔案開啟的模式，省略將預設為讀取模式。  \n",
        "    * r\t：讀取模式，此為預設模式。  \n",
        "    * a\t：附加模式，若檔案已存在，內容會被附加至檔案尾。    \n",
        "    * w\t：寫入模式，若檔案已存在，內容將會被覆蓋。  \n",
        "    * b ：二進位模式\n",
        "* 編碼：指定檔案的編碼模式，一般可設定`cp950`或`UTF-8` (大小寫都可以)。\n",
        "\n",
        "## 檔案處理函式\n",
        "* read()：讀取檔案內容為文字。\n",
        "* readline()：讀取檔案內容的第一行文字。\n",
        "* readlines()：讀取檔案內容，以行為元素儲存為串列。\n",
        "* write()：寫入檔案。\n",
        "* close()：關閉檔案。"
      ],
      "metadata": {
        "id": "QKPU-FKVNio0"
      }
    },
    {
      "cell_type": "code",
      "source": [
        "# 文字檔案讀寫的範例\n",
        "f = open('file.txt', 'w')\n",
        "f.write('abc')\n",
        "f.close()\n",
        "\n",
        "f = open('file.txt', 'a')\n",
        "f.write('123')\n",
        "f.close()\n",
        "\n",
        "f = open('file.txt')\n",
        "print(f.read())\n",
        "f.close()"
      ],
      "metadata": {
        "colab": {
          "base_uri": "https://localhost:8080/"
        },
        "id": "KzTxqVsJNv7a",
        "outputId": "d3f59ece-8981-4410-efe5-6eee68f86da1"
      },
      "execution_count": 19,
      "outputs": [
        {
          "output_type": "stream",
          "name": "stdout",
          "text": [
            "abc123\n"
          ]
        }
      ]
    },
    {
      "cell_type": "code",
      "source": [
        "f = open('file1.txt', 'a')\n",
        "f.write('123')\n",
        "f.write('abc')\n",
        "f.close()"
      ],
      "metadata": {
        "colab": {
          "base_uri": "https://localhost:8080/"
        },
        "id": "-hTaI2gwYhtL",
        "outputId": "c3bcb54e-6fc4-43f0-8f68-d21ad2fb59b4"
      },
      "execution_count": 22,
      "outputs": [
        {
          "output_type": "execute_result",
          "data": {
            "text/plain": [
              "3"
            ]
          },
          "metadata": {},
          "execution_count": 22
        }
      ]
    },
    {
      "cell_type": "code",
      "source": [
        "with open('file2.txt', 'a') as f: #用with 寫這個物件，當程式脫離迴圈就會自動關起來\n",
        "    f.write('123')\n",
        "    f.write('abc')"
      ],
      "metadata": {
        "id": "586jkFlFZUok"
      },
      "execution_count": 24,
      "outputs": []
    },
    {
      "cell_type": "markdown",
      "source": [
        "## 資料的爬取：requests模組"
      ],
      "metadata": {
        "id": "f4k1cb6taHy0"
      }
    },
    {
      "cell_type": "code",
      "source": [
        "# 讀取遠端資料\n",
        "# COVID-19各國家地區累積病例數與死亡數\n",
        "# https://data.gov.tw/dataset/120449\n",
        "import requests\n",
        "url = 'https://od.cdc.gov.tw/eic/covid19/covid19_global_cases_and_deaths.csv'\n",
        "r = requests.get(url)\n",
        "r.encoding = \"utf-8\" #轉換成中文編碼\n",
        "r"
      ],
      "metadata": {
        "colab": {
          "base_uri": "https://localhost:8080/"
        },
        "id": "x1uU0LTJak4s",
        "outputId": "c6b99347-d45b-4cc0-e549-e51cf1fa728c"
      },
      "execution_count": 35,
      "outputs": [
        {
          "output_type": "execute_result",
          "data": {
            "text/plain": [
              "<Response [200]>"
            ]
          },
          "metadata": {},
          "execution_count": 35
        }
      ]
    },
    {
      "cell_type": "code",
      "source": [
        "# r.text\n",
        "print(r.text)"
      ],
      "metadata": {
        "colab": {
          "base_uri": "https://localhost:8080/"
        },
        "id": "Uyx8B7QEg9-t",
        "outputId": "af3c22aa-4e8a-4ada-f7fb-250a6ee182da"
      },
      "execution_count": 37,
      "outputs": [
        {
          "output_type": "stream",
          "name": "stdout",
          "text": [
            "country_ch,country_en,cases,deaths\r\n",
            "美國,United States,\"92,896,491\",\"1,061,719\"\r\n",
            "印度,India,\"44,327,890\",\"527,289\"\r\n",
            "法國,France,\"34,339,792\",\"153,501\"\r\n",
            "巴西,Brazil,\"34,279,785\",\"682,502\"\r\n",
            "德國,Germany,\"31,808,179\",\"146,504\"\r\n",
            "英國,United Kingdom,\"23,460,787\",\"187,018\"\r\n",
            "韓國,South Korea,\"22,129,387\",\"25,980\"\r\n",
            "義大利,Italy,\"21,630,998\",\"174,659\"\r\n",
            "俄羅斯,Russia,\"19,077,674\",\"383,496\"\r\n",
            "日本,Japan,\"16,979,096\",\"36,837\"\r\n",
            "土耳其,Turkey,\"16,671,848\",\"100,400\"\r\n",
            "西班牙,Spain,\"13,314,764\",\"112,128\"\r\n",
            "越南,Vietnam,\"11,382,258\",\"43,104\"\r\n",
            "澳洲,Australia,\"9,902,772\",\"13,320\"\r\n",
            "阿根廷,Argentina,\"9,633,732\",\"129,566\"\r\n",
            "荷蘭,Netherlands,\"8,372,961\",\"22,574\"\r\n",
            "伊朗,Iran,\"7,503,369\",\"143,332\"\r\n",
            "墨西哥,Mexico,\"6,967,864\",\"329,012\"\r\n",
            "印尼,Indonesia,\"6,311,608\",\"157,365\"\r\n",
            "哥倫比亞,Colombia,\"6,293,130\",\"141,406\"\r\n",
            "波蘭,Poland,\"6,142,917\",\"116,881\"\r\n",
            "葡萄牙,Portugal,\"5,391,747\",\"24,772\"\r\n",
            "烏克蘭,Ukraine,\"5,035,828\",\"108,780\"\r\n",
            "臺灣,Taiwan,\"5,020,895\",\"9,608\"\r\n",
            "奧地利,Austria,\"4,857,488\",\"19,338\"\r\n",
            "馬來西亞,Malaysia,\"4,755,288\",\"36,136\"\r\n",
            "希臘,Greece,\"4,654,737\",\"32,028\"\r\n",
            "泰國,Thailand,\"4,632,212\",\"32,000\"\r\n",
            "以色列,Israel,\"4,622,058\",\"11,525\"\r\n",
            "比利時,Belgium,\"4,466,095\",\"32,436\"\r\n",
            "智利,Chile,\"4,432,586\",\"60,174\"\r\n",
            "加拿大,Canada,\"4,135,607\",\"43,583\"\r\n",
            "秘魯,Peru,\"4,061,357\",\"215,268\"\r\n",
            "捷克,Czech Republic,\"4,024,378\",\"40,714\"\r\n",
            "瑞士,Switzerland,\"4,012,607\",\"13,574\"\r\n",
            "南非,South Africa,\"4,009,730\",\"102,066\"\r\n",
            "菲律賓,Philippines,\"3,852,170\",\"61,308\"\r\n",
            "羅馬尼亞,Romania,\"3,184,930\",\"66,483\"\r\n",
            "丹麥,Denmark,\"3,130,520\",\"6,895\"\r\n",
            "瑞典,Sweden,\"2,558,943\",\"19,682\"\r\n",
            "伊拉克,Iraq,\"2,454,213\",\"25,338\"\r\n",
            "塞爾維亞,Serbia,\"2,240,552\",\"16,525\"\r\n",
            "匈牙利,Hungary,\"2,021,648\",\"47,083\"\r\n",
            "孟加拉,Bangladesh,\"2,009,797\",\"29,315\"\r\n",
            "斯洛伐克,Slovakia,\"1,830,756\",\"20,331\"\r\n",
            "新加坡,Singapore,\"1,814,915\",\"1,578\"\r\n",
            "喬治亞,Georgia,\"1,723,087\",\"16,883\"\r\n",
            "約旦,Jordan,\"1,720,778\",\"14,090\"\r\n",
            "紐西蘭,New Zealand,\"1,697,709\",\"1,824\"\r\n",
            "愛爾蘭,Ireland,\"1,653,576\",\"7,742\"\r\n",
            "巴基斯坦,Pakistan,\"1,565,768\",\"30,550\"\r\n",
            "挪威,Norway,\"1,458,952\",\"3,890\"\r\n",
            "香港,Hong Kong,\"1,451,725\",\"9,602\"\r\n",
            "哈薩克,Kazakhstan,\"1,382,809\",\"13,676\"\r\n",
            "摩洛哥,Morocco,\"1,263,943\",\"16,270\"\r\n",
            "芬蘭,Finland,\"1,250,557\",\"5,467\"\r\n",
            "保加利亞,Bulgaria,\"1,233,470\",\"37,541\"\r\n",
            "克羅埃西亞,Croatia,\"1,205,948\",\"16,559\"\r\n",
            "黎巴嫩,Lebanon,\"1,203,404\",\"10,599\"\r\n",
            "突尼西亞,Tunisia,\"1,141,773\",\"29,209\"\r\n",
            "斯洛維尼亞,Slovenia,\"1,111,936\",\"6,756\"\r\n",
            "古巴,Cuba,\"1,109,911\",\"8,529\"\r\n",
            "立陶宛,Lithuania,\"1,103,785\",\"9,257\"\r\n",
            "玻利維亞,Bolivia,\"1,091,468\",\"22,167\"\r\n",
            "瓜地馬拉,Guatemala,\"1,085,118\",\"19,339\"\r\n",
            "哥斯大黎加,Costa Rica,\"1,040,663\",\"8,808\"\r\n",
            "阿拉伯聯合大公國,UAE,\"1,009,116\",\"2,341\"\r\n",
            "尼泊爾,Nepal,\"995,039\",\"11,992\"\r\n",
            "白俄羅斯,Belarus,\"994,037\",\"7,118\"\r\n",
            "厄瓜多,Ecuador,\"988,583\",\"35,812\"\r\n",
            "烏拉圭,Uruguay,\"975,264\",\"7,429\"\r\n",
            "巴拿馬,Panama,\"966,779\",\"8,444\"\r\n",
            "拉脫維亞,Latvia,\"889,636\",\"5,920\"\r\n",
            "沙烏地阿拉伯,Saudi Arabia,\"812,550\",\"9,276\"\r\n",
            "亞塞拜然,Azerbaijan,\"807,984\",\"9,784\"\r\n",
            "巴拉圭,Paraguay,\"714,340\",\"19,448\"\r\n",
            "巴勒斯坦,Palestine,\"698,384\",\"5,694\"\r\n",
            "巴林,Bahrain,\"669,392\",\"1,513\"\r\n",
            "斯里蘭卡,Sri Lanka,\"668,827\",\"16,646\"\r\n",
            "科威特,Kuwait,\"656,393\",\"2,562\"\r\n",
            "多明尼加,Dominican,\"635,461\",\"4,384\"\r\n",
            "緬甸,Myanmar,\"614,573\",\"19,437\"\r\n",
            "愛沙尼亞,Estonia,\"595,228\",\"2,642\"\r\n",
            "賽普勒斯,Cyprus,\"571,994\",\"1,149\"\r\n",
            "摩爾多瓦,Moldova,\"561,196\",\"11,693\"\r\n",
            "委內瑞拉,Venezuela,\"541,187\",\"5,786\"\r\n",
            "蒙古,Mongolia,\"523,350\",\"2,124\"\r\n",
            "埃及,Egypt,\"515,645\",\"24,613\"\r\n",
            "利比亞,Libya,\"506,515\",\"6,436\"\r\n",
            "衣索比亞,Ethiopia,\"492,960\",\"7,571\"\r\n",
            "宏都拉斯,Honduras,\"450,393\",\"10,965\"\r\n",
            "亞美尼亞,Armenia,\"430,361\",\"8,643\"\r\n",
            "卡達,Qatar,\"423,118\",681\r\n",
            "阿曼,Oman,\"397,574\",\"4,260\"\r\n",
            "波士尼亞與赫塞哥維納,Bosnia and Herzegovina,\"393,235\",\"15,980\"\r\n",
            "肯亞,Kenya,\"338,042\",\"5,673\"\r\n",
            "北馬其頓,North Macedonia,\"337,513\",\"9,440\"\r\n",
            "尚比亞,Zambia,\"332,264\",\"4,016\"\r\n",
            "波札那,Botswana,\"325,850\",\"2,777\"\r\n",
            "阿爾巴尼亞,Albania,\"325,736\",\"3,576\"\r\n",
            "盧森堡,Luxembourg,\"284,931\",\"1,114\"\r\n",
            "蒙特內哥羅,Montenegro,\"272,609\",\"2,765\"\r\n",
            "阿爾及利亞,Algeria,\"269,731\",\"6,878\"\r\n",
            "科索沃,Kosovo,\"269,461\",\"3,189\"\r\n",
            "奈及利亞,Nigeria,\"262,912\",\"3,147\"\r\n",
            "辛巴威,Zimbabwe,\"256,616\",\"5,592\"\r\n",
            "模里西斯,Mauritius,\"254,400\",\"1,020\"\r\n",
            "烏茲別克,Uzbekistan,\"243,654\",\"1,637\"\r\n",
            "中國大陸,China,\"239,429\",\"5,226\"\r\n",
            "莫三比克,Mozambique,\"229,992\",\"2,219\"\r\n",
            "汶萊,Brunei,\"215,283\",239\r\n",
            "寮國,Laos,\"213,157\",757\r\n",
            "吉爾吉斯,Kyrgyzstan,\"205,198\",\"2,991\"\r\n",
            "冰島,Iceland,\"203,814\",179\r\n",
            "薩爾瓦多,El Salvador,\"190,818\",\"4,219\"\r\n",
            "阿富汗,Afghanistan,\"190,435\",\"7,759\"\r\n",
            "馬爾地夫,Maldives,\"184,689\",307\r\n",
            "千里達及托巴哥,Trinidad and Tobago,\"176,821\",\"4,095\"\r\n",
            "烏干達,Uganda,\"169,396\",\"3,628\"\r\n",
            "納米比亞,Namibia,\"169,253\",\"4,065\"\r\n",
            "迦納,Ghana,\"168,457\",\"1,459\"\r\n",
            "牙買加,Jamaica,\"148,737\",\"3,237\"\r\n",
            "柬埔寨,Cambodia,\"137,394\",\"3,056\"\r\n",
            "盧安達,Rwanda,\"132,386\",\"1,466\"\r\n",
            "喀麥隆,Cameroon,\"120,967\",\"1,933\"\r\n",
            "馬爾他,Malta,\"113,777\",799\r\n",
            "安哥拉,Angola,\"102,636\",\"1,917\"\r\n",
            "巴貝多,Barbados,\"99,426\",530\r\n",
            "剛果民主共和國,DR Congo,\"92,543\",\"1,393\"\r\n",
            "塞內加爾,Senegal,\"87,890\",\"1,968\"\r\n",
            "馬拉威,Malawi,\"87,779\",\"2,676\"\r\n",
            "象牙海岸,Ivory Coast,\"86,440\",817\r\n",
            "蘇利南,Suriname,\"81,007\",\"1,382\"\r\n",
            "史瓦帝尼,Eswatini,\"73,344\",\"1,419\"\r\n",
            "蓋亞那,Guyana,\"70,803\",\"1,278\"\r\n",
            "斐濟,Fiji,\"68,028\",875\r\n",
            "貝里斯,Belize,\"67,961\",680\r\n",
            "馬達加斯加,Madagascar,\"66,599\",\"1,410\"\r\n",
            "蘇丹,Sudan,\"63,147\",\"4,961\"\r\n",
            "茅利塔尼亞,Mauritania,\"62,729\",992\r\n",
            "維德角,Cape Verde,\"62,282\",410\r\n",
            "不丹,Bhutan,\"60,779\",21\r\n",
            "敘利亞,Syria,\"56,838\",\"3,160\"\r\n",
            "加彭,Gabon,\"48,635\",306\r\n",
            "蒲隆地,Burundi,\"48,548\",38\r\n",
            "安道爾,Andorra,\"45,975\",154\r\n",
            "塞席爾,Seychelles,\"45,852\",168\r\n",
            "巴布亞紐幾內亞,Papua New Guinea,\"44,846\",664\r\n",
            "坦尚尼亞,Tanzania,\"38,454\",841\r\n",
            "多哥,Togo,\"38,355\",282\r\n",
            "幾內亞,Guinea,\"37,470\",447\r\n",
            "巴哈馬,Bahamas,\"36,983\",823\r\n",
            "賴索托,Lesotho,\"34,206\",704\r\n",
            "海地,Haiti,\"32,703\",838\r\n",
            "馬利,Mali,\"31,259\",739\r\n",
            "聖露西亞,Saint Lucia,\"28,542\",388\r\n",
            "貝南,Benin,\"27,316\",163\r\n",
            "剛果共和國,Congo,\"24,837\",386\r\n",
            "東帝汶,East Timor,\"23,036\",134\r\n",
            "索羅門群島,Solomon islands,\"21,544\",153\r\n",
            "布吉納法索,Burkina Faso,\"21,128\",387\r\n",
            "聖馬利諾,San Marino,\"20,224\",118\r\n",
            "格瑞那達,Grenada,\"19,161\",234\r\n",
            "列支敦斯登,Liechtenstein,\"18,985\",86\r\n",
            "索馬利亞,Somalia,\"18,863\",930\r\n",
            "南蘇丹,South Sudan,\"17,823\",138\r\n",
            "塔吉克,Tajikistan,\"17,786\",125\r\n",
            "赤道幾內亞,Equatorial Guinea,\"16,917\",183\r\n",
            "吉布地,Djibouti,\"15,690\",189\r\n",
            "薩摩亞,Samoa,\"15,405\",29\r\n",
            "尼加拉瓜,Nicaragua,\"14,899\",244\r\n",
            "多米尼克,Dominica,\"14,852\",68\r\n",
            "中非,Central Africa,\"14,803\",113\r\n",
            "摩納哥,Monaco,\"14,278\",57\r\n",
            "東加,Tonga,\"14,135\",12\r\n",
            "甘比亞,Gambia,\"12,238\",368\r\n",
            "葉門,Yemen,\"11,915\",\"2,153\"\r\n",
            "萬那杜,Vanuatu,\"11,763\",14\r\n",
            "索馬利蘭,Somaliland,\"10,459\",620\r\n",
            "厄利垂亞,Eritrea,\"10,149\",103\r\n",
            "馬紹爾群島,Marshall Islands,\"9,912\",14\r\n",
            "尼日,Niger,\"9,183\",312\r\n",
            "安地卡及巴布達,Antigua and Barbuda,\"8,895\",144\r\n",
            "幾內亞比索,Guinea-Bissau,\"8,482\",174\r\n",
            "葛摩,Comoros,\"8,409\",161\r\n",
            "獅子山,Sierra Leone,\"7,744\",126\r\n",
            "賴比瑞亞,Liberia,\"7,656\",294\r\n",
            "查德,Chad,\"7,458\",193\r\n",
            "密克羅尼西亞聯邦,Micronesia,\"7,202\",21\r\n",
            "聖文森及格瑞那丁,Saint Vincent and the Grenadines,\"7,106\",115\r\n",
            "聖克里斯多福及尼維斯,Saint Kitts and Nevis,\"6,493\",46\r\n",
            "庫克群島,Cook Islands,\"6,265\",1\r\n",
            "聖多美普林西比,Sao Tome and Principe,\"6,123\",76\r\n",
            "帛琉,Palau,\"5,279\",6\r\n",
            "諾魯,Nauru,\"4,608\",1\r\n",
            "吉里巴斯,Kiribati,\"3,430\",13\r\n",
            "澳門,Macao,793,6\r\n",
            "國際運輸工具(鑽石公主號),Int'l conveyance (Japan),741,13\r\n",
            "紐埃,Niue,60,0\r\n",
            "教廷,Holy See,29,0\r\n",
            "吐瓦魯,Tuvalu,8,0\r\n",
            "北韓,North Korea,2,1\n"
          ]
        }
      ]
    },
    {
      "cell_type": "code",
      "source": [
        "# 文字檔案下載\n",
        "with open('covid-19.csv', 'w') as f:\n",
        "    f.write(r.text)"
      ],
      "metadata": {
        "id": "HVA9cLe4ihGP"
      },
      "execution_count": 38,
      "outputs": []
    },
    {
      "cell_type": "code",
      "source": [
        "# 圖片下載\n",
        "# https://youtu.be/qo3H-VgXmHE\n",
        "# https://img.youtube.com/vi/qo3H-VgXmHE/sddefault.jpg (取得縮圖)\n",
        "import requests\n",
        "url = 'https://img.youtube.com/vi/qo3H-VgXmHE/sddefault.jpg'\n",
        "r = requests.get(url)\n",
        "with open('ng.jpg', 'wb') as f: #w寫入b二進位檔案\n",
        "    f.write(r.content)"
      ],
      "metadata": {
        "id": "nnd6OWHCkDSR"
      },
      "execution_count": 39,
      "outputs": []
    },
    {
      "cell_type": "markdown",
      "source": [
        "### Colab專用：wget指令"
      ],
      "metadata": {
        "id": "3W8w3s8MohST"
      }
    },
    {
      "cell_type": "code",
      "source": [
        "# 用 wget 指令\n",
        "# !wget -O 檔名 網址\n",
        "!wget -O google.png https://www.google.com/images/branding/googlelogo/1x/googlelogo_color_272x92dp.png"
      ],
      "metadata": {
        "colab": {
          "base_uri": "https://localhost:8080/"
        },
        "id": "u6G4qO60okbL",
        "outputId": "43c13b2e-07b0-4247-af6c-c678aeeaac4e"
      },
      "execution_count": 40,
      "outputs": [
        {
          "output_type": "stream",
          "name": "stdout",
          "text": [
            "--2022-08-21 13:41:20--  https://www.google.com/images/branding/googlelogo/1x/googlelogo_color_272x92dp.png\n",
            "Resolving www.google.com (www.google.com)... 108.177.97.147, 108.177.97.99, 108.177.97.103, ...\n",
            "Connecting to www.google.com (www.google.com)|108.177.97.147|:443... connected.\n",
            "HTTP request sent, awaiting response... 200 OK\n",
            "Length: 5969 (5.8K) [image/png]\n",
            "Saving to: ‘google.png’\n",
            "\n",
            "\rgoogle.png            0%[                    ]       0  --.-KB/s               \rgoogle.png          100%[===================>]   5.83K  --.-KB/s    in 0s      \n",
            "\n",
            "2022-08-21 13:41:20 (57.8 MB/s) - ‘google.png’ saved [5969/5969]\n",
            "\n"
          ]
        }
      ]
    },
    {
      "cell_type": "markdown",
      "source": [
        "# 網頁資料解析"
      ],
      "metadata": {
        "id": "UhgVqv-fo5Xp"
      }
    },
    {
      "cell_type": "markdown",
      "source": [
        "## 網頁資料解析：BeautifulSoup模組\n"
      ],
      "metadata": {
        "id": "YUzTwC5po9CE"
      }
    },
    {
      "cell_type": "code",
      "source": [
        "# 基本練習\n",
        "# http://ehappy.tw/bsdemo1.htm\n",
        "import requests\n",
        "url = 'http://ehappy.tw/bsdemo1.htm'\n",
        "r = requests.get(url)\n",
        "r.encoding = 'utf-8'\n",
        "print(r.text)"
      ],
      "metadata": {
        "colab": {
          "base_uri": "https://localhost:8080/"
        },
        "id": "PaIrbL5UqQkb",
        "outputId": "d9cc916c-2e35-4b47-bd91-8fc6f6ed07a7"
      },
      "execution_count": 44,
      "outputs": [
        {
          "output_type": "stream",
          "name": "stdout",
          "text": [
            "<!doctype html>\r\n",
            "<html lang=\"zh\">\r\n",
            "  <head>\r\n",
            "    <meta charset=\"UTF-8\">\r\n",
            "    <title>我是網頁標題</title>\r\n",
            "  </head>\r\n",
            "  <body>\r\n",
            "    <h1 class=\"large\">我是標題</h1>\r\n",
            "    <div>\r\n",
            "      <p>我是段落</p>\r\n",
            "      <img src=\"https://www.w3.org/html/logo/downloads/HTML5_Logo_256.png\" alt=\"我是圖片\">\r\n",
            "      <a href=\"http://www.e-happy.com.tw\">我是超連結</a>\r\n",
            "    </div>\r\n",
            "  </body>\r\n",
            "</html>\n"
          ]
        }
      ]
    },
    {
      "cell_type": "code",
      "source": [
        "from bs4 import BeautifulSoup\n",
        "sp = BeautifulSoup(r.text, 'html.parser')\n",
        "sp.title\n",
        "sp.title.text\n",
        "sp.h1.text\n",
        "sp.a.text"
      ],
      "metadata": {
        "colab": {
          "base_uri": "https://localhost:8080/",
          "height": 36
        },
        "id": "FmJclc0ruJWJ",
        "outputId": "5c61e466-333c-46e1-becc-39cd264f3ea1"
      },
      "execution_count": 49,
      "outputs": [
        {
          "output_type": "execute_result",
          "data": {
            "text/plain": [
              "'我是超連結'"
            ],
            "application/vnd.google.colaboratory.intrinsic+json": {
              "type": "string"
            }
          },
          "metadata": {},
          "execution_count": 49
        }
      ]
    },
    {
      "cell_type": "code",
      "source": [
        "# 練習 find() find_all()\n",
        "# http://ehappy.tw/bsdemo2.htm\n",
        "import requests\n",
        "from bs4 import BeautifulSoup\n",
        "\n",
        "url = 'http://ehappy.tw/bsdemo2.htm'\n",
        "r = requests.get(url)\n",
        "r.encoding = 'utf-8'\n",
        "sp = BeautifulSoup(r.text, 'html.parser')\n",
        "sp.title.text\n",
        "sp.h1.text\n",
        "sp.a.text"
      ],
      "metadata": {
        "colab": {
          "base_uri": "https://localhost:8080/",
          "height": 36
        },
        "id": "Uo_etBg2vlIY",
        "outputId": "3dab4555-a74b-4134-8de8-664c8e912738"
      },
      "execution_count": 66,
      "outputs": [
        {
          "output_type": "execute_result",
          "data": {
            "text/plain": [
              "'我是超連結1'"
            ],
            "application/vnd.google.colaboratory.intrinsic+json": {
              "type": "string"
            }
          },
          "metadata": {},
          "execution_count": 66
        }
      ]
    },
    {
      "cell_type": "code",
      "source": [
        "# 找標籤tag\n",
        "# sp.find('p').text\n",
        "sp.find_all('p')[1].text\n",
        "\n",
        "sp.find('p', id= 'p2').text\n",
        "sp.find_all('a')[1]\n",
        "sp.find('a', href = 'http://www.e-happy.com.tw').text\n",
        "sp.find('li', class_ = 'even').find('a').text #class是保留字，要注意\n",
        "sp.find('li', class_ = 'even').text #只取文字檔\n",
        "sp.find('li', class_ = 'even').a.text #a標籤中的文字"
      ],
      "metadata": {
        "colab": {
          "base_uri": "https://localhost:8080/",
          "height": 36
        },
        "id": "4OGnKqGwyUsJ",
        "outputId": "a106a1ca-50c4-4bd8-e4d9-5b2272f94a74"
      },
      "execution_count": 82,
      "outputs": [
        {
          "output_type": "execute_result",
          "data": {
            "text/plain": [
              "'我是超連結2'"
            ],
            "application/vnd.google.colaboratory.intrinsic+json": {
              "type": "string"
            }
          },
          "metadata": {},
          "execution_count": 82
        }
      ]
    },
    {
      "cell_type": "code",
      "source": [
        "# 取的屬性\n",
        "sp.find('li', class_ = 'even').a['href']\n",
        "sp.find('li', class_ = 'even').a.get('href')\n",
        "\n",
        "sp.img.get('src')\n",
        "sp.img['src']\n",
        "sp.find('img').get('src')\n",
        "sp.find_all('img')[0].get('src')"
      ],
      "metadata": {
        "colab": {
          "base_uri": "https://localhost:8080/",
          "height": 36
        },
        "id": "rJXB9dre4OCW",
        "outputId": "8e4652d3-272c-4612-bf60-ab63f29308e5"
      },
      "execution_count": 93,
      "outputs": [
        {
          "output_type": "execute_result",
          "data": {
            "text/plain": [
              "'https://www.w3.org/html/logo/downloads/HTML5_Logo_256.png'"
            ],
            "application/vnd.google.colaboratory.intrinsic+json": {
              "type": "string"
            }
          },
          "metadata": {},
          "execution_count": 93
        }
      ]
    }
  ]
}