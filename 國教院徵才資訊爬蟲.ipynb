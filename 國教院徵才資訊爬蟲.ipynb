{
  "nbformat": 4,
  "nbformat_minor": 0,
  "metadata": {
    "colab": {
      "name": "國教院徵才資訊爬蟲.ipynb",
      "provenance": [],
      "authorship_tag": "ABX9TyOP0tnB3ebgHMLxXluPwGZD",
      "include_colab_link": true
    },
    "kernelspec": {
      "name": "python3",
      "display_name": "Python 3"
    },
    "language_info": {
      "name": "python"
    }
  },
  "cells": [
    {
      "cell_type": "markdown",
      "metadata": {
        "id": "view-in-github",
        "colab_type": "text"
      },
      "source": [
        "<a href=\"https://colab.research.google.com/github/ss1111119/Myfirstproject/blob/main/%E5%9C%8B%E6%95%99%E9%99%A2%E5%BE%B5%E6%89%8D%E8%B3%87%E8%A8%8A%E7%88%AC%E8%9F%B2.ipynb\" target=\"_parent\"><img src=\"https://colab.research.google.com/assets/colab-badge.svg\" alt=\"Open In Colab\"/></a>"
      ]
    },
    {
      "cell_type": "code",
      "execution_count": null,
      "metadata": {
        "id": "EaF5RNbtph-2"
      },
      "outputs": [],
      "source": [
        "# 國教院徵才爬蟲\n",
        "import requests\n",
        "from bs4 import BeautifulSoup\n",
        "\n",
        "url = 'https://www.naer.edu.tw/PageDoc?fid=78'\n",
        "r = requests.get(url)\n",
        "\n",
        "sp = BeautifulSoup(r.text, 'html.parser')\n",
        "\n",
        "for i in range(len(sp.find_all(\"span\", class_=\"date\"))):\n",
        " \n",
        "    print(sp.find_all(\"span\", class_=\"date\")[i].text)\n",
        "    print(sp.find_all(\"span\", class_=\"unit\")[i].text)\n",
        "    print(sp.find_all(\"a\", class_=\"txt\")[i+1].text.strip())\n",
        "    print(sp.find_all(\"a\", class_=\"txt\")[i+1].get('href'))\n"
      ]
    }
  ]
}