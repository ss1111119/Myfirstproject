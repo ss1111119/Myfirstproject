{
  "nbformat": 4,
  "nbformat_minor": 0,
  "metadata": {
    "colab": {
      "name": "國教院徵才資訊爬蟲.ipynb",
      "provenance": [],
      "authorship_tag": "ABX9TyPcXVX8kaxe02b3yL9yA4no",
      "include_colab_link": true
    },
    "kernelspec": {
      "name": "python3",
      "display_name": "Python 3"
    },
    "language_info": {
      "name": "python"
    }
  },
  "cells": [
    {
      "cell_type": "markdown",
      "metadata": {
        "id": "view-in-github",
        "colab_type": "text"
      },
      "source": [
        "<a href=\"https://colab.research.google.com/github/ss1111119/Myfirstproject/blob/main/%E5%9C%8B%E6%95%99%E9%99%A2%E5%BE%B5%E6%89%8D%E8%B3%87%E8%A8%8A%E7%88%AC%E8%9F%B2.ipynb\" target=\"_parent\"><img src=\"https://colab.research.google.com/assets/colab-badge.svg\" alt=\"Open In Colab\"/></a>"
      ]
    },
    {
      "cell_type": "code",
      "execution_count": 102,
      "metadata": {
        "colab": {
          "base_uri": "https://localhost:8080/"
        },
        "id": "EaF5RNbtph-2",
        "outputId": "cc9c47e9-69de-4a2f-a1a1-377739f0ccae"
      },
      "outputs": [
        {
          "output_type": "stream",
          "name": "stdout",
          "text": [
            "2022-08-22\n",
            "人事室\n",
            "EN\n",
            "https://www.naer.edu.tw/eng/PageFront?fid=70\n",
            "2022-08-19\n",
            "課程及教學研究中心\n",
            "本院課程及教學研究中心誠徵助理研究員(含以上)1名\n",
            "https://www.naer.edu.tw/PageDoc/Detail?fid=78&id=3797\n",
            "2022-08-19\n",
            "教育制度及政策研究中心\n",
            "本院課程及教學研究中心碩士級專任助理(定期契約臨時人員)錄取公告\n",
            "https://www.naer.edu.tw/PageDoc/Detail?fid=78&id=3796\n",
            "2022-08-18\n",
            "原住民族教育研究中心\n",
            "本院教育制度及政策研究中心執行教育部委辦計畫誠徵學士級以上專任助理1名\n",
            "https://www.naer.edu.tw/PageDoc/Detail?fid=78&id=3795\n",
            "2022-08-17\n",
            "教育制度及政策研究中心\n",
            "本院原住民族教育研究中心誠徵「成為人的教育：原住民族知識課程的發展」 計畫兼任助理 1 名\n",
            "https://www.naer.edu.tw/PageDoc/Detail?fid=78&id=3794\n",
            "2022-08-15\n",
            "教科書研究中心\n",
            "本院教育制度及政策研究中心「第五屆『我的未來我作主』微電影頒獎典禮」誠徵工讀生10名\n",
            "https://www.naer.edu.tw/PageDoc/Detail?fid=78&id=3793\n",
            "2022-08-10\n",
            "資訊推動小組\n",
            "本院辦理監察院委託「人權教育的課程研發與教學資源平臺建置計畫」徵選兼任助理1名錄取名單（定期契約）\n",
            "https://www.naer.edu.tw/PageDoc/Detail?fid=78&id=3790\n",
            "2022-08-03\n",
            "人事室\n",
            "本院資訊推動小組徵求111年自僱臨時人員碩士級-系統研發工程師1名\n",
            "https://www.naer.edu.tw/PageDoc/Detail?fid=78&id=2595\n",
            "2022-04-26\n",
            "教育制度及政策研究中心\n",
            "本院語文教育及編譯研究中心誠徵助理研究員(含以上)1名\n",
            "https://www.naer.edu.tw/PageDoc/Detail?fid=78&id=3782\n",
            "2022-04-08\n",
            "教育制度及政策研究中心\n",
            "本院教育制度及政策研究中心執行教育部委辦計畫 誠徵臨時工3名\n",
            "https://www.naer.edu.tw/PageDoc/Detail?fid=78&id=3613\n"
          ]
        }
      ],
      "source": [
        "# 國教院徵才爬蟲\n",
        "import requests\n",
        "from bs4 import BeautifulSoup\n",
        "\n",
        "url = 'https://www.naer.edu.tw/PageDoc?fid=78'\n",
        "r = requests.get(url)\n",
        "\n",
        "sp = BeautifulSoup(r.text, 'html.parser')\n",
        "\n",
        "for i in range(len(sp.find_all(\"span\", class_=\"date\"))):\n",
        " \n",
        "    print(sp.find_all(\"span\", class_=\"date\")[i].text)\n",
        "    print(sp.find_all(\"span\", class_=\"unit\")[i].text)\n",
        "    print(sp.find_all(\"a\", class_=\"txt\")[i].text.strip())\n",
        "    print(sp.find_all(\"a\", class_=\"txt\")[i].get('href'))\n"
      ]
    },
    {
      "cell_type": "markdown",
      "source": [
        ""
      ],
      "metadata": {
        "id": "SMdnITEku6Bq"
      }
    }
  ]
}