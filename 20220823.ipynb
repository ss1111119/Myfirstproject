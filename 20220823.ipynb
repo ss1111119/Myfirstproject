{
  "nbformat": 4,
  "nbformat_minor": 0,
  "metadata": {
    "colab": {
      "name": "20220823.ipynb",
      "provenance": [],
      "authorship_tag": "ABX9TyNMeBwkEE+3ZxZYW+jXcSHP",
      "include_colab_link": true
    },
    "kernelspec": {
      "name": "python3",
      "display_name": "Python 3"
    },
    "language_info": {
      "name": "python"
    }
  },
  "cells": [
    {
      "cell_type": "markdown",
      "metadata": {
        "id": "view-in-github",
        "colab_type": "text"
      },
      "source": [
        "<a href=\"https://colab.research.google.com/github/ss1111119/Myfirstproject/blob/main/20220823.ipynb\" target=\"_parent\"><img src=\"https://colab.research.google.com/assets/colab-badge.svg\" alt=\"Open In Colab\"/></a>"
      ]
    },
    {
      "cell_type": "markdown",
      "source": [
        "# Pandas由入門到進階"
      ],
      "metadata": {
        "id": "rej3djxCXEj9"
      }
    },
    {
      "cell_type": "markdown",
      "source": [
        "## 宣告資料\n",
        "\n",
        "Pandas常用的資料類型有：\n",
        "1. Series：一維陣列的資料，列(index)為資料儲存順序\n",
        "2. DataFrame：二維的資料陣列，由列(index)及欄(column)組合而成\n",
        "\n",
        "Pandas模組匯入\n",
        "\n",
        "```\n",
        "import pandas as pd\n",
        "```"
      ],
      "metadata": {
        "id": "M4NIuJhsXJpG"
      }
    },
    {
      "cell_type": "markdown",
      "source": [
        "### Series 一維資料\n",
        "\n",
        "```\n",
        "se = pd.Series(串列)\n",
        "```"
      ],
      "metadata": {
        "id": "-HvK79zVXMv4"
      }
    },
    {
      "cell_type": "code",
      "source": [
        "# 宣告\n",
        "import pandas as pd\n",
        "\n",
        "# 一堆資料 Series\n",
        "price = [100, 50, 120, 80, 30]\n",
        "se = pd.Series(price)\n",
        "\n",
        "# 求值\n",
        "se.values\n",
        "\n",
        "# 求索引\n",
        "se.index\n",
        "\n",
        "# 自訂索引\n",
        "fruits = ['Apple', 'Banana', 'Cherry', 'Orange', 'Tomto']\n",
        "price = [100, 50, 120, 80, 30]\n",
        "se2 = pd.Series(price, index=fruits)\n",
        "se2"
      ],
      "metadata": {
        "colab": {
          "base_uri": "https://localhost:8080/"
        },
        "id": "p6XOZDZbXPGH",
        "outputId": "169bd5f9-05fb-4dad-cc7e-679d94812652"
      },
      "execution_count": 19,
      "outputs": [
        {
          "output_type": "execute_result",
          "data": {
            "text/plain": [
              "Apple     100\n",
              "Banana     50\n",
              "Cherry    120\n",
              "Orange     80\n",
              "Tomto      30\n",
              "dtype: int64"
            ]
          },
          "metadata": {},
          "execution_count": 19
        }
      ]
    },
    {
      "cell_type": "code",
      "source": [
        "# 取得數值資料的統計資訊\n",
        "se2.describe()"
      ],
      "metadata": {
        "colab": {
          "base_uri": "https://localhost:8080/"
        },
        "id": "Q25Pu9s6dn32",
        "outputId": "5978f922-a686-46f2-f761-927b2ca9ddeb"
      },
      "execution_count": null,
      "outputs": [
        {
          "output_type": "execute_result",
          "data": {
            "text/plain": [
              "count      5.000000\n",
              "mean      76.000000\n",
              "std       36.469165\n",
              "min       30.000000\n",
              "25%       50.000000\n",
              "50%       80.000000\n",
              "75%      100.000000\n",
              "max      120.000000\n",
              "dtype: float64"
            ]
          },
          "metadata": {},
          "execution_count": 6
        }
      ]
    },
    {
      "cell_type": "code",
      "source": [
        "# 統計：加總、最小值、最大值、平均值、中位數\n",
        "se2.sum()\n",
        "se2.min()\n",
        "se2.max()\n",
        "se2.mean()\n",
        "se2.median()"
      ],
      "metadata": {
        "colab": {
          "base_uri": "https://localhost:8080/"
        },
        "id": "_yrGcbn9d2X_",
        "outputId": "9b0ecee1-d271-4434-e766-eccd2d7effd9"
      },
      "execution_count": null,
      "outputs": [
        {
          "output_type": "execute_result",
          "data": {
            "text/plain": [
              "80.0"
            ]
          },
          "metadata": {},
          "execution_count": 8
        }
      ]
    },
    {
      "cell_type": "code",
      "source": [
        "# 取值\n",
        "se2"
      ],
      "metadata": {
        "colab": {
          "base_uri": "https://localhost:8080/"
        },
        "id": "6S2bjOvWiG6D",
        "outputId": "0efb615a-6710-4091-c10b-8f8911925207"
      },
      "execution_count": 21,
      "outputs": [
        {
          "output_type": "execute_result",
          "data": {
            "text/plain": [
              "Apple     100\n",
              "Banana     50\n",
              "Cherry    120\n",
              "Orange     80\n",
              "Tomto      30\n",
              "dtype: int64"
            ]
          },
          "metadata": {},
          "execution_count": 21
        }
      ]
    },
    {
      "cell_type": "code",
      "source": [
        "# 用索引值\n",
        "se2[2]\n",
        "# loc, iloc\n",
        "se2.loc['Orange']\n",
        "se2.iloc[3]"
      ],
      "metadata": {
        "colab": {
          "base_uri": "https://localhost:8080/"
        },
        "id": "nkU2rWdAib4d",
        "outputId": "77d31e57-d3cf-4812-a294-46dd8bd01a3c"
      },
      "execution_count": 24,
      "outputs": [
        {
          "output_type": "execute_result",
          "data": {
            "text/plain": [
              "80"
            ]
          },
          "metadata": {},
          "execution_count": 24
        }
      ]
    },
    {
      "cell_type": "markdown",
      "source": [
        "### DataFrame 二維資料\n",
        "\n",
        "```\n",
        "df = pd.DataFrame(字典)\n",
        "```\n",
        "\n",
        "範例資料:\n",
        "\n",
        "```\n",
        "{\n",
        "  \"姓名\":[\"林小明\", \"陳聰明\", \"黃美麗\", \"張小娟\", \"廖小誠\"],\n",
        "  \"國文\":[65,92,78,83,70],\n",
        "  \"英文\":[90,72,76,93,56],\n",
        "  \"數學\":[81,85,91,89,77],\n",
        "  \"社會\":[79,53,47,94,80] \n",
        "}\n",
        "```"
      ],
      "metadata": {
        "id": "BIwrBKXGkAwc"
      }
    },
    {
      "cell_type": "code",
      "source": [
        "# 定義 DataFrame 資料\n",
        "import pandas as pd\n",
        "df = pd.DataFrame({\n",
        "  \"姓名\":[\"林小明\", \"陳聰明\", \"黃美麗\", \"張小娟\", \"廖小誠\"],\n",
        "  \"國文\":[65,92,78,83,70],\n",
        "  \"英文\":[90,72,76,93,56],\n",
        "  \"數學\":[81,85,91,89,77],\n",
        "  \"社會\":[79,53,47,94,80] \n",
        "})\n"
      ],
      "metadata": {
        "id": "umBMu3WykE1O"
      },
      "execution_count": 28,
      "outputs": []
    },
    {
      "cell_type": "code",
      "source": [
        "df"
      ],
      "metadata": {
        "colab": {
          "base_uri": "https://localhost:8080/",
          "height": 206
        },
        "id": "-tOA4dqAlAt5",
        "outputId": "f5da05d6-47df-4d93-81be-4bbff3e8e794"
      },
      "execution_count": 29,
      "outputs": [
        {
          "output_type": "execute_result",
          "data": {
            "text/plain": [
              "    姓名  國文  英文  數學  社會\n",
              "0  林小明  65  90  81  79\n",
              "1  陳聰明  92  72  85  53\n",
              "2  黃美麗  78  76  91  47\n",
              "3  張小娟  83  93  89  94\n",
              "4  廖小誠  70  56  77  80"
            ],
            "text/html": [
              "\n",
              "  <div id=\"df-d26404ab-4c08-46b9-9bef-b3a63e85307c\">\n",
              "    <div class=\"colab-df-container\">\n",
              "      <div>\n",
              "<style scoped>\n",
              "    .dataframe tbody tr th:only-of-type {\n",
              "        vertical-align: middle;\n",
              "    }\n",
              "\n",
              "    .dataframe tbody tr th {\n",
              "        vertical-align: top;\n",
              "    }\n",
              "\n",
              "    .dataframe thead th {\n",
              "        text-align: right;\n",
              "    }\n",
              "</style>\n",
              "<table border=\"1\" class=\"dataframe\">\n",
              "  <thead>\n",
              "    <tr style=\"text-align: right;\">\n",
              "      <th></th>\n",
              "      <th>姓名</th>\n",
              "      <th>國文</th>\n",
              "      <th>英文</th>\n",
              "      <th>數學</th>\n",
              "      <th>社會</th>\n",
              "    </tr>\n",
              "  </thead>\n",
              "  <tbody>\n",
              "    <tr>\n",
              "      <th>0</th>\n",
              "      <td>林小明</td>\n",
              "      <td>65</td>\n",
              "      <td>90</td>\n",
              "      <td>81</td>\n",
              "      <td>79</td>\n",
              "    </tr>\n",
              "    <tr>\n",
              "      <th>1</th>\n",
              "      <td>陳聰明</td>\n",
              "      <td>92</td>\n",
              "      <td>72</td>\n",
              "      <td>85</td>\n",
              "      <td>53</td>\n",
              "    </tr>\n",
              "    <tr>\n",
              "      <th>2</th>\n",
              "      <td>黃美麗</td>\n",
              "      <td>78</td>\n",
              "      <td>76</td>\n",
              "      <td>91</td>\n",
              "      <td>47</td>\n",
              "    </tr>\n",
              "    <tr>\n",
              "      <th>3</th>\n",
              "      <td>張小娟</td>\n",
              "      <td>83</td>\n",
              "      <td>93</td>\n",
              "      <td>89</td>\n",
              "      <td>94</td>\n",
              "    </tr>\n",
              "    <tr>\n",
              "      <th>4</th>\n",
              "      <td>廖小誠</td>\n",
              "      <td>70</td>\n",
              "      <td>56</td>\n",
              "      <td>77</td>\n",
              "      <td>80</td>\n",
              "    </tr>\n",
              "  </tbody>\n",
              "</table>\n",
              "</div>\n",
              "      <button class=\"colab-df-convert\" onclick=\"convertToInteractive('df-d26404ab-4c08-46b9-9bef-b3a63e85307c')\"\n",
              "              title=\"Convert this dataframe to an interactive table.\"\n",
              "              style=\"display:none;\">\n",
              "        \n",
              "  <svg xmlns=\"http://www.w3.org/2000/svg\" height=\"24px\"viewBox=\"0 0 24 24\"\n",
              "       width=\"24px\">\n",
              "    <path d=\"M0 0h24v24H0V0z\" fill=\"none\"/>\n",
              "    <path d=\"M18.56 5.44l.94 2.06.94-2.06 2.06-.94-2.06-.94-.94-2.06-.94 2.06-2.06.94zm-11 1L8.5 8.5l.94-2.06 2.06-.94-2.06-.94L8.5 2.5l-.94 2.06-2.06.94zm10 10l.94 2.06.94-2.06 2.06-.94-2.06-.94-.94-2.06-.94 2.06-2.06.94z\"/><path d=\"M17.41 7.96l-1.37-1.37c-.4-.4-.92-.59-1.43-.59-.52 0-1.04.2-1.43.59L10.3 9.45l-7.72 7.72c-.78.78-.78 2.05 0 2.83L4 21.41c.39.39.9.59 1.41.59.51 0 1.02-.2 1.41-.59l7.78-7.78 2.81-2.81c.8-.78.8-2.07 0-2.86zM5.41 20L4 18.59l7.72-7.72 1.47 1.35L5.41 20z\"/>\n",
              "  </svg>\n",
              "      </button>\n",
              "      \n",
              "  <style>\n",
              "    .colab-df-container {\n",
              "      display:flex;\n",
              "      flex-wrap:wrap;\n",
              "      gap: 12px;\n",
              "    }\n",
              "\n",
              "    .colab-df-convert {\n",
              "      background-color: #E8F0FE;\n",
              "      border: none;\n",
              "      border-radius: 50%;\n",
              "      cursor: pointer;\n",
              "      display: none;\n",
              "      fill: #1967D2;\n",
              "      height: 32px;\n",
              "      padding: 0 0 0 0;\n",
              "      width: 32px;\n",
              "    }\n",
              "\n",
              "    .colab-df-convert:hover {\n",
              "      background-color: #E2EBFA;\n",
              "      box-shadow: 0px 1px 2px rgba(60, 64, 67, 0.3), 0px 1px 3px 1px rgba(60, 64, 67, 0.15);\n",
              "      fill: #174EA6;\n",
              "    }\n",
              "\n",
              "    [theme=dark] .colab-df-convert {\n",
              "      background-color: #3B4455;\n",
              "      fill: #D2E3FC;\n",
              "    }\n",
              "\n",
              "    [theme=dark] .colab-df-convert:hover {\n",
              "      background-color: #434B5C;\n",
              "      box-shadow: 0px 1px 3px 1px rgba(0, 0, 0, 0.15);\n",
              "      filter: drop-shadow(0px 1px 2px rgba(0, 0, 0, 0.3));\n",
              "      fill: #FFFFFF;\n",
              "    }\n",
              "  </style>\n",
              "\n",
              "      <script>\n",
              "        const buttonEl =\n",
              "          document.querySelector('#df-d26404ab-4c08-46b9-9bef-b3a63e85307c button.colab-df-convert');\n",
              "        buttonEl.style.display =\n",
              "          google.colab.kernel.accessAllowed ? 'block' : 'none';\n",
              "\n",
              "        async function convertToInteractive(key) {\n",
              "          const element = document.querySelector('#df-d26404ab-4c08-46b9-9bef-b3a63e85307c');\n",
              "          const dataTable =\n",
              "            await google.colab.kernel.invokeFunction('convertToInteractive',\n",
              "                                                     [key], {});\n",
              "          if (!dataTable) return;\n",
              "\n",
              "          const docLinkHtml = 'Like what you see? Visit the ' +\n",
              "            '<a target=\"_blank\" href=https://colab.research.google.com/notebooks/data_table.ipynb>data table notebook</a>'\n",
              "            + ' to learn more about interactive tables.';\n",
              "          element.innerHTML = '';\n",
              "          dataTable['output_type'] = 'display_data';\n",
              "          await google.colab.output.renderOutput(dataTable, element);\n",
              "          const docLink = document.createElement('div');\n",
              "          docLink.innerHTML = docLinkHtml;\n",
              "          element.appendChild(docLink);\n",
              "        }\n",
              "      </script>\n",
              "    </div>\n",
              "  </div>\n",
              "  "
            ]
          },
          "metadata": {},
          "execution_count": 29
        }
      ]
    },
    {
      "cell_type": "code",
      "source": [
        "# 顯示index, colums\n",
        "df.index\n",
        "df.columns\n",
        "\n",
        "# 取得所有值\n",
        "df.values"
      ],
      "metadata": {
        "colab": {
          "base_uri": "https://localhost:8080/"
        },
        "id": "ls7a1-SLmdn4",
        "outputId": "46c3dc09-ebe9-4cea-ac60-1d8770c20259"
      },
      "execution_count": 32,
      "outputs": [
        {
          "output_type": "execute_result",
          "data": {
            "text/plain": [
              "array([['林小明', 65, 90, 81, 79],\n",
              "       ['陳聰明', 92, 72, 85, 53],\n",
              "       ['黃美麗', 78, 76, 91, 47],\n",
              "       ['張小娟', 83, 93, 89, 94],\n",
              "       ['廖小誠', 70, 56, 77, 80]], dtype=object)"
            ]
          },
          "metadata": {},
          "execution_count": 32
        }
      ]
    },
    {
      "cell_type": "code",
      "source": [
        "# 取得列資料 索引，loc, iloc\n",
        "df.values[-1]\n",
        "df.loc[1]\n",
        "df.iloc[1]\n",
        "\n",
        "\n",
        "# 取得欄位資料(單欄、多欄)\n",
        "df['姓名']\n",
        "df['國文']\n",
        "df[['姓名', '國文']]\n",
        "df[['國文', '英文', '數學']]\n",
        "# ​df[['姓名', '國文','數學']]\n",
        "\n",
        "# 取得指定欄列(儲存格)的值 索引, loc, iloc\n",
        "df.values[0, 1] #列,欄\n",
        "df.loc[1, '英文']\n",
        "df.loc[3, '數學']\n",
        "df.iloc[3, 3]#都用索引值"
      ],
      "metadata": {
        "colab": {
          "base_uri": "https://localhost:8080/"
        },
        "id": "dFNxb_J2ntHZ",
        "outputId": "c6d415aa-63af-4667-8a18-590c81db46fc"
      },
      "execution_count": 57,
      "outputs": [
        {
          "output_type": "execute_result",
          "data": {
            "text/plain": [
              "89"
            ]
          },
          "metadata": {},
          "execution_count": 57
        }
      ]
    },
    {
      "cell_type": "code",
      "source": [
        "# 取得最前或最後幾筆資料\n",
        "# .head(n) .tail(n) n 預設為5\n",
        "df.head(2) #最前 \n",
        "df.tail(2) #最後\n",
        "\n",
        "# 篩選\n",
        "condition = df['姓名'] == \"陳聰明\"\n",
        "df[condition]\n",
        "# and --> & , or --> |\n",
        "condition = df['英文'] & df['國文'] > 80\n",
        "condition = (df['英文'] >80 ) | (df['國文'] > 80)\n",
        "df[condition]\n",
        "# df['英文'] >= 80\n",
        "\n",
        "# 排序\n",
        "#df.sort_valuse([欄名] [,ascending = 布林值])\n",
        "# df.sort_values(['國文'], ascending = True) #遞爭排序\n",
        "# df.sort_values(['國文'], ascending = False) #遞減排序\n",
        "df.sort_values(['國文', '英文'], ascending = [False ,True]) #雙欄排序"
      ],
      "metadata": {
        "colab": {
          "base_uri": "https://localhost:8080/",
          "height": 206
        },
        "id": "Hw8558QEAkeX",
        "outputId": "5c9f4c2f-dc50-4bad-8e07-4dd28e619024"
      },
      "execution_count": 84,
      "outputs": [
        {
          "output_type": "execute_result",
          "data": {
            "text/plain": [
              "    姓名  國文  英文  數學  社會\n",
              "1  陳聰明  92  72  85  53\n",
              "3  張小娟  83  93  89  94\n",
              "2  黃美麗  78  76  91  47\n",
              "4  廖小誠  70  56  77  80\n",
              "0  林小明  65  90  81  79"
            ],
            "text/html": [
              "\n",
              "  <div id=\"df-a6a99e37-fbe0-4cfa-93d1-8a0af8f7bd83\">\n",
              "    <div class=\"colab-df-container\">\n",
              "      <div>\n",
              "<style scoped>\n",
              "    .dataframe tbody tr th:only-of-type {\n",
              "        vertical-align: middle;\n",
              "    }\n",
              "\n",
              "    .dataframe tbody tr th {\n",
              "        vertical-align: top;\n",
              "    }\n",
              "\n",
              "    .dataframe thead th {\n",
              "        text-align: right;\n",
              "    }\n",
              "</style>\n",
              "<table border=\"1\" class=\"dataframe\">\n",
              "  <thead>\n",
              "    <tr style=\"text-align: right;\">\n",
              "      <th></th>\n",
              "      <th>姓名</th>\n",
              "      <th>國文</th>\n",
              "      <th>英文</th>\n",
              "      <th>數學</th>\n",
              "      <th>社會</th>\n",
              "    </tr>\n",
              "  </thead>\n",
              "  <tbody>\n",
              "    <tr>\n",
              "      <th>1</th>\n",
              "      <td>陳聰明</td>\n",
              "      <td>92</td>\n",
              "      <td>72</td>\n",
              "      <td>85</td>\n",
              "      <td>53</td>\n",
              "    </tr>\n",
              "    <tr>\n",
              "      <th>3</th>\n",
              "      <td>張小娟</td>\n",
              "      <td>83</td>\n",
              "      <td>93</td>\n",
              "      <td>89</td>\n",
              "      <td>94</td>\n",
              "    </tr>\n",
              "    <tr>\n",
              "      <th>2</th>\n",
              "      <td>黃美麗</td>\n",
              "      <td>78</td>\n",
              "      <td>76</td>\n",
              "      <td>91</td>\n",
              "      <td>47</td>\n",
              "    </tr>\n",
              "    <tr>\n",
              "      <th>4</th>\n",
              "      <td>廖小誠</td>\n",
              "      <td>70</td>\n",
              "      <td>56</td>\n",
              "      <td>77</td>\n",
              "      <td>80</td>\n",
              "    </tr>\n",
              "    <tr>\n",
              "      <th>0</th>\n",
              "      <td>林小明</td>\n",
              "      <td>65</td>\n",
              "      <td>90</td>\n",
              "      <td>81</td>\n",
              "      <td>79</td>\n",
              "    </tr>\n",
              "  </tbody>\n",
              "</table>\n",
              "</div>\n",
              "      <button class=\"colab-df-convert\" onclick=\"convertToInteractive('df-a6a99e37-fbe0-4cfa-93d1-8a0af8f7bd83')\"\n",
              "              title=\"Convert this dataframe to an interactive table.\"\n",
              "              style=\"display:none;\">\n",
              "        \n",
              "  <svg xmlns=\"http://www.w3.org/2000/svg\" height=\"24px\"viewBox=\"0 0 24 24\"\n",
              "       width=\"24px\">\n",
              "    <path d=\"M0 0h24v24H0V0z\" fill=\"none\"/>\n",
              "    <path d=\"M18.56 5.44l.94 2.06.94-2.06 2.06-.94-2.06-.94-.94-2.06-.94 2.06-2.06.94zm-11 1L8.5 8.5l.94-2.06 2.06-.94-2.06-.94L8.5 2.5l-.94 2.06-2.06.94zm10 10l.94 2.06.94-2.06 2.06-.94-2.06-.94-.94-2.06-.94 2.06-2.06.94z\"/><path d=\"M17.41 7.96l-1.37-1.37c-.4-.4-.92-.59-1.43-.59-.52 0-1.04.2-1.43.59L10.3 9.45l-7.72 7.72c-.78.78-.78 2.05 0 2.83L4 21.41c.39.39.9.59 1.41.59.51 0 1.02-.2 1.41-.59l7.78-7.78 2.81-2.81c.8-.78.8-2.07 0-2.86zM5.41 20L4 18.59l7.72-7.72 1.47 1.35L5.41 20z\"/>\n",
              "  </svg>\n",
              "      </button>\n",
              "      \n",
              "  <style>\n",
              "    .colab-df-container {\n",
              "      display:flex;\n",
              "      flex-wrap:wrap;\n",
              "      gap: 12px;\n",
              "    }\n",
              "\n",
              "    .colab-df-convert {\n",
              "      background-color: #E8F0FE;\n",
              "      border: none;\n",
              "      border-radius: 50%;\n",
              "      cursor: pointer;\n",
              "      display: none;\n",
              "      fill: #1967D2;\n",
              "      height: 32px;\n",
              "      padding: 0 0 0 0;\n",
              "      width: 32px;\n",
              "    }\n",
              "\n",
              "    .colab-df-convert:hover {\n",
              "      background-color: #E2EBFA;\n",
              "      box-shadow: 0px 1px 2px rgba(60, 64, 67, 0.3), 0px 1px 3px 1px rgba(60, 64, 67, 0.15);\n",
              "      fill: #174EA6;\n",
              "    }\n",
              "\n",
              "    [theme=dark] .colab-df-convert {\n",
              "      background-color: #3B4455;\n",
              "      fill: #D2E3FC;\n",
              "    }\n",
              "\n",
              "    [theme=dark] .colab-df-convert:hover {\n",
              "      background-color: #434B5C;\n",
              "      box-shadow: 0px 1px 3px 1px rgba(0, 0, 0, 0.15);\n",
              "      filter: drop-shadow(0px 1px 2px rgba(0, 0, 0, 0.3));\n",
              "      fill: #FFFFFF;\n",
              "    }\n",
              "  </style>\n",
              "\n",
              "      <script>\n",
              "        const buttonEl =\n",
              "          document.querySelector('#df-a6a99e37-fbe0-4cfa-93d1-8a0af8f7bd83 button.colab-df-convert');\n",
              "        buttonEl.style.display =\n",
              "          google.colab.kernel.accessAllowed ? 'block' : 'none';\n",
              "\n",
              "        async function convertToInteractive(key) {\n",
              "          const element = document.querySelector('#df-a6a99e37-fbe0-4cfa-93d1-8a0af8f7bd83');\n",
              "          const dataTable =\n",
              "            await google.colab.kernel.invokeFunction('convertToInteractive',\n",
              "                                                     [key], {});\n",
              "          if (!dataTable) return;\n",
              "\n",
              "          const docLinkHtml = 'Like what you see? Visit the ' +\n",
              "            '<a target=\"_blank\" href=https://colab.research.google.com/notebooks/data_table.ipynb>data table notebook</a>'\n",
              "            + ' to learn more about interactive tables.';\n",
              "          element.innerHTML = '';\n",
              "          dataTable['output_type'] = 'display_data';\n",
              "          await google.colab.output.renderOutput(dataTable, element);\n",
              "          const docLink = document.createElement('div');\n",
              "          docLink.innerHTML = docLinkHtml;\n",
              "          element.appendChild(docLink);\n",
              "        }\n",
              "      </script>\n",
              "    </div>\n",
              "  </div>\n",
              "  "
            ]
          },
          "metadata": {},
          "execution_count": 84
        }
      ]
    },
    {
      "cell_type": "code",
      "source": [
        "# 指定欄位索引\n",
        "df1 = df.set_index('姓名')\n",
        "df1"
      ],
      "metadata": {
        "colab": {
          "base_uri": "https://localhost:8080/",
          "height": 237
        },
        "id": "-oXOVm7iklcz",
        "outputId": "2ef434a4-c5df-438d-9bf6-27369c5bb24f"
      },
      "execution_count": 85,
      "outputs": [
        {
          "output_type": "execute_result",
          "data": {
            "text/plain": [
              "     國文  英文  數學  社會\n",
              "姓名                 \n",
              "林小明  65  90  81  79\n",
              "陳聰明  92  72  85  53\n",
              "黃美麗  78  76  91  47\n",
              "張小娟  83  93  89  94\n",
              "廖小誠  70  56  77  80"
            ],
            "text/html": [
              "\n",
              "  <div id=\"df-3333767d-b2bf-4e71-9c64-5fa860e2393f\">\n",
              "    <div class=\"colab-df-container\">\n",
              "      <div>\n",
              "<style scoped>\n",
              "    .dataframe tbody tr th:only-of-type {\n",
              "        vertical-align: middle;\n",
              "    }\n",
              "\n",
              "    .dataframe tbody tr th {\n",
              "        vertical-align: top;\n",
              "    }\n",
              "\n",
              "    .dataframe thead th {\n",
              "        text-align: right;\n",
              "    }\n",
              "</style>\n",
              "<table border=\"1\" class=\"dataframe\">\n",
              "  <thead>\n",
              "    <tr style=\"text-align: right;\">\n",
              "      <th></th>\n",
              "      <th>國文</th>\n",
              "      <th>英文</th>\n",
              "      <th>數學</th>\n",
              "      <th>社會</th>\n",
              "    </tr>\n",
              "    <tr>\n",
              "      <th>姓名</th>\n",
              "      <th></th>\n",
              "      <th></th>\n",
              "      <th></th>\n",
              "      <th></th>\n",
              "    </tr>\n",
              "  </thead>\n",
              "  <tbody>\n",
              "    <tr>\n",
              "      <th>林小明</th>\n",
              "      <td>65</td>\n",
              "      <td>90</td>\n",
              "      <td>81</td>\n",
              "      <td>79</td>\n",
              "    </tr>\n",
              "    <tr>\n",
              "      <th>陳聰明</th>\n",
              "      <td>92</td>\n",
              "      <td>72</td>\n",
              "      <td>85</td>\n",
              "      <td>53</td>\n",
              "    </tr>\n",
              "    <tr>\n",
              "      <th>黃美麗</th>\n",
              "      <td>78</td>\n",
              "      <td>76</td>\n",
              "      <td>91</td>\n",
              "      <td>47</td>\n",
              "    </tr>\n",
              "    <tr>\n",
              "      <th>張小娟</th>\n",
              "      <td>83</td>\n",
              "      <td>93</td>\n",
              "      <td>89</td>\n",
              "      <td>94</td>\n",
              "    </tr>\n",
              "    <tr>\n",
              "      <th>廖小誠</th>\n",
              "      <td>70</td>\n",
              "      <td>56</td>\n",
              "      <td>77</td>\n",
              "      <td>80</td>\n",
              "    </tr>\n",
              "  </tbody>\n",
              "</table>\n",
              "</div>\n",
              "      <button class=\"colab-df-convert\" onclick=\"convertToInteractive('df-3333767d-b2bf-4e71-9c64-5fa860e2393f')\"\n",
              "              title=\"Convert this dataframe to an interactive table.\"\n",
              "              style=\"display:none;\">\n",
              "        \n",
              "  <svg xmlns=\"http://www.w3.org/2000/svg\" height=\"24px\"viewBox=\"0 0 24 24\"\n",
              "       width=\"24px\">\n",
              "    <path d=\"M0 0h24v24H0V0z\" fill=\"none\"/>\n",
              "    <path d=\"M18.56 5.44l.94 2.06.94-2.06 2.06-.94-2.06-.94-.94-2.06-.94 2.06-2.06.94zm-11 1L8.5 8.5l.94-2.06 2.06-.94-2.06-.94L8.5 2.5l-.94 2.06-2.06.94zm10 10l.94 2.06.94-2.06 2.06-.94-2.06-.94-.94-2.06-.94 2.06-2.06.94z\"/><path d=\"M17.41 7.96l-1.37-1.37c-.4-.4-.92-.59-1.43-.59-.52 0-1.04.2-1.43.59L10.3 9.45l-7.72 7.72c-.78.78-.78 2.05 0 2.83L4 21.41c.39.39.9.59 1.41.59.51 0 1.02-.2 1.41-.59l7.78-7.78 2.81-2.81c.8-.78.8-2.07 0-2.86zM5.41 20L4 18.59l7.72-7.72 1.47 1.35L5.41 20z\"/>\n",
              "  </svg>\n",
              "      </button>\n",
              "      \n",
              "  <style>\n",
              "    .colab-df-container {\n",
              "      display:flex;\n",
              "      flex-wrap:wrap;\n",
              "      gap: 12px;\n",
              "    }\n",
              "\n",
              "    .colab-df-convert {\n",
              "      background-color: #E8F0FE;\n",
              "      border: none;\n",
              "      border-radius: 50%;\n",
              "      cursor: pointer;\n",
              "      display: none;\n",
              "      fill: #1967D2;\n",
              "      height: 32px;\n",
              "      padding: 0 0 0 0;\n",
              "      width: 32px;\n",
              "    }\n",
              "\n",
              "    .colab-df-convert:hover {\n",
              "      background-color: #E2EBFA;\n",
              "      box-shadow: 0px 1px 2px rgba(60, 64, 67, 0.3), 0px 1px 3px 1px rgba(60, 64, 67, 0.15);\n",
              "      fill: #174EA6;\n",
              "    }\n",
              "\n",
              "    [theme=dark] .colab-df-convert {\n",
              "      background-color: #3B4455;\n",
              "      fill: #D2E3FC;\n",
              "    }\n",
              "\n",
              "    [theme=dark] .colab-df-convert:hover {\n",
              "      background-color: #434B5C;\n",
              "      box-shadow: 0px 1px 3px 1px rgba(0, 0, 0, 0.15);\n",
              "      filter: drop-shadow(0px 1px 2px rgba(0, 0, 0, 0.3));\n",
              "      fill: #FFFFFF;\n",
              "    }\n",
              "  </style>\n",
              "\n",
              "      <script>\n",
              "        const buttonEl =\n",
              "          document.querySelector('#df-3333767d-b2bf-4e71-9c64-5fa860e2393f button.colab-df-convert');\n",
              "        buttonEl.style.display =\n",
              "          google.colab.kernel.accessAllowed ? 'block' : 'none';\n",
              "\n",
              "        async function convertToInteractive(key) {\n",
              "          const element = document.querySelector('#df-3333767d-b2bf-4e71-9c64-5fa860e2393f');\n",
              "          const dataTable =\n",
              "            await google.colab.kernel.invokeFunction('convertToInteractive',\n",
              "                                                     [key], {});\n",
              "          if (!dataTable) return;\n",
              "\n",
              "          const docLinkHtml = 'Like what you see? Visit the ' +\n",
              "            '<a target=\"_blank\" href=https://colab.research.google.com/notebooks/data_table.ipynb>data table notebook</a>'\n",
              "            + ' to learn more about interactive tables.';\n",
              "          element.innerHTML = '';\n",
              "          dataTable['output_type'] = 'display_data';\n",
              "          await google.colab.output.renderOutput(dataTable, element);\n",
              "          const docLink = document.createElement('div');\n",
              "          docLink.innerHTML = docLinkHtml;\n",
              "          element.appendChild(docLink);\n",
              "        }\n",
              "      </script>\n",
              "    </div>\n",
              "  </div>\n",
              "  "
            ]
          },
          "metadata": {},
          "execution_count": 85
        }
      ]
    },
    {
      "cell_type": "code",
      "source": [
        "df1.loc['黃美麗','數學']\n",
        "df1.iloc[2,2]"
      ],
      "metadata": {
        "colab": {
          "base_uri": "https://localhost:8080/"
        },
        "id": "nADWDYoXlTBt",
        "outputId": "d0eede35-7cdc-489c-8f8d-a609c8b53136"
      },
      "execution_count": 87,
      "outputs": [
        {
          "output_type": "execute_result",
          "data": {
            "text/plain": [
              "91"
            ]
          },
          "metadata": {},
          "execution_count": 87
        }
      ]
    },
    {
      "cell_type": "markdown",
      "source": [
        "## 讀取資料\n",
        "\n",
        "Pandas可以讀取本地或是網路上「表格式」的資料，如CSV、Excel、json、html，方法有：\n",
        "1. read_csv() \n",
        "2. read_excel()\n",
        "3. read_json()\n",
        "4. read_html()"
      ],
      "metadata": {
        "id": "bzp8aw-6mUC0"
      }
    },
    {
      "cell_type": "code",
      "source": [
        "# 讀取遠端資料\n",
        "# COVID-19各國家地區累積病例數與死亡數\n",
        "# https://data.gov.tw/dataset/120449\n",
        "# https://od.cdc.gov.tw/eic/covid19/covid19_global_cases_and_deaths.csv\n"
      ],
      "metadata": {
        "id": "GLjE1HSVmbX1"
      },
      "execution_count": null,
      "outputs": []
    }
  ]
}