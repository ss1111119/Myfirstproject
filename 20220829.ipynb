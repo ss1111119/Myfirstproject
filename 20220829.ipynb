{
  "nbformat": 4,
  "nbformat_minor": 0,
  "metadata": {
    "colab": {
      "name": "20220829.ipynb",
      "provenance": [],
      "authorship_tag": "ABX9TyMf1vyITG84/JDwNyUqarQ0",
      "include_colab_link": true
    },
    "kernelspec": {
      "name": "python3",
      "display_name": "Python 3"
    },
    "language_info": {
      "name": "python"
    }
  },
  "cells": [
    {
      "cell_type": "markdown",
      "metadata": {
        "id": "view-in-github",
        "colab_type": "text"
      },
      "source": [
        "<a href=\"https://colab.research.google.com/github/ss1111119/Myfirstproject/blob/main/20220829.ipynb\" target=\"_parent\"><img src=\"https://colab.research.google.com/assets/colab-badge.svg\" alt=\"Open In Colab\"/></a>"
      ]
    },
    {
      "cell_type": "markdown",
      "source": [
        "# 連接資料來源"
      ],
      "metadata": {
        "id": "NQUS3_Fhpr0T"
      }
    },
    {
      "cell_type": "markdown",
      "source": [
        "## 範例：線上國語字典"
      ],
      "metadata": {
        "id": "m2d7hQA9pw1A"
      }
    },
    {
      "cell_type": "markdown",
      "source": [
        "## 一、認識字典"
      ],
      "metadata": {
        "id": "Wjh8P8aGpzNu"
      }
    },
    {
      "cell_type": "code",
      "source": [
        "# 字典設定(一)\n",
        "dict1 = {\n",
        "    \"身高\":180,\n",
        "    \"體重\":80,\n",
        "    \"年紀\":18\n",
        "}\n",
        "type(dict1)\n",
        "\n",
        "# 取值\n",
        "# dict1[\"身高\"]\n",
        "dict1[\"體重\"]"
      ],
      "metadata": {
        "colab": {
          "base_uri": "https://localhost:8080/"
        },
        "id": "6lxFYfmWqkGC",
        "outputId": "103bceac-3ead-4a52-922e-24916ad2c25f"
      },
      "execution_count": null,
      "outputs": [
        {
          "output_type": "execute_result",
          "data": {
            "text/plain": [
              "80"
            ]
          },
          "metadata": {},
          "execution_count": 11
        }
      ]
    },
    {
      "cell_type": "code",
      "source": [
        "# 字典設定(二)\n",
        "dict2 = {\n",
        "    \"身高\":180,\n",
        "    \"體重\":80,\n",
        "    \"年紀\":18,\n",
        "    \"學歷\":['快樂國小','幸福國中','成功高中','勝利大學']\n",
        "}\n",
        "# type(dict2)\n",
        "dict2['學歷'][2]"
      ],
      "metadata": {
        "colab": {
          "base_uri": "https://localhost:8080/",
          "height": 36
        },
        "id": "439h8fh2s_6I",
        "outputId": "3346c921-c522-4a00-b8f3-afb2fea67217"
      },
      "execution_count": null,
      "outputs": [
        {
          "output_type": "execute_result",
          "data": {
            "text/plain": [
              "'成功高中'"
            ],
            "application/vnd.google.colaboratory.intrinsic+json": {
              "type": "string"
            }
          },
          "metadata": {},
          "execution_count": 19
        }
      ]
    },
    {
      "cell_type": "code",
      "source": [
        "# 字典設定(三)\n",
        "dict3 = {\n",
        "    \"身高\":180,\n",
        "    \"體重\":80,\n",
        "    \"年紀\":18,\n",
        "    \"學歷\":{\n",
        "        '國小':\"快樂國小\",\n",
        "        '國中':\"幸福高中\",\n",
        "        '高中':\"成功高中\",\n",
        "        '大學':\"勝利大學\"\n",
        "        }\n",
        "      }\n",
        "type(dict3)"
      ],
      "metadata": {
        "colab": {
          "base_uri": "https://localhost:8080/"
        },
        "id": "Tqv1T9ZZtxln",
        "outputId": "09a366e2-2506-42b7-8170-a48526e41895"
      },
      "execution_count": null,
      "outputs": [
        {
          "output_type": "execute_result",
          "data": {
            "text/plain": [
              "dict"
            ]
          },
          "metadata": {},
          "execution_count": 20
        }
      ]
    },
    {
      "cell_type": "code",
      "source": [
        "dict3['學歷']['大學']"
      ],
      "metadata": {
        "colab": {
          "base_uri": "https://localhost:8080/",
          "height": 36
        },
        "id": "F3vGw0Pmu_o6",
        "outputId": "ecdb6ea6-8694-48ed-9012-536a3ef017f0"
      },
      "execution_count": null,
      "outputs": [
        {
          "output_type": "execute_result",
          "data": {
            "text/plain": [
              "'勝利大學'"
            ],
            "application/vnd.google.colaboratory.intrinsic+json": {
              "type": "string"
            }
          },
          "metadata": {},
          "execution_count": 21
        }
      ]
    },
    {
      "cell_type": "markdown",
      "source": [
        "# 在 Colab 上執行 Flask"
      ],
      "metadata": {
        "id": "K3cXTrflCs9b"
      }
    },
    {
      "cell_type": "markdown",
      "source": [
        "## 一、ngrok 申請與下載"
      ],
      "metadata": {
        "id": "HkMK_Dp6rwuo"
      }
    },
    {
      "cell_type": "code",
      "source": [
        "# 下載ngrok、解壓縮\n",
        "!wget https://bin.equinox.io/c/bNyj1mQVY4c/ngrok-v3-stable-linux-amd64.tgz -O ngrok-v3-stable-linux-amd64.tgz\n",
        "!tar xvzf ngrok-v3-stable-linux-amd64.tgz"
      ],
      "metadata": {
        "colab": {
          "base_uri": "https://localhost:8080/"
        },
        "id": "x3iWz_A-ryve",
        "outputId": "ca301118-882e-4157-9536-a2285728fea8"
      },
      "execution_count": 17,
      "outputs": [
        {
          "output_type": "stream",
          "name": "stdout",
          "text": [
            "--2022-08-30 13:06:58--  https://bin.equinox.io/c/bNyj1mQVY4c/ngrok-v3-stable-linux-amd64.tgz\n",
            "Resolving bin.equinox.io (bin.equinox.io)... 54.237.133.81, 54.161.241.46, 18.205.222.128, ...\n",
            "Connecting to bin.equinox.io (bin.equinox.io)|54.237.133.81|:443... connected.\n",
            "HTTP request sent, awaiting response... 200 OK\n",
            "Length: 8394546 (8.0M) [application/octet-stream]\n",
            "Saving to: ‘ngrok-v3-stable-linux-amd64.tgz’\n",
            "\n",
            "ngrok-v3-stable-lin 100%[===================>]   8.00M  1.72MB/s    in 10s     \n",
            "\n",
            "2022-08-30 13:07:09 (783 KB/s) - ‘ngrok-v3-stable-linux-amd64.tgz’ saved [8394546/8394546]\n",
            "\n",
            "ngrok\n"
          ]
        }
      ]
    },
    {
      "cell_type": "markdown",
      "source": [
        "## 二、pyngrok 的安裝與設定"
      ],
      "metadata": {
        "id": "VP_cFvk5scKQ"
      }
    },
    {
      "cell_type": "code",
      "source": [
        "!pip install pyngrok"
      ],
      "metadata": {
        "colab": {
          "base_uri": "https://localhost:8080/"
        },
        "id": "Gu_lPeATsieP",
        "outputId": "a2898442-2d41-478c-d79d-6adc7d7f30cb"
      },
      "execution_count": 18,
      "outputs": [
        {
          "output_type": "stream",
          "name": "stdout",
          "text": [
            "Looking in indexes: https://pypi.org/simple, https://us-python.pkg.dev/colab-wheels/public/simple/\n",
            "Collecting pyngrok\n",
            "  Downloading pyngrok-5.1.0.tar.gz (745 kB)\n",
            "\u001b[K     |████████████████████████████████| 745 kB 4.2 MB/s \n",
            "\u001b[?25hRequirement already satisfied: PyYAML in /usr/local/lib/python3.7/dist-packages (from pyngrok) (6.0)\n",
            "Building wheels for collected packages: pyngrok\n",
            "  Building wheel for pyngrok (setup.py) ... \u001b[?25l\u001b[?25hdone\n",
            "  Created wheel for pyngrok: filename=pyngrok-5.1.0-py3-none-any.whl size=19007 sha256=d0a6cd71ae76018f79031587c4f8a3532efe6d453a579f7bb48852431c9cd4d2\n",
            "  Stored in directory: /root/.cache/pip/wheels/bf/e6/af/ccf6598ecefecd44104069371795cb9b3afbcd16987f6ccfb3\n",
            "Successfully built pyngrok\n",
            "Installing collected packages: pyngrok\n",
            "Successfully installed pyngrok-5.1.0\n"
          ]
        }
      ]
    },
    {
      "cell_type": "code",
      "source": [
        "!pip show pyngrok"
      ],
      "metadata": {
        "colab": {
          "base_uri": "https://localhost:8080/"
        },
        "id": "880IA58mtEQp",
        "outputId": "e1923497-03f2-44f5-c3a2-86e52935c98f"
      },
      "execution_count": 23,
      "outputs": [
        {
          "output_type": "stream",
          "name": "stdout",
          "text": [
            "Name: pyngrok\n",
            "Version: 5.1.0\n",
            "Summary: A Python wrapper for ngrok.\n",
            "Home-page: https://github.com/alexdlaird/pyngrok\n",
            "Author: Alex Laird\n",
            "Author-email: contact@alexlaird.com\n",
            "License: MIT\n",
            "Location: /usr/local/lib/python3.7/dist-packages\n",
            "Requires: PyYAML\n",
            "Required-by: \n"
          ]
        }
      ]
    },
    {
      "cell_type": "markdown",
      "source": [
        "## 三、執行你第一個Flask程式"
      ],
      "metadata": {
        "id": "394yriAHsfMD"
      }
    },
    {
      "cell_type": "code",
      "source": [
        "from pyngrok import ngrok\n",
        "# 設定token\n",
        "# ngrok.set_auth_token(\"申請的AuthToken\")\n",
        "ngrok.set_auth_token(\"自己的key\")\n",
        "# conf.get_default().region = \"jp\""
      ],
      "metadata": {
        "id": "AQFGCet0sitr"
      },
      "execution_count": 27,
      "outputs": []
    },
    {
      "cell_type": "code",
      "source": [
        "# 顯示執行\n",
        "port = 5000\n",
        "public_url = ngrok.connect(port, bind_tls=True).public_url\n",
        "print(\" * ngrok tunnel \\\"{}\\\" -> \\\"http://127.0.0.1:{}/\\\"\".format(public_url, port))"
      ],
      "metadata": {
        "colab": {
          "base_uri": "https://localhost:8080/"
        },
        "id": "Hrt4t7fSuYQv",
        "outputId": "ad5e7368-688f-4e95-8d07-7ab195e7650c"
      },
      "execution_count": null,
      "outputs": [
        {
          "output_type": "stream",
          "name": "stdout",
          "text": [
            " * ngrok tunnel \"https://327c-35-199-170-23.ngrok.io\" -> \"http://127.0.0.1:5000/\"\n"
          ]
        }
      ]
    },
    {
      "cell_type": "markdown",
      "source": [
        "> **【筆記】**ngrok沒有傳遞其他屬性時的默認行為http是打開兩個隧道，一個http和一個https。pyngrok在這種情況下，`connect`方法將返回對http隧道的引用。如果只需要一條隧道，則通過`bind_tls=True`並返回對隧道的引用https。"
      ],
      "metadata": {
        "id": "4fAP_Wbtu9xw"
      }
    },
    {
      "cell_type": "code",
      "source": [
        "from flask import Flask\n",
        "app = Flask(__name__)\n",
        "\n",
        "@app.route(\"/\")\n",
        "def index():\n",
        "    return \"Hello Word\"\n",
        "\n",
        "if __name__ == '__main__':\n",
        "    app.run()"
      ],
      "metadata": {
        "colab": {
          "base_uri": "https://localhost:8080/"
        },
        "id": "vema7VHqvswx",
        "outputId": "34b9b35e-a171-4d8a-e926-91d22b27f7dc"
      },
      "execution_count": null,
      "outputs": [
        {
          "output_type": "stream",
          "name": "stdout",
          "text": [
            " * Serving Flask app \"__main__\" (lazy loading)\n",
            " * Environment: production\n",
            "\u001b[31m   WARNING: This is a development server. Do not use it in a production deployment.\u001b[0m\n",
            "\u001b[2m   Use a production WSGI server instead.\u001b[0m\n",
            " * Debug mode: off\n"
          ]
        },
        {
          "output_type": "stream",
          "name": "stderr",
          "text": [
            "INFO:werkzeug: * Running on http://127.0.0.1:5000/ (Press CTRL+C to quit)\n",
            "INFO:werkzeug:127.0.0.1 - - [30/Aug/2022 03:15:43] \"\u001b[37mGET / HTTP/1.1\u001b[0m\" 200 -\n",
            "INFO:werkzeug:127.0.0.1 - - [30/Aug/2022 03:15:44] \"\u001b[33mGET /favicon.ico HTTP/1.1\u001b[0m\" 404 -\n"
          ]
        }
      ]
    },
    {
      "cell_type": "code",
      "source": [
        "# 開發連線自訂函式\n",
        "from pyngrok import ngrok\n",
        "def connNgrok():\n",
        "    port = 5000\n",
        "    public_url = ngrok.connect(port, bind_tls=True).public_url\n",
        "    print(\" * ngrok tunnel \\\"{}\\\" -> \\\"http://127.0.0.1:{}/\\\"\".format(public_url, port))    "
      ],
      "metadata": {
        "id": "11q29CF_3UC_"
      },
      "execution_count": 25,
      "outputs": []
    },
    {
      "cell_type": "code",
      "source": [
        "# 基本測試-使用自訂函式\n",
        "from flask import Flask\n",
        "connNgrok()\n",
        "app = Flask(__name__)\n",
        "\n",
        "@app.route(\"/\")\n",
        "def index():\n",
        "    return \"Hello Word\"\n",
        "\n",
        "if __name__ == '__main__':\n",
        "    app.run()"
      ],
      "metadata": {
        "colab": {
          "base_uri": "https://localhost:8080/"
        },
        "id": "XawGnjVq3uYN",
        "outputId": "c99f7cac-a701-47e1-f72d-b8c1ac20f3f2"
      },
      "execution_count": null,
      "outputs": [
        {
          "output_type": "stream",
          "name": "stdout",
          "text": [
            " * ngrok tunnel \"https://8c41-35-199-170-23.ngrok.io\" -> \"http://127.0.0.1:5000/\"\n",
            " * Serving Flask app \"__main__\" (lazy loading)\n",
            " * Environment: production\n",
            "\u001b[31m   WARNING: This is a development server. Do not use it in a production deployment.\u001b[0m\n",
            "\u001b[2m   Use a production WSGI server instead.\u001b[0m\n",
            " * Debug mode: off\n"
          ]
        },
        {
          "output_type": "stream",
          "name": "stderr",
          "text": [
            "INFO:werkzeug: * Running on http://127.0.0.1:5000/ (Press CTRL+C to quit)\n",
            "INFO:werkzeug:127.0.0.1 - - [30/Aug/2022 08:44:44] \"\u001b[37mGET / HTTP/1.1\u001b[0m\" 200 -\n",
            "INFO:werkzeug:127.0.0.1 - - [30/Aug/2022 08:44:45] \"\u001b[33mGET /favicon.ico HTTP/1.1\u001b[0m\" 404 -\n"
          ]
        }
      ]
    },
    {
      "cell_type": "markdown",
      "source": [
        "# LINE Bot機器人申請與架設"
      ],
      "metadata": {
        "id": "M6qq7HjA7hG7"
      }
    },
    {
      "cell_type": "markdown",
      "source": [
        "## 範例：鸚鵡機器人\n",
        "\n",
        "### 安裝 Line Bot SDK\n",
        "\n",
        "    pip install line-bot-sdk\n",
        "    \n",
        "### 範例程式碼\n",
        "\n",
        "https://github.com/line/line-bot-sdk-python"
      ],
      "metadata": {
        "id": "HpL-1fuS7jZx"
      }
    },
    {
      "cell_type": "code",
      "source": [
        "pip install line-bot-sdk"
      ],
      "metadata": {
        "colab": {
          "base_uri": "https://localhost:8080/"
        },
        "id": "W9yCsTSg7nug",
        "outputId": "c201cb49-f67b-47cb-e66e-7b0c8ddbb1b7"
      },
      "execution_count": 15,
      "outputs": [
        {
          "output_type": "stream",
          "name": "stdout",
          "text": [
            "Looking in indexes: https://pypi.org/simple, https://us-python.pkg.dev/colab-wheels/public/simple/\n",
            "Collecting line-bot-sdk\n",
            "  Downloading line_bot_sdk-2.3.0-py2.py3-none-any.whl (88 kB)\n",
            "\u001b[K     |████████████████████████████████| 88 kB 3.1 MB/s \n",
            "\u001b[?25hRequirement already satisfied: aiohttp>=3.7.4 in /usr/local/lib/python3.7/dist-packages (from line-bot-sdk) (3.8.1)\n",
            "Requirement already satisfied: future in /usr/local/lib/python3.7/dist-packages (from line-bot-sdk) (0.16.0)\n",
            "Requirement already satisfied: requests>=2.0 in /usr/local/lib/python3.7/dist-packages (from line-bot-sdk) (2.23.0)\n",
            "Requirement already satisfied: aiosignal>=1.1.2 in /usr/local/lib/python3.7/dist-packages (from aiohttp>=3.7.4->line-bot-sdk) (1.2.0)\n",
            "Requirement already satisfied: multidict<7.0,>=4.5 in /usr/local/lib/python3.7/dist-packages (from aiohttp>=3.7.4->line-bot-sdk) (6.0.2)\n",
            "Requirement already satisfied: typing-extensions>=3.7.4 in /usr/local/lib/python3.7/dist-packages (from aiohttp>=3.7.4->line-bot-sdk) (4.1.1)\n",
            "Requirement already satisfied: async-timeout<5.0,>=4.0.0a3 in /usr/local/lib/python3.7/dist-packages (from aiohttp>=3.7.4->line-bot-sdk) (4.0.2)\n",
            "Requirement already satisfied: asynctest==0.13.0 in /usr/local/lib/python3.7/dist-packages (from aiohttp>=3.7.4->line-bot-sdk) (0.13.0)\n",
            "Requirement already satisfied: charset-normalizer<3.0,>=2.0 in /usr/local/lib/python3.7/dist-packages (from aiohttp>=3.7.4->line-bot-sdk) (2.1.0)\n",
            "Requirement already satisfied: frozenlist>=1.1.1 in /usr/local/lib/python3.7/dist-packages (from aiohttp>=3.7.4->line-bot-sdk) (1.3.1)\n",
            "Requirement already satisfied: attrs>=17.3.0 in /usr/local/lib/python3.7/dist-packages (from aiohttp>=3.7.4->line-bot-sdk) (22.1.0)\n",
            "Requirement already satisfied: yarl<2.0,>=1.0 in /usr/local/lib/python3.7/dist-packages (from aiohttp>=3.7.4->line-bot-sdk) (1.8.1)\n",
            "Requirement already satisfied: certifi>=2017.4.17 in /usr/local/lib/python3.7/dist-packages (from requests>=2.0->line-bot-sdk) (2022.6.15)\n",
            "Requirement already satisfied: chardet<4,>=3.0.2 in /usr/local/lib/python3.7/dist-packages (from requests>=2.0->line-bot-sdk) (3.0.4)\n",
            "Requirement already satisfied: urllib3!=1.25.0,!=1.25.1,<1.26,>=1.21.1 in /usr/local/lib/python3.7/dist-packages (from requests>=2.0->line-bot-sdk) (1.24.3)\n",
            "Requirement already satisfied: idna<3,>=2.5 in /usr/local/lib/python3.7/dist-packages (from requests>=2.0->line-bot-sdk) (2.10)\n",
            "Installing collected packages: line-bot-sdk\n",
            "Successfully installed line-bot-sdk-2.3.0\n"
          ]
        }
      ]
    },
    {
      "cell_type": "code",
      "source": [
        "from flask import Flask, request, abort\n",
        "\n",
        "from linebot import (\n",
        "    LineBotApi, WebhookHandler\n",
        ")\n",
        "from linebot.exceptions import (\n",
        "    InvalidSignatureError\n",
        ")\n",
        "from linebot.models import (\n",
        "    MessageEvent, TextMessage, TextSendMessage,\n",
        ")\n",
        "\n",
        "connNgrok()\n",
        "app = Flask(__name__)\n",
        "\n",
        "line_bot_api = LineBotApi('YOUR_CHANNEL_ACCESS_TOKEN')\n",
        "handler = WebhookHandler('YOUR_CHANNEL_SECRET')\n",
        "\n",
        "\n",
        "@app.route(\"/callback\", methods=['POST'])\n",
        "def callback():\n",
        "    # get X-Line-Signature header value\n",
        "    signature = request.headers['X-Line-Signature']\n",
        "\n",
        "    # get request body as text\n",
        "    body = request.get_data(as_text=True)\n",
        "    app.logger.info(\"Request body: \" + body)\n",
        "\n",
        "    # handle webhook body\n",
        "    try:\n",
        "        handler.handle(body, signature)\n",
        "    except InvalidSignatureError:\n",
        "        print(\"Invalid signature. Please check your channel access token/channel secret.\")\n",
        "        abort(400)\n",
        "\n",
        "    return 'OK'\n",
        "\n",
        "\n",
        "@handler.add(MessageEvent, message=TextMessage)\n",
        "def handle_message(event):\n",
        "    line_bot_api.reply_message(\n",
        "        event.reply_token,\n",
        "        TextSendMessage(text=event.message.text))\n",
        "\n",
        "\n",
        "if __name__ == \"__main__\":\n",
        "    app.run()"
      ],
      "metadata": {
        "colab": {
          "base_uri": "https://localhost:8080/",
          "height": 236
        },
        "id": "pU_qe4_C9M9Y",
        "outputId": "1d2ae42e-e5c8-48b8-909e-00ee7763a2b2"
      },
      "execution_count": 22,
      "outputs": [
        {
          "output_type": "error",
          "ename": "NameError",
          "evalue": "ignored",
          "traceback": [
            "\u001b[0;31m---------------------------------------------------------------------------\u001b[0m",
            "\u001b[0;31mNameError\u001b[0m                                 Traceback (most recent call last)",
            "\u001b[0;32m<ipython-input-22-d8f1eda539ea>\u001b[0m in \u001b[0;36m<module>\u001b[0;34m\u001b[0m\n\u001b[1;32m     11\u001b[0m )\n\u001b[1;32m     12\u001b[0m \u001b[0;34m\u001b[0m\u001b[0m\n\u001b[0;32m---> 13\u001b[0;31m \u001b[0mconnNgrok\u001b[0m\u001b[0;34m(\u001b[0m\u001b[0;34m)\u001b[0m\u001b[0;34m\u001b[0m\u001b[0;34m\u001b[0m\u001b[0m\n\u001b[0m\u001b[1;32m     14\u001b[0m \u001b[0mapp\u001b[0m \u001b[0;34m=\u001b[0m \u001b[0mFlask\u001b[0m\u001b[0;34m(\u001b[0m\u001b[0m__name__\u001b[0m\u001b[0;34m)\u001b[0m\u001b[0;34m\u001b[0m\u001b[0;34m\u001b[0m\u001b[0m\n\u001b[1;32m     15\u001b[0m \u001b[0;34m\u001b[0m\u001b[0m\n",
            "\u001b[0;31mNameError\u001b[0m: name 'connNgrok' is not defined"
          ]
        }
      ]
    },
    {
      "cell_type": "code",
      "source": [
        "from flask import Flask, request, abort\n",
        "\n",
        "from linebot import (\n",
        "    LineBotApi, WebhookHandler\n",
        ")\n",
        "from linebot.exceptions import (\n",
        "    InvalidSignatureError\n",
        ")\n",
        "from linebot.models import (\n",
        "    MessageEvent, TextMessage, TextSendMessage,\n",
        ")\n",
        "\n",
        "connNgrok()\n",
        "app = Flask(__name__)\n",
        "\n",
        "line_bot_api = LineBotApi('YOUR_CHANNEL_ACCESS_TOKEN')\n",
        "handler = WebhookHandler('YOUR_CHANNEL_SECRET')\n",
        "\n",
        "\n",
        "@app.route(\"/callback\", methods=['POST'])\n",
        "def callback():\n",
        "    # get X-Line-Signature header value\n",
        "    signature = request.headers['X-Line-Signature']\n",
        "\n",
        "    # get request body as text\n",
        "    body = request.get_data(as_text=True)\n",
        "    app.logger.info(\"Request body: \" + body)\n",
        "\n",
        "    # handle webhook body\n",
        "    try:\n",
        "        handler.handle(body, signature)\n",
        "    except InvalidSignatureError:\n",
        "        print(\"Invalid signature. Please check your channel access token/channel secret.\")\n",
        "        abort(400)\n",
        "\n",
        "    return 'OK'\n",
        "\n",
        "\n",
        "@handler.add(MessageEvent, message=TextMessage)\n",
        "def handle_message(event):\n",
        "    #event.message.text\n",
        "    line_bot_api.reply_message(\n",
        "        event.reply_token,\n",
        "        TextSendMessage(text=\"這是測試文字\"))\n",
        "\n",
        "\n",
        "if __name__ == \"__main__\":\n",
        "    app.run()"
      ],
      "metadata": {
        "colab": {
          "base_uri": "https://localhost:8080/"
        },
        "id": "RrTT5n9tHZ-3",
        "outputId": "fa9526c0-3045-42ec-f2d9-3998831797b7"
      },
      "execution_count": 27,
      "outputs": [
        {
          "output_type": "stream",
          "name": "stdout",
          "text": [
            " * ngrok tunnel \"https://253f-35-199-170-23.ngrok.io\" -> \"http://127.0.0.1:5000/\"\n",
            " * Serving Flask app \"__main__\" (lazy loading)\n",
            " * Environment: production\n",
            "\u001b[31m   WARNING: This is a development server. Do not use it in a production deployment.\u001b[0m\n",
            "\u001b[2m   Use a production WSGI server instead.\u001b[0m\n",
            " * Debug mode: off\n"
          ]
        },
        {
          "output_type": "stream",
          "name": "stderr",
          "text": [
            "INFO:werkzeug: * Running on http://127.0.0.1:5000/ (Press CTRL+C to quit)\n",
            "INFO:werkzeug:127.0.0.1 - - [30/Aug/2022 09:39:02] \"\u001b[37mPOST /callback HTTP/1.1\u001b[0m\" 200 -\n"
          ]
        }
      ]
    },
    {
      "cell_type": "code",
      "source": [
        "## 範例：國語字典 LINE Bot\n",
        "import requests\n",
        "url ='https://www.moedict.tw/raw/%E8%90%8C'\n",
        "r = requests.get(url).json()"
      ],
      "metadata": {
        "id": "2fFJRMsjH-lw"
      },
      "execution_count": 29,
      "outputs": []
    },
    {
      "cell_type": "code",
      "source": [
        "type(r)"
      ],
      "metadata": {
        "colab": {
          "base_uri": "https://localhost:8080/"
        },
        "id": "tsw6Ihp2JDdH",
        "outputId": "f0a2c9ef-76b7-4371-f111-c142cde9d24a"
      },
      "execution_count": 30,
      "outputs": [
        {
          "output_type": "execute_result",
          "data": {
            "text/plain": [
              "dict"
            ]
          },
          "metadata": {},
          "execution_count": 30
        }
      ]
    },
    {
      "cell_type": "code",
      "source": [
        "print(r['title'])\n",
        "print(r['radical'])\n"
      ],
      "metadata": {
        "colab": {
          "base_uri": "https://localhost:8080/"
        },
        "id": "DySMb4AwJMiJ",
        "outputId": "4eb32315-c240-4c56-d1cd-e6ae035d6489"
      },
      "execution_count": 32,
      "outputs": [
        {
          "output_type": "stream",
          "name": "stdout",
          "text": [
            "萌\n",
            "艸\n"
          ]
        }
      ]
    },
    {
      "cell_type": "code",
      "source": [
        "import requests\n",
        "word = input(\"請輸入查詢的國字\")\n",
        "url = \"https://www.moedict.tw/raw/\" + word\n",
        "r = requests.get(url).json()\n",
        "\n",
        "print(\"國字：\" + r[\"title\"])\n",
        "print(\"部首：\" + r[\"radical\"])\n",
        "print(\"筆畫：\" + str(r[\"stroke_count\"]))"
      ],
      "metadata": {
        "colab": {
          "base_uri": "https://localhost:8080/"
        },
        "id": "ZeCUA3OlJmvM",
        "outputId": "b9a0bc70-b8ef-4199-d3ce-f60208162fae"
      },
      "execution_count": 7,
      "outputs": [
        {
          "output_type": "stream",
          "name": "stdout",
          "text": [
            "請輸入查詢的國字黃\n",
            "國字：黃\n",
            "部首：黃\n",
            "筆畫：12\n"
          ]
        }
      ]
    },
    {
      "cell_type": "code",
      "source": [
        "import requests\n",
        "def searchWord(word):\n",
        "    url = \"https://www.moedict.tw/raw/\" + word\n",
        "    r = requests.get(url).json()\n",
        "    msg = '-'*10\n",
        "    msg += \"\\n國字：\" + r[\"title\"]\n",
        "    msg += \"\\n部首：\" + r[\"radical\"]\n",
        "    msg += \"\\n筆畫：\" + str(r[\"stroke_count\"])\n",
        "    return msg\n",
        "\n",
        "print(searchWord('字'))"
      ],
      "metadata": {
        "colab": {
          "base_uri": "https://localhost:8080/"
        },
        "id": "5qvGVahz0O3M",
        "outputId": "3728f0e2-0fea-4569-a71f-83b9235103e3"
      },
      "execution_count": 13,
      "outputs": [
        {
          "output_type": "stream",
          "name": "stdout",
          "text": [
            "----------\n",
            "國字：字\n",
            "部首：子\n",
            "筆畫：6\n"
          ]
        }
      ]
    },
    {
      "cell_type": "code",
      "source": [
        "from flask import Flask, request, abort\n",
        "\n",
        "from linebot import (\n",
        "    LineBotApi, WebhookHandler\n",
        ")\n",
        "from linebot.exceptions import (\n",
        "    InvalidSignatureError\n",
        ")\n",
        "from linebot.models import (\n",
        "    MessageEvent, TextMessage, TextSendMessage,\n",
        ")\n",
        "\n",
        "connNgrok()\n",
        "app = Flask(__name__)\n",
        "\n",
        "line_bot_api = LineBotApi('YOUR_CHANNEL_ACCESS_TOKEN')\n",
        "handler = WebhookHandler('YOUR_CHANNEL_SECRET')\n",
        "\n",
        "\n",
        "@app.route(\"/callback\", methods=['POST'])\n",
        "def callback():\n",
        "    # get X-Line-Signature header value\n",
        "    signature = request.headers['X-Line-Signature']\n",
        "\n",
        "    # get request body as text\n",
        "    body = request.get_data(as_text=True)\n",
        "    app.logger.info(\"Request body: \" + body)\n",
        "\n",
        "    # handle webhook body\n",
        "    try:\n",
        "        handler.handle(body, signature)\n",
        "    except InvalidSignatureError:\n",
        "        print(\"Invalid signature. Please check your channel access token/channel secret.\")\n",
        "        abort(400)\n",
        "\n",
        "    return 'OK'\n",
        "\n",
        "\n",
        "@handler.add(MessageEvent, message=TextMessage)\n",
        "def handle_message(event):\n",
        "    #event.message.text\n",
        "    line_bot_api.reply_message(\n",
        "        event.reply_token,\n",
        "        TextSendMessage(text=searchWord(event.message.text)))\n",
        "\n",
        "\n",
        "if __name__ == \"__main__\":\n",
        "    app.run()"
      ],
      "metadata": {
        "colab": {
          "base_uri": "https://localhost:8080/"
        },
        "id": "ystn2Jte2jho",
        "outputId": "d92602ba-f87c-49b2-f815-6346599355db"
      },
      "execution_count": 28,
      "outputs": [
        {
          "output_type": "stream",
          "name": "stdout",
          "text": [
            " * ngrok tunnel \"https://ffab-104-199-161-231.ngrok.io\" -> \"http://127.0.0.1:5000/\"\n",
            " * Serving Flask app \"__main__\" (lazy loading)\n",
            " * Environment: production\n",
            "\u001b[31m   WARNING: This is a development server. Do not use it in a production deployment.\u001b[0m\n",
            "\u001b[2m   Use a production WSGI server instead.\u001b[0m\n",
            " * Debug mode: off\n"
          ]
        },
        {
          "output_type": "stream",
          "name": "stderr",
          "text": [
            "INFO:werkzeug: * Running on http://127.0.0.1:5000/ (Press CTRL+C to quit)\n",
            "INFO:werkzeug:127.0.0.1 - - [30/Aug/2022 13:10:59] \"\u001b[33mGET / HTTP/1.1\u001b[0m\" 404 -\n",
            "INFO:werkzeug:127.0.0.1 - - [30/Aug/2022 13:10:59] \"\u001b[33mGET /favicon.ico HTTP/1.1\u001b[0m\" 404 -\n",
            "INFO:werkzeug:127.0.0.1 - - [30/Aug/2022 13:11:09] \"\u001b[31m\u001b[1mGET /callback HTTP/1.1\u001b[0m\" 405 -\n",
            "INFO:werkzeug:127.0.0.1 - - [30/Aug/2022 13:12:02] \"\u001b[37mPOST /callback HTTP/1.1\u001b[0m\" 200 -\n"
          ]
        }
      ]
    }
  ]
}