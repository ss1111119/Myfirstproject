{
 "cells": [
  {
   "cell_type": "markdown",
   "metadata": {},
   "source": [
    "# Flash 安裝"
   ]
  },
  {
   "cell_type": "code",
   "execution_count": 21,
   "metadata": {},
   "outputs": [
    {
     "name": "stdout",
     "output_type": "stream",
     "text": [
      "Requirement already up-to-date: flask in c:\\users\\ss111\\appdata\\roaming\\python\\python37\\site-packages (2.2.2)\n",
      "Requirement already satisfied, skipping upgrade: importlib-metadata>=3.6.0; python_version < \"3.10\" in c:\\users\\ss111\\appdata\\roaming\\python\\python37\\site-packages (from flask) (4.12.0)\n",
      "Requirement already satisfied, skipping upgrade: click>=8.0 in c:\\users\\ss111\\appdata\\roaming\\python\\python37\\site-packages (from flask) (8.1.3)\n",
      "Requirement already satisfied, skipping upgrade: Werkzeug>=2.2.2 in c:\\users\\ss111\\appdata\\roaming\\python\\python37\\site-packages (from flask) (2.2.2)\n",
      "Requirement already satisfied, skipping upgrade: itsdangerous>=2.0 in c:\\users\\ss111\\appdata\\roaming\\python\\python37\\site-packages (from flask) (2.1.2)\n",
      "Requirement already satisfied, skipping upgrade: Jinja2>=3.0 in c:\\users\\ss111\\appdata\\roaming\\python\\python37\\site-packages (from flask) (3.1.2)\n",
      "Requirement already satisfied, skipping upgrade: typing-extensions>=3.6.4; python_version < \"3.8\" in c:\\users\\ss111\\appdata\\roaming\\python\\python37\\site-packages (from importlib-metadata>=3.6.0; python_version < \"3.10\"->flask) (4.3.0)\n",
      "Requirement already satisfied, skipping upgrade: zipp>=0.5 in c:\\users\\ss111\\anaconda3\\lib\\site-packages (from importlib-metadata>=3.6.0; python_version < \"3.10\"->flask) (2.2.0)\n",
      "Requirement already satisfied, skipping upgrade: colorama; platform_system == \"Windows\" in c:\\users\\ss111\\anaconda3\\lib\\site-packages (from click>=8.0->flask) (0.4.3)\n",
      "Requirement already satisfied, skipping upgrade: MarkupSafe>=2.1.1 in c:\\users\\ss111\\appdata\\roaming\\python\\python37\\site-packages (from Werkzeug>=2.2.2->flask) (2.1.1)\n"
     ]
    }
   ],
   "source": [
    "!pip install --user -U flask"
   ]
  },
  {
   "cell_type": "markdown",
   "metadata": {},
   "source": [
    "-U 先幫你檢查有沒有安裝,有的話幫你更新，user取得最高權限"
   ]
  },
  {
   "cell_type": "code",
   "execution_count": 22,
   "metadata": {},
   "outputs": [
    {
     "name": "stdout",
     "output_type": "stream",
     "text": [
      "Name: Flask\n",
      "Version: 2.2.2\n",
      "Summary: A simple framework for building complex web applications.\n",
      "Home-page: https://palletsprojects.com/p/flask\n",
      "Author: Armin Ronacher\n",
      "Author-email: armin.ronacher@active-4.com\n",
      "License: BSD-3-Clause\n",
      "Location: c:\\users\\ss111\\appdata\\roaming\\python\\python37\\site-packages\n",
      "Requires: click, importlib-metadata, Jinja2, itsdangerous, Werkzeug\n",
      "Required-by: \n"
     ]
    }
   ],
   "source": [
    "!pip show flask"
   ]
  },
  {
   "cell_type": "markdown",
   "metadata": {},
   "source": [
    "# Flask 快速入門\n",
    "\n",
    "* 載入模組\n",
    "* 新增路由\n",
    "* 新增自訂函式\n",
    "* 啟動服務\n",
    "    * 預設位址、埠位\n",
    "    * 自訂埠位\n",
    "    * 開發位址\n",
    "* 單一路由\n",
    "* 多路由到同一網址\n",
    "* Restful網址傳值\n",
    "* GET傳值\n",
    "* POST傳值"
   ]
  },
  {
   "cell_type": "code",
   "execution_count": 34,
   "metadata": {},
   "outputs": [
    {
     "name": "stdout",
     "output_type": "stream",
     "text": [
      " * Serving Flask app \"__main__\" (lazy loading)\n",
      " * Environment: production\n",
      "   WARNING: This is a development server. Do not use it in a production deployment.\n",
      "   Use a production WSGI server instead.\n",
      " * Debug mode: off\n"
     ]
    },
    {
     "name": "stderr",
     "output_type": "stream",
     "text": [
      " * Running on http://0.0.0.0:5000/ (Press CTRL+C to quit)\n",
      "127.0.0.1 - - [25/Aug/2022 10:53:45] \"\u001b[37mGET / HTTP/1.1\u001b[0m\" 200 -\n",
      "120.127.238.236 - - [25/Aug/2022 10:53:52] \"\u001b[37mGET / HTTP/1.1\u001b[0m\" 200 -\n"
     ]
    }
   ],
   "source": [
    "# 基本語法\n",
    "from flask import Flask\n",
    "app = Flask(__name__)\n",
    "\n",
    "@app.route(\"/\")\n",
    "def index():\n",
    "    return \"Hello Word\"\n",
    "\n",
    "if __name__ == '__main__':\n",
    "    app.run(host=\"0.0.0.0\")\n",
    "    \n",
    "# 查詢埠位服務指令\n",
    "# netstat -p tcp\n",
    "# netstat -a (查詢全部)"
   ]
  },
  {
   "cell_type": "markdown",
   "metadata": {},
   "source": [
    "app.run(host=\"0.0.0.0\", port=\"8080\")"
   ]
  },
  {
   "cell_type": "code",
   "execution_count": 39,
   "metadata": {
    "scrolled": true
   },
   "outputs": [
    {
     "name": "stdout",
     "output_type": "stream",
     "text": [
      " * Serving Flask app \"__main__\" (lazy loading)\n",
      " * Environment: production\n",
      "   WARNING: This is a development server. Do not use it in a production deployment.\n",
      "   Use a production WSGI server instead.\n",
      " * Debug mode: off\n"
     ]
    },
    {
     "name": "stderr",
     "output_type": "stream",
     "text": [
      " * Running on http://127.0.0.1:5000/ (Press CTRL+C to quit)\n",
      "127.0.0.1 - - [25/Aug/2022 11:05:36] \"\u001b[37mGET / HTTP/1.1\u001b[0m\" 200 -\n",
      "127.0.0.1 - - [25/Aug/2022 11:05:41] \"\u001b[37mGET / HTTP/1.1\u001b[0m\" 200 -\n",
      "127.0.0.1 - - [25/Aug/2022 11:06:06] \"\u001b[37mGET / HTTP/1.1\u001b[0m\" 200 -\n",
      "127.0.0.1 - - [25/Aug/2022 11:06:12] \"\u001b[37mGET /David HTTP/1.1\u001b[0m\" 200 -\n"
     ]
    }
   ],
   "source": [
    "#新增多個路由\n",
    "from flask import Flask\n",
    "app = Flask(__name__)\n",
    "\n",
    "@app.route(\"/\")\n",
    "def index():\n",
    "    return \"Hello Word\"\n",
    "\n",
    "@app.route(\"/David\")\n",
    "def index1():\n",
    "    return \"Hello David.\"\n",
    "\n",
    "if __name__ == \"__main__\":\n",
    "    app.run()"
   ]
  },
  {
   "cell_type": "code",
   "execution_count": 2,
   "metadata": {
    "scrolled": false
   },
   "outputs": [
    {
     "name": "stdout",
     "output_type": "stream",
     "text": [
      " * Serving Flask app '__main__'\n",
      " * Debug mode: off\n"
     ]
    },
    {
     "name": "stderr",
     "output_type": "stream",
     "text": [
      "WARNING: This is a development server. Do not use it in a production deployment. Use a production WSGI server instead.\n",
      " * Running on http://127.0.0.1:5000\n",
      "Press CTRL+C to quit\n",
      "127.0.0.1 - - [25/Aug/2022 14:02:09] \"GET / HTTP/1.1\" 200 -\n",
      "127.0.0.1 - - [25/Aug/2022 14:02:32] \"GET /index HTTP/1.1\" 200 -\n"
     ]
    }
   ],
   "source": [
    "# 多路由指向同一頁面\n",
    "from flask import Flask\n",
    "app = Flask(__name__)\n",
    "\n",
    "@app.route('/')\n",
    "@app.route('/index')\n",
    "def index():\n",
    "    return \"Hello Word\"\n",
    "    \n",
    "if __name__ == \"__main__\":\n",
    "    app.run()"
   ]
  },
  {
   "cell_type": "code",
   "execution_count": 4,
   "metadata": {},
   "outputs": [
    {
     "name": "stdout",
     "output_type": "stream",
     "text": [
      " * Serving Flask app '__main__'\n",
      " * Debug mode: off\n"
     ]
    },
    {
     "name": "stderr",
     "output_type": "stream",
     "text": [
      "WARNING: This is a development server. Do not use it in a production deployment. Use a production WSGI server instead.\n",
      " * Running on http://127.0.0.1:5000\n",
      "Press CTRL+C to quit\n"
     ]
    }
   ],
   "source": [
    "# 用路由名稱帶參數\n",
    "from flask import Flask\n",
    "app = Flask(__name__)\n",
    "\n",
    "@app.route('/')\n",
    "def index():\n",
    "    return \"Hello {name}\"\n",
    "\n",
    "if __name__ == \"__main__\":\n",
    "    app.run()"
   ]
  },
  {
   "cell_type": "code",
   "execution_count": 2,
   "metadata": {},
   "outputs": [
    {
     "name": "stdout",
     "output_type": "stream",
     "text": [
      " * Serving Flask app '__main__'\n",
      " * Debug mode: off\n"
     ]
    },
    {
     "name": "stderr",
     "output_type": "stream",
     "text": [
      "WARNING: This is a development server. Do not use it in a production deployment. Use a production WSGI server instead.\n",
      " * Running on http://127.0.0.1:5000\n",
      "Press CTRL+C to quit\n",
      "127.0.0.1 - - [25/Aug/2022 16:26:22] \"GET / HTTP/1.1\" 200 -\n",
      "127.0.0.1 - - [25/Aug/2022 16:26:23] \"GET /favicon.ico HTTP/1.1\" 404 -\n",
      "127.0.0.1 - - [25/Aug/2022 16:26:33] \"GET /?name=lafin HTTP/1.1\" 200 -\n"
     ]
    }
   ],
   "source": [
    "# Get參數\n",
    "from flask import Flask, request\n",
    "app = Flask(__name__)\n",
    "\n",
    "@app.route('/')\n",
    "def index():\n",
    "    name = request.args.get('name')\n",
    "    return f\"Hello,{name}.\"\n",
    "\n",
    "if __name__ == \"__main__\":\n",
    "    app.run()"
   ]
  },
  {
   "cell_type": "code",
   "execution_count": 1,
   "metadata": {},
   "outputs": [
    {
     "name": "stdout",
     "output_type": "stream",
     "text": [
      " * Serving Flask app '__main__'\n",
      " * Debug mode: off\n"
     ]
    },
    {
     "name": "stderr",
     "output_type": "stream",
     "text": [
      "WARNING: This is a development server. Do not use it in a production deployment. Use a production WSGI server instead.\n",
      " * Running on http://127.0.0.1:5000\n",
      "Press CTRL+C to quit\n",
      "127.0.0.1 - - [25/Aug/2022 16:38:32] \"GET / HTTP/1.1\" 200 -\n",
      "127.0.0.1 - - [25/Aug/2022 16:38:48] \"GET /?name=laifn&age=19 HTTP/1.1\" 200 -\n"
     ]
    }
   ],
   "source": [
    "# Get多個參數\n",
    "from flask import Flask, request\n",
    "app = Flask(__name__)\n",
    "\n",
    "@app.route('/')\n",
    "def index():\n",
    "    name = request.args.get('name')\n",
    "    age = request.args.get('age')\n",
    "    return f\"My name is{name}, I am{age} years old.\"\n",
    "\n",
    "if __name__ == \"__main__\":\n",
    "    app.run()"
   ]
  },
  {
   "cell_type": "code",
   "execution_count": 1,
   "metadata": {},
   "outputs": [
    {
     "name": "stdout",
     "output_type": "stream",
     "text": [
      " * Serving Flask app '__main__'\n",
      " * Debug mode: off\n"
     ]
    },
    {
     "name": "stderr",
     "output_type": "stream",
     "text": [
      "WARNING: This is a development server. Do not use it in a production deployment. Use a production WSGI server instead.\n",
      " * Running on http://127.0.0.1:5000\n",
      "Press CTRL+C to quit\n",
      "127.0.0.1 - - [25/Aug/2022 17:08:29] \"GET / HTTP/1.1\" 200 -\n",
      "127.0.0.1 - - [25/Aug/2022 17:08:38] \"GET /?name=Lafin HTTP/1.1\" 200 -\n",
      "127.0.0.1 - - [25/Aug/2022 17:08:48] \"GET /?name=LL HTTP/1.1\" 200 -\n"
     ]
    }
   ],
   "source": [
    "# GET參數，使用表單\n",
    "from flask import Flask, request\n",
    "app = Flask(__name__)\n",
    "\n",
    "@app.route('/')\n",
    "def index():\n",
    "    if request.method == 'GET' and request.args.get('name') != None:\n",
    "        name = request.args.get('name')\n",
    "        return f'Hello, {name}.'\n",
    "    return \"\"\"\n",
    "    <form method = 'get'>\n",
    "      <input type = 'text' name = 'name'>\n",
    "      <button type = 'submit'>Submit</buttton>\n",
    "    </form>\n",
    "    \"\"\"\n",
    "\n",
    "if __name__ == \"__main__\":\n",
    "    app.run()"
   ]
  },
  {
   "cell_type": "code",
   "execution_count": null,
   "metadata": {},
   "outputs": [
    {
     "name": "stdout",
     "output_type": "stream",
     "text": [
      " * Serving Flask app '__main__'\n",
      " * Debug mode: off\n"
     ]
    },
    {
     "name": "stderr",
     "output_type": "stream",
     "text": [
      "WARNING: This is a development server. Do not use it in a production deployment. Use a production WSGI server instead.\n",
      " * Running on http://127.0.0.1:5000\n",
      "Press CTRL+C to quit\n",
      "127.0.0.1 - - [26/Aug/2022 16:13:28] \"GET / HTTP/1.1\" 200 -\n",
      "127.0.0.1 - - [26/Aug/2022 16:13:32] \"POST / HTTP/1.1\" 200 -\n"
     ]
    }
   ],
   "source": [
    "# POST參數\n",
    "from flask import Flask, request\n",
    "app = Flask(__name__)\n",
    "\n",
    "@app.route('/', methods=['GET', 'POST'])\n",
    "def index():\n",
    "    if request.method == 'POST':\n",
    "        name = request.form.get('name')\n",
    "        # request.values.get('name')\n",
    "        return f\"Hello, {name}.\"\n",
    "    \n",
    "    return \"\"\"\n",
    "    <form method='post'>\n",
    "        <input type='text' name = 'name'>\n",
    "        <button type='submit'>Submit</button>\n",
    "    </form>\n",
    "    \"\"\"\n",
    "\n",
    "\n",
    "if __name__ == \"__main__\":\n",
    "    app.run()"
   ]
  },
  {
   "cell_type": "markdown",
   "metadata": {},
   "source": [
    "# Flask Web APP 開發"
   ]
  },
  {
   "cell_type": "markdown",
   "metadata": {},
   "source": [
    "## 範例：BMI計算器\n",
    "\n",
    "### 計算公式\n",
    "\n",
    "$ BMI = 體重(kg) / 身高(m)^2 $"
   ]
  }
 ],
 "metadata": {
  "kernelspec": {
   "display_name": "Python 3",
   "language": "python",
   "name": "python3"
  },
  "language_info": {
   "codemirror_mode": {
    "name": "ipython",
    "version": 3
   },
   "file_extension": ".py",
   "mimetype": "text/x-python",
   "name": "python",
   "nbconvert_exporter": "python",
   "pygments_lexer": "ipython3",
   "version": "3.7.6"
  }
 },
 "nbformat": 4,
 "nbformat_minor": 4
}
