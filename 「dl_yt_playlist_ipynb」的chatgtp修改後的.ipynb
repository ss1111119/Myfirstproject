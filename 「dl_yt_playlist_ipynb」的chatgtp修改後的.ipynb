{
  "nbformat": 4,
  "nbformat_minor": 0,
  "metadata": {
    "colab": {
      "provenance": [],
      "history_visible": true,
      "include_colab_link": true
    },
    "kernelspec": {
      "name": "python3",
      "display_name": "Python 3"
    }
  },
  "cells": [
    {
      "cell_type": "markdown",
      "metadata": {
        "id": "view-in-github",
        "colab_type": "text"
      },
      "source": [
        "<a href=\"https://colab.research.google.com/github/ss1111119/Myfirstproject/blob/main/%E3%80%8Cdl_yt_playlist_ipynb%E3%80%8D%E7%9A%84chatgtp%E4%BF%AE%E6%94%B9%E5%BE%8C%E7%9A%84.ipynb\" target=\"_parent\"><img src=\"https://colab.research.google.com/assets/colab-badge.svg\" alt=\"Open In Colab\"/></a>"
      ]
    },
    {
      "cell_type": "markdown",
      "metadata": {
        "id": "P7_DoS3ARXLT"
      },
      "source": [
        "# Download a list of youtube files and save in drive folder\n",
        "<ol>\n",
        "<li>Make a modifiable copy with File -> Open a Copy in colab</li>\n",
        "<li>Mount your drive by clicking the drive icon in the file explorer on the left</li>\n",
        "<li>Modify the youtube in yt_urls</li>\n",
        "<li>Change output_folder to the folder you wish to store mp3's</li>\n",
        "<li>Run cells, et voila, you have youtube playlist as mp3's in your drive</li>\n",
        "</ol>\n",
        "\n",
        "\n",
        "# note: you can test this notebook by just running the cells in order below\n"
      ]
    },
    {
      "cell_type": "code",
      "metadata": {
        "id": "_0SXspzOm7kD"
      },
      "source": [
        "!pip install --upgrade youtube_dl\n",
        "!apt -y install ffmpeg lame"
      ],
      "execution_count": null,
      "outputs": []
    },
    {
      "cell_type": "code",
      "metadata": {
        "id": "W7bW6g_AwxfX"
      },
      "source": [
        "# Change this to the youtube urls you want\n",
        "yt_urls = ['https://www.youtube.com/watch?v=6dSDy4Oe80E']\n",
        "\n",
        "# change this to /content/drive/My Drive/folder_you_want\n",
        "output_folder = '/content/drive/My Drive/Colab Notebooks/'\n",
        "\n",
        "import os\n",
        "def my_mkdirs(folder):\n",
        "  if os.path.exists(folder)==False:\n",
        "    os.makedirs(folder)\n",
        "my_mkdirs('/content/tmp/')\n",
        "\n",
        "my_mkdirs(output_folder)"
      ],
      "execution_count": null,
      "outputs": []
    },
    {
      "cell_type": "code",
      "metadata": {
        "id": "S2a09176Ni1w",
        "outputId": "5042ce5d-d08b-4004-dc9c-e39bafcf9701",
        "colab": {
          "base_uri": "https://localhost:8080/"
        }
      },
      "source": [
        "# download youtube videos\n",
        "for ind,url in enumerate(yt_urls):\n",
        "  !youtube-dl $url -f 'bestaudio[ext=m4a]' -o 'tmp/%(title)s.m4a'\n",
        "# !youtube-dl https://www.youtube.com/watch?v=Mhi6Lb52ZbM -f 'bestaudio[ext=m4a]' -o tmp3.m4a"
      ],
      "execution_count": null,
      "outputs": [
        {
          "output_type": "stream",
          "name": "stdout",
          "text": [
            "[youtube] 6dSDy4Oe80E: Downloading webpage\n",
            "[download] Destination: tmp/Astrid S - Dance Dance Dance (Official Lyric Video).m4a\n",
            "\u001b[K[download] 100% of 2.47MiB in 00:39\n",
            "[ffmpeg] Correcting container in \"tmp/Astrid S - Dance Dance Dance (Official Lyric Video).m4a\"\n"
          ]
        }
      ]
    },
    {
      "cell_type": "code",
      "metadata": {
        "id": "bZgkWE2czE-o",
        "outputId": "eada8d0c-6af6-434f-a8be-0cd7f2cc496a",
        "colab": {
          "base_uri": "https://localhost:8080/"
        }
      },
      "source": [
        "# convert to mp3 and move to drive\n",
        "import glob\n",
        "files = glob.glob('/content/tmp/*')\n",
        "print(files)\n",
        "for file in files:\n",
        "  out_file = f'{output_folder}{file[18:-6]}.mp3'\n",
        "  file = file.replace(' ',' ')\n",
        "  out_file = out_file.replace(' ',' ')\n",
        "  !ffmpeg -i \"$file\" -vn -ab 128k -ar 44100 -y \"$out_file\""
      ],
      "execution_count": 1,
      "outputs": [
        {
          "output_type": "stream",
          "name": "stdout",
          "text": [
            "[]\n"
          ]
        }
      ]
    },
    {
      "cell_type": "code",
      "source": [],
      "metadata": {
        "id": "7_Bd2cbsv9RW"
      },
      "execution_count": null,
      "outputs": []
    }
  ]
}