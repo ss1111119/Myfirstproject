{
  "nbformat": 4,
  "nbformat_minor": 0,
  "metadata": {
    "colab": {
      "name": "20220819.ipynb",
      "provenance": [],
      "authorship_tag": "ABX9TyPt7YV2WIYkv3R5FxAJgIjQ",
      "include_colab_link": true
    },
    "kernelspec": {
      "name": "python3",
      "display_name": "Python 3"
    },
    "language_info": {
      "name": "python"
    }
  },
  "cells": [
    {
      "cell_type": "markdown",
      "metadata": {
        "id": "view-in-github",
        "colab_type": "text"
      },
      "source": [
        "<a href=\"https://colab.research.google.com/github/ss1111119/Myfirstproject/blob/main/20220819.ipynb\" target=\"_parent\"><img src=\"https://colab.research.google.com/assets/colab-badge.svg\" alt=\"Open In Colab\"/></a>"
      ]
    },
    {
      "cell_type": "markdown",
      "source": [
        "# 亂數模組"
      ],
      "metadata": {
        "id": "f_PKV_3YHCsU"
      }
    },
    {
      "cell_type": "code",
      "source": [
        "#使用自建模組\n",
        "import tool as t"
      ],
      "metadata": {
        "id": "vg5P952nII9j"
      },
      "execution_count": null,
      "outputs": []
    },
    {
      "cell_type": "code",
      "source": [
        "t.hello()"
      ],
      "metadata": {
        "colab": {
          "base_uri": "https://localhost:8080/",
          "height": 253
        },
        "id": "qH_Ol0eZI6pI",
        "outputId": "1494adbe-8b02-4a8c-d0b5-387f499b7601"
      },
      "execution_count": null,
      "outputs": [
        {
          "output_type": "error",
          "ename": "TypeError",
          "evalue": "ignored",
          "traceback": [
            "\u001b[0;31m---------------------------------------------------------------------------\u001b[0m",
            "\u001b[0;31mTypeError\u001b[0m                                 Traceback (most recent call last)",
            "\u001b[0;32m<ipython-input-27-56217e80aac0>\u001b[0m in \u001b[0;36m<module>\u001b[0;34m\u001b[0m\n\u001b[0;32m----> 1\u001b[0;31m \u001b[0mt\u001b[0m\u001b[0;34m.\u001b[0m\u001b[0mhello\u001b[0m\u001b[0;34m(\u001b[0m\u001b[0;34m)\u001b[0m\u001b[0;34m\u001b[0m\u001b[0;34m\u001b[0m\u001b[0m\n\u001b[0m",
            "\u001b[0;32m/content/tool.py\u001b[0m in \u001b[0;36mhello\u001b[0;34m()\u001b[0m\n\u001b[1;32m      2\u001b[0m \u001b[0;34m\u001b[0m\u001b[0m\n\u001b[1;32m      3\u001b[0m \u001b[0;32mdef\u001b[0m \u001b[0mhello\u001b[0m\u001b[0;34m(\u001b[0m\u001b[0;34m)\u001b[0m\u001b[0;34m:\u001b[0m\u001b[0;34m\u001b[0m\u001b[0;34m\u001b[0m\u001b[0m\n\u001b[0;32m----> 4\u001b[0;31m     \u001b[0mprint\u001b[0m\u001b[0;34m(\u001b[0m\u001b[0;34m'Hello'\u001b[0m\u001b[0;34m)\u001b[0m\u001b[0;34m\u001b[0m\u001b[0;34m\u001b[0m\u001b[0m\n\u001b[0m",
            "\u001b[0;31mTypeError\u001b[0m: 'builtin_function_or_method' object is not subscriptable"
          ]
        }
      ]
    },
    {
      "cell_type": "code",
      "source": [
        "import random as r"
      ],
      "metadata": {
        "id": "k8F9THpDeiDi"
      },
      "execution_count": 2,
      "outputs": []
    },
    {
      "cell_type": "code",
      "source": [
        "r.randint(1, 6)"
      ],
      "metadata": {
        "colab": {
          "base_uri": "https://localhost:8080/"
        },
        "id": "GZydx9rueqkh",
        "outputId": "fabd603e-6974-40eb-8ce9-e4210a85f381"
      },
      "execution_count": null,
      "outputs": [
        {
          "output_type": "execute_result",
          "data": {
            "text/plain": [
              "2"
            ]
          },
          "metadata": {},
          "execution_count": 29
        }
      ]
    },
    {
      "cell_type": "code",
      "source": [
        "r.choice('12345')\n",
        "r.choice([1,2,3,4,5,6])\n",
        "r.sample([1,2,3,4,5,6],3)"
      ],
      "metadata": {
        "colab": {
          "base_uri": "https://localhost:8080/"
        },
        "id": "MrLcSh9H7Xnz",
        "outputId": "55fe8372-f8ee-44d0-b62c-d9ff71a21f25"
      },
      "execution_count": 6,
      "outputs": [
        {
          "output_type": "execute_result",
          "data": {
            "text/plain": [
              "[3, 2, 6]"
            ]
          },
          "metadata": {},
          "execution_count": 6
        }
      ]
    },
    {
      "cell_type": "markdown",
      "source": [
        "# 範例：擲骰子遊戲"
      ],
      "metadata": {
        "id": "Pyrr8bDAe-fx"
      }
    },
    {
      "cell_type": "code",
      "source": [
        "# 擲骰子遊戲\n",
        "\n",
        "while True:\n",
        "inkey = input(\"請輸入任何鍵再按【Enter】鍵擲骰子，直接按【Enter】鍵結束：\")\n",
        "num = r.randint(1, 6)\n",
        "num"
      ],
      "metadata": {
        "colab": {
          "base_uri": "https://localhost:8080/"
        },
        "id": "vGY9Oys_5bP8",
        "outputId": "a857b1ad-1523-49eb-f5b2-22e2d407ef42"
      },
      "execution_count": null,
      "outputs": [
        {
          "name": "stdout",
          "output_type": "stream",
          "text": [
            "請輸入任何鍵再按【Enter】鍵擲骰子，直接按【Enter】鍵結束：34\n"
          ]
        },
        {
          "output_type": "execute_result",
          "data": {
            "text/plain": [
              "2"
            ]
          },
          "metadata": {},
          "execution_count": 32
        }
      ]
    },
    {
      "cell_type": "code",
      "source": [
        "# 擲骰子遊戲\n",
        "import random as r\n",
        "\n",
        "while True:\n",
        "  inkey = input(\"請輸入任何鍵再按【Enter】鍵擲骰子，直接按【Enter】鍵結束：\")\n",
        "  if inkey == '':\n",
        "      print(\"結束遊戲\")\n",
        "      break\n",
        "  else:\n",
        "    num = r.randint(1, 6)\n",
        "    print(\"你擲的骰子點數為：\" + str(num))"
      ],
      "metadata": {
        "colab": {
          "base_uri": "https://localhost:8080/"
        },
        "id": "YbmA6gcJ8NSw",
        "outputId": "dc263867-7d07-46b3-b714-c9d1858de809"
      },
      "execution_count": null,
      "outputs": [
        {
          "output_type": "stream",
          "name": "stdout",
          "text": [
            "請輸入任何鍵再按【Enter】鍵擲骰子，直接按【Enter】鍵結束：e\n",
            "你擲的骰子點數為：4\n",
            "請輸入任何鍵再按【Enter】鍵擲骰子，直接按【Enter】鍵結束：\n",
            "結束遊戲\n"
          ]
        }
      ]
    },
    {
      "cell_type": "code",
      "source": [
        "import random as r\n",
        "\n",
        "str1 = '⚀⚁⚂⚃⚄⚅'\n",
        "# num = 1\n",
        "# print(num)\n",
        "# print(str1[num-1])\n",
        "while True:\n",
        "    inkey=input(\"請輸入任意鍵再按【Enter】鍵擲骰子，直接按【Enter】鍵結束:\")\n",
        "    if inkey == '':\n",
        "        print('結束遊戲')\n",
        "        break\n",
        "    else:\n",
        "      num = r.randint(1, 6)\n",
        "      print(\"你擲的骰子點數為：\" + str1[num-1])"
      ],
      "metadata": {
        "colab": {
          "base_uri": "https://localhost:8080/"
        },
        "id": "kbZF_7fTPWl_",
        "outputId": "3ce31137-629d-4a1b-e9e2-380b1520a297"
      },
      "execution_count": null,
      "outputs": [
        {
          "output_type": "stream",
          "name": "stdout",
          "text": [
            "請輸入任意鍵再按【Enter】鍵擲骰子，直接按【Enter】鍵結束:a\n",
            "你擲的骰子點數為：⚀\n",
            "請輸入任意鍵再按【Enter】鍵擲骰子，直接按【Enter】鍵結束:s\n",
            "你擲的骰子點數為：⚅\n",
            "請輸入任意鍵再按【Enter】鍵擲骰子，直接按【Enter】鍵結束:d\n",
            "你擲的骰子點數為：⚁\n",
            "請輸入任意鍵再按【Enter】鍵擲骰子，直接按【Enter】鍵結束:\n",
            "結束遊戲\n"
          ]
        }
      ]
    },
    {
      "cell_type": "markdown",
      "source": [
        "# 範例：大樂透中獎號碼"
      ],
      "metadata": {
        "id": "dp1Cbo-sOZdB"
      }
    },
    {
      "cell_type": "code",
      "source": [
        "# 大樂透中獎號碼\n",
        "import random as r\n",
        "list1 = r.sample(range(1, 50),7)\n",
        "special = list1.pop()\n",
        "list1.sort()\n",
        "# print(list1, special)\n",
        "\n",
        "print(\"本期大樂透中獎號碼為：\" , end = \"\")\n",
        "for i in range(0, 6): #在[]取出來。\n",
        "    if i == 5:\n",
        "      print(str(list1[i]))\n",
        "    else:\n",
        "      print(str(list1[i]),end = ',')\n",
        "print(\"本期大樂透特別號碼為：\" + str(special))"
      ],
      "metadata": {
        "id": "dfg4Qj-JOlXk",
        "colab": {
          "base_uri": "https://localhost:8080/"
        },
        "outputId": "33694cce-b5db-493f-bb8a-aa89fdcc51f1"
      },
      "execution_count": 17,
      "outputs": [
        {
          "output_type": "stream",
          "name": "stdout",
          "text": [
            "本期大樂透中獎號碼為：1,14,19,20,29,49\n",
            "本期大樂透特別號碼為：17\n"
          ]
        }
      ]
    }
  ]
}